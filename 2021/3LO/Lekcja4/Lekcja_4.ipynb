{
 "cells": [
  {
   "cell_type": "markdown",
   "id": "opponent-seminar",
   "metadata": {},
   "source": [
    "## Python - praca z plikami ##\n"
   ]
  },
  {
   "cell_type": "markdown",
   "id": "related-module",
   "metadata": {},
   "source": [
    "**praca z plikiem tekstowym**\n"
   ]
  },
  {
   "cell_type": "code",
   "execution_count": 1,
   "id": "sunrise-pierce",
   "metadata": {},
   "outputs": [],
   "source": [
    "file = open('slowa.txt', mode='r', encoding='utf-8')"
   ]
  },
  {
   "cell_type": "code",
   "execution_count": 2,
   "id": "copyrighted-flood",
   "metadata": {},
   "outputs": [],
   "source": [
    "lista=[]"
   ]
  },
  {
   "cell_type": "code",
   "execution_count": 3,
   "id": "annual-valve",
   "metadata": {},
   "outputs": [],
   "source": [
    "for e in file:\n",
    "    lista.append(e)\n",
    "file.close()"
   ]
  },
  {
   "cell_type": "code",
   "execution_count": 4,
   "id": "treated-porcelain",
   "metadata": {},
   "outputs": [
    {
     "name": "stdout",
     "output_type": "stream",
     "text": [
      "['mieszkał,tam,król,ze,swoją,żoną,i,córką,król,był,uczciwy,i,dobry,dla,swoich,poddanych,ale,nie,umiał,sam,rządzić,w,królestwie,potrzebował,dobrego,mądrego,doradcy,z,pomocą,do,niego,przyszła,wróżka,powiedziała,że,w,dalekiej,krainie,mieszka,mądry,smok,który,raz,na,sto,lat,daje,jedno,jajo,to,jest,zaczarowane,jajo,jeden,warunek,trzeba,spełnić,aby,je,posiąść,może,je,dostać,tylko,dobry,człowiek,król,postanowił,szukać,smoka,i,dostać,jajo,wtedy,do,smoka,przybył,czarnoksiężnik,zażądał,jaja,smok,powiedział,że,już,oddał,jajo,zły,czarownik,chciał,wiedzieć,komu,je,oddał,jednak,smok,nic,mu,nie,powiedział,czarnoksiężnik,wtedy,zabił,smoka,ruszył,na,poszukiwanie,obecnego,właściciela,jaja,kiedy,król,wrócił,wyprawy,ze,smoczym,jajem,najbardziej,cieszyła,się,królewna,codziennie,pielęgnowała,jajo,czekała,aż,się,wykluje,niego,smok,wreszcie,nadeszła,ta,chwila,pewnego,ranka,jaja,wykluł,się,mały,fioletowy,smok,księżniczka,dała,mu,na,imię,foks,ich,przyjaźń,rozkwitała,razem,spędzali,dużo,czasu,']\n"
     ]
    }
   ],
   "source": [
    "print(lista)"
   ]
  },
  {
   "cell_type": "code",
   "execution_count": 5,
   "id": "behavioral-pound",
   "metadata": {},
   "outputs": [
    {
     "name": "stdout",
     "output_type": "stream",
     "text": [
      "mieszkał,tam,król,ze,swoją,żoną,i,córką,król,był,uczciwy,i,dobry,dla,swoich,poddanych,ale,nie,umiał,sam,rządzić,w,królestwie,potrzebował,dobrego,mądrego,doradcy,z,pomocą,do,niego,przyszła,wróżka,powiedziała,że,w,dalekiej,krainie,mieszka,mądry,smok,który,raz,na,sto,lat,daje,jedno,jajo,to,jest,zaczarowane,jajo,jeden,warunek,trzeba,spełnić,aby,je,posiąść,może,je,dostać,tylko,dobry,człowiek,król,postanowił,szukać,smoka,i,dostać,jajo,wtedy,do,smoka,przybył,czarnoksiężnik,zażądał,jaja,smok,powiedział,że,już,oddał,jajo,zły,czarownik,chciał,wiedzieć,komu,je,oddał,jednak,smok,nic,mu,nie,powiedział,czarnoksiężnik,wtedy,zabił,smoka,ruszył,na,poszukiwanie,obecnego,właściciela,jaja,kiedy,król,wrócił,wyprawy,ze,smoczym,jajem,najbardziej,cieszyła,się,królewna,codziennie,pielęgnowała,jajo,czekała,aż,się,wykluje,niego,smok,wreszcie,nadeszła,ta,chwila,pewnego,ranka,jaja,wykluł,się,mały,fioletowy,smok,księżniczka,dała,mu,na,imię,foks,ich,przyjaźń,rozkwitała,razem,spędzali,dużo,czasu,\n"
     ]
    }
   ],
   "source": [
    "for e in lista:\n",
    "    print(e)"
   ]
  },
  {
   "cell_type": "code",
   "execution_count": null,
   "id": "341304be",
   "metadata": {},
   "outputs": [],
   "source": []
  },
  {
   "cell_type": "code",
   "execution_count": null,
   "id": "7b58b6c3",
   "metadata": {},
   "outputs": [],
   "source": []
  },
  {
   "cell_type": "code",
   "execution_count": 10,
   "id": "collectible-rental",
   "metadata": {},
   "outputs": [
    {
     "name": "stdout",
     "output_type": "stream",
     "text": [
      "4\n"
     ]
    }
   ],
   "source": [
    "print(lista.count('król\\n'))"
   ]
  },
  {
   "cell_type": "code",
   "execution_count": 9,
   "id": "educational-haiti",
   "metadata": {},
   "outputs": [],
   "source": [
    "file = open('slowa.txt', mode='r', encoding='utf-8')\n",
    "content = file.read()"
   ]
  },
  {
   "cell_type": "code",
   "execution_count": 35,
   "id": "prime-polls",
   "metadata": {},
   "outputs": [],
   "source": [
    "lst=['mieszkał', 'tam', 'król', 'ze', 'swoją', 'żoną', 'i', 'córką', 'król', 'był', 'uczciwy', 'i', 'dobry', 'dla', 'swoich', 'poddanych', 'ale', 'nie', 'umiał', 'sam', 'rządzić', 'w', 'królestwie', 'potrzebował', 'dobrego', 'mądrego', 'doradcy', 'z', 'pomocą', 'do', 'niego', 'przyszła', 'wróżka', 'powiedziała', 'że', 'w', 'dalekiej', 'krainie', 'mieszka', 'mądry', 'smok', 'który', 'raz', 'na', 'sto', 'lat', 'daje', 'jedno', 'jajo', 'to', 'jest', 'zaczarowane', 'jajo', 'jeden', 'warunek', 'trzeba', 'spełnić', 'aby', 'je', 'posiąść', 'może', 'je', 'dostać', 'tylko', 'dobry', 'człowiek', 'król', 'postanowił', 'szukać', 'smoka', 'i', 'dostać', 'jajo',\n",
    "'wtedy','do','smoka','przybył','czarnoksiężnik','zażądał','jaja','smok','powiedział','że','już','oddał','jajo','zły','czarownik','chciał','wiedzieć','komu','je','oddał','jednak','smok','nic','mu','nie','powiedział','czarnoksiężnik','wtedy','zabił','smoka','ruszył','na','poszukiwanie','obecnego','właściciela','jaja','kiedy','król','wrócił','wyprawy','ze','smoczym','jajem','najbardziej','cieszyła','się','królewna','codziennie','pielęgnowała','jajo','czekała','aż','się','wykluje','niego','smok','wreszcie','nadeszła','ta','chwila','pewnego','ranka','jaja','wykluł','się','mały','fioletowy','smok','księżniczka','dała','mu','na','imię','foks','ich','przyjaźń','rozkwitała','razem','spędzali','dużo','czasu']"
   ]
  },
  {
   "cell_type": "code",
   "execution_count": 7,
   "id": "incoming-receptor",
   "metadata": {},
   "outputs": [
    {
     "data": {
      "text/plain": [
       "False"
      ]
     },
     "execution_count": 7,
     "metadata": {},
     "output_type": "execute_result"
    }
   ],
   "source": [
    "file.closed"
   ]
  },
  {
   "cell_type": "code",
   "execution_count": 10,
   "id": "6a98b42c",
   "metadata": {},
   "outputs": [],
   "source": [
    "lst = content.split(',')"
   ]
  },
  {
   "cell_type": "code",
   "execution_count": 11,
   "id": "0273a34f",
   "metadata": {},
   "outputs": [
    {
     "name": "stdout",
     "output_type": "stream",
     "text": [
      "['mieszkał', 'tam', 'król', 'ze', 'swoją', 'żoną', 'i', 'córką', 'król', 'był', 'uczciwy', 'i', 'dobry', 'dla', 'swoich', 'poddanych', 'ale', 'nie', 'umiał', 'sam', 'rządzić', 'w', 'królestwie', 'potrzebował', 'dobrego', 'mądrego', 'doradcy', 'z', 'pomocą', 'do', 'niego', 'przyszła', 'wróżka', 'powiedziała', 'że', 'w', 'dalekiej', 'krainie', 'mieszka', 'mądry', 'smok', 'który', 'raz', 'na', 'sto', 'lat', 'daje', 'jedno', 'jajo', 'to', 'jest', 'zaczarowane', 'jajo', 'jeden', 'warunek', 'trzeba', 'spełnić', 'aby', 'je', 'posiąść', 'może', 'je', 'dostać', 'tylko', 'dobry', 'człowiek', 'król', 'postanowił', 'szukać', 'smoka', 'i', 'dostać', 'jajo', 'wtedy', 'do', 'smoka', 'przybył', 'czarnoksiężnik', 'zażądał', 'jaja', 'smok', 'powiedział', 'że', 'już', 'oddał', 'jajo', 'zły', 'czarownik', 'chciał', 'wiedzieć', 'komu', 'je', 'oddał', 'jednak', 'smok', 'nic', 'mu', 'nie', 'powiedział', 'czarnoksiężnik', 'wtedy', 'zabił', 'smoka', 'ruszył', 'na', 'poszukiwanie', 'obecnego', 'właściciela', 'jaja', 'kiedy', 'król', 'wrócił', 'wyprawy', 'ze', 'smoczym', 'jajem', 'najbardziej', 'cieszyła', 'się', 'królewna', 'codziennie', 'pielęgnowała', 'jajo', 'czekała', 'aż', 'się', 'wykluje', 'niego', 'smok', 'wreszcie', 'nadeszła', 'ta', 'chwila', 'pewnego', 'ranka', 'jaja', 'wykluł', 'się', 'mały', 'fioletowy', 'smok', 'księżniczka', 'dała', 'mu', 'na', 'imię', 'foks', 'ich', 'przyjaźń', 'rozkwitała', 'razem', 'spędzali', 'dużo', 'czasu', '']\n"
     ]
    }
   ],
   "source": [
    "print(lst)"
   ]
  },
  {
   "cell_type": "code",
   "execution_count": 14,
   "id": "interested-prerequisite",
   "metadata": {},
   "outputs": [],
   "source": [
    "file.close()"
   ]
  },
  {
   "cell_type": "code",
   "execution_count": 19,
   "id": "loose-province",
   "metadata": {},
   "outputs": [],
   "source": [
    "file = open('slowa.txt', mode='w', encoding='utf-8')"
   ]
  },
  {
   "cell_type": "code",
   "execution_count": 20,
   "id": "green-australia",
   "metadata": {},
   "outputs": [],
   "source": [
    "for e in lst:\n",
    "    file.write(e)\n",
    "    file.write(' ')\n",
    "file.close()"
   ]
  },
  {
   "cell_type": "code",
   "execution_count": 21,
   "id": "wooden-memphis",
   "metadata": {},
   "outputs": [],
   "source": [
    "lista=[]\n",
    "file = open('slowa.txt', mode='r', encoding='utf-8')\n",
    "for e in file:\n",
    "    lista.append(e)"
   ]
  },
  {
   "cell_type": "code",
   "execution_count": 22,
   "id": "exterior-market",
   "metadata": {},
   "outputs": [],
   "source": [
    "file.close()"
   ]
  },
  {
   "cell_type": "code",
   "execution_count": 28,
   "id": "abstract-electronics",
   "metadata": {},
   "outputs": [
    {
     "name": "stdout",
     "output_type": "stream",
     "text": [
      "['wtedy do smoka przybył czarnoksiężnik zażądał jaja smok powiedział że już oddał jajo zły czarownik chciał wiedzieć komu je oddał jednak smok nic mu nie powiedział czarnoksiężnik wtedy zabił smoka ruszył na poszukiwanie obecnego właściciela jaja kiedy król wrócił wyprawy ze smoczym jajem najbardziej cieszyła się królewna codziennie pielęgnowała jajo czekała aż się wykluje niego smok wreszcie nadeszła ta chwila pewnego ranka jaja wykluł się mały fioletowy smok księżniczka dała mu na imię foks ich przyjaźń rozkwitała razem spędzali dużo czasu ']\n"
     ]
    }
   ],
   "source": [
    "print(lista)"
   ]
  },
  {
   "cell_type": "code",
   "execution_count": 31,
   "id": "north-turtle",
   "metadata": {},
   "outputs": [],
   "source": [
    "a = lista"
   ]
  },
  {
   "cell_type": "code",
   "execution_count": 32,
   "id": "postal-messenger",
   "metadata": {},
   "outputs": [
    {
     "data": {
      "text/plain": [
       "0"
      ]
     },
     "execution_count": 32,
     "metadata": {},
     "output_type": "execute_result"
    }
   ],
   "source": [
    "a.count('smok')"
   ]
  },
  {
   "cell_type": "code",
   "execution_count": 33,
   "id": "environmental-exclusive",
   "metadata": {},
   "outputs": [
    {
     "data": {
      "text/plain": [
       "True"
      ]
     },
     "execution_count": 33,
     "metadata": {},
     "output_type": "execute_result"
    }
   ],
   "source": [
    "file.closed"
   ]
  },
  {
   "cell_type": "code",
   "execution_count": 37,
   "id": "invalid-resort",
   "metadata": {},
   "outputs": [],
   "source": [
    "file = open('words.txt', mode='a+', encoding='utf-8')"
   ]
  },
  {
   "cell_type": "code",
   "execution_count": 38,
   "id": "continent-scenario",
   "metadata": {},
   "outputs": [],
   "source": [
    "for e in lst:\n",
    "    file.write(e)\n",
    "    file.write('\\n')\n",
    "file.close()"
   ]
  },
  {
   "cell_type": "code",
   "execution_count": 40,
   "id": "random-reward",
   "metadata": {},
   "outputs": [],
   "source": [
    "lista=[]\n",
    "file = open('words.txt', mode='r', encoding='utf-8')\n",
    "for e in file:\n",
    "    lista.append(e)\n",
    "file.close()"
   ]
  },
  {
   "cell_type": "code",
   "execution_count": 51,
   "id": "passing-column",
   "metadata": {},
   "outputs": [
    {
     "name": "stdout",
     "output_type": "stream",
     "text": [
      "['aby\\n', 'ale\\n', 'aż\\n', 'był\\n', 'chciał\\n', 'chwila\\n', 'cieszyła\\n', 'codziennie\\n', 'czarnoksiężnik\\n', 'czarnoksiężnik\\n', 'czarownik\\n', 'czasu\\n', 'czekała\\n', 'człowiek\\n', 'córką\\n', 'daje\\n', 'dalekiej\\n', 'dała\\n', 'dla\\n', 'do\\n', 'do\\n', 'dobrego\\n', 'dobry\\n', 'dobry\\n', 'doradcy\\n', 'dostać\\n', 'dostać\\n', 'dużo\\n', 'fioletowy\\n', 'foks\\n', 'i\\n', 'i\\n', 'i\\n', 'ich\\n', 'imię\\n', 'jaja\\n', 'jaja\\n', 'jaja\\n', 'jajem\\n', 'jajo\\n', 'jajo\\n', 'jajo\\n', 'jajo\\n', 'jajo\\n', 'je\\n', 'je\\n', 'je\\n', 'jeden\\n', 'jednak\\n', 'jedno\\n', 'jest\\n', 'już\\n', 'kiedy\\n', 'komu\\n', 'krainie\\n', 'król\\n', 'król\\n', 'król\\n', 'król\\n', 'królestwie\\n', 'królewna\\n', 'księżniczka\\n', 'który\\n', 'lat\\n', 'mały\\n', 'mieszka\\n', 'mieszkał\\n', 'może\\n', 'mu\\n', 'mu\\n', 'mądrego\\n', 'mądry\\n', 'na\\n', 'na\\n', 'na\\n', 'nadeszła\\n', 'najbardziej\\n', 'nic\\n', 'nie\\n', 'nie\\n', 'niego\\n', 'niego\\n', 'obecnego\\n', 'oddał\\n', 'oddał\\n', 'pewnego\\n', 'pielęgnowała\\n', 'poddanych\\n', 'pomocą\\n', 'posiąść\\n', 'postanowił\\n', 'poszukiwanie\\n', 'potrzebował\\n', 'powiedział\\n', 'powiedział\\n', 'powiedziała\\n', 'przybył\\n', 'przyjaźń\\n', 'przyszła\\n', 'ranka\\n', 'raz\\n', 'razem\\n', 'rozkwitała\\n', 'ruszył\\n', 'rządzić\\n', 'sam\\n', 'się\\n', 'się\\n', 'się\\n', 'smoczym\\n', 'smok\\n', 'smok\\n', 'smok\\n', 'smok\\n', 'smok\\n', 'smoka\\n', 'smoka\\n', 'smoka\\n', 'spełnić\\n', 'spędzali\\n', 'sto\\n', 'swoich\\n', 'swoją\\n', 'szukać\\n', 'ta\\n', 'tam\\n', 'to\\n', 'trzeba\\n', 'tylko\\n', 'uczciwy\\n', 'umiał\\n', 'w\\n', 'w\\n', 'warunek\\n', 'wiedzieć\\n', 'wreszcie\\n', 'wrócił\\n', 'wróżka\\n', 'wtedy\\n', 'wtedy\\n', 'wykluje\\n', 'wykluł\\n', 'wyprawy\\n', 'właściciela\\n', 'z\\n', 'zabił\\n', 'zaczarowane\\n', 'zażądał\\n', 'ze\\n', 'ze\\n', 'zły\\n', 'że\\n', 'że\\n', 'żoną\\n']\n"
     ]
    }
   ],
   "source": [
    "print(lista)"
   ]
  },
  {
   "cell_type": "code",
   "execution_count": 52,
   "id": "smart-integrity",
   "metadata": {},
   "outputs": [],
   "source": [
    "lista.sort()"
   ]
  },
  {
   "cell_type": "code",
   "execution_count": 47,
   "id": "centered-recipe",
   "metadata": {},
   "outputs": [
    {
     "data": {
      "text/plain": [
       "4"
      ]
     },
     "execution_count": 47,
     "metadata": {},
     "output_type": "execute_result"
    }
   ],
   "source": [
    "lista.count('król\\n')"
   ]
  },
  {
   "cell_type": "code",
   "execution_count": 53,
   "id": "material-thumb",
   "metadata": {},
   "outputs": [],
   "source": [
    "a = lista"
   ]
  },
  {
   "cell_type": "code",
   "execution_count": 54,
   "id": "technical-reception",
   "metadata": {},
   "outputs": [
    {
     "name": "stdout",
     "output_type": "stream",
     "text": [
      "['aby\\n', 'ale\\n', 'aż\\n', 'był\\n', 'chciał\\n', 'chwila\\n', 'cieszyła\\n', 'codziennie\\n', 'czarnoksiężnik\\n', 'czarnoksiężnik\\n', 'czarownik\\n', 'czasu\\n', 'czekała\\n', 'człowiek\\n', 'córką\\n', 'daje\\n', 'dalekiej\\n', 'dała\\n', 'dla\\n', 'do\\n', 'do\\n', 'dobrego\\n', 'dobry\\n', 'dobry\\n', 'doradcy\\n', 'dostać\\n', 'dostać\\n', 'dużo\\n', 'fioletowy\\n', 'foks\\n', 'i\\n', 'i\\n', 'i\\n', 'ich\\n', 'imię\\n', 'jaja\\n', 'jaja\\n', 'jaja\\n', 'jajem\\n', 'jajo\\n', 'jajo\\n', 'jajo\\n', 'jajo\\n', 'jajo\\n', 'je\\n', 'je\\n', 'je\\n', 'jeden\\n', 'jednak\\n', 'jedno\\n', 'jest\\n', 'już\\n', 'kiedy\\n', 'komu\\n', 'krainie\\n', 'król\\n', 'król\\n', 'król\\n', 'król\\n', 'królestwie\\n', 'królewna\\n', 'księżniczka\\n', 'który\\n', 'lat\\n', 'mały\\n', 'mieszka\\n', 'mieszkał\\n', 'może\\n', 'mu\\n', 'mu\\n', 'mądrego\\n', 'mądry\\n', 'na\\n', 'na\\n', 'na\\n', 'nadeszła\\n', 'najbardziej\\n', 'nic\\n', 'nie\\n', 'nie\\n', 'niego\\n', 'niego\\n', 'obecnego\\n', 'oddał\\n', 'oddał\\n', 'pewnego\\n', 'pielęgnowała\\n', 'poddanych\\n', 'pomocą\\n', 'posiąść\\n', 'postanowił\\n', 'poszukiwanie\\n', 'potrzebował\\n', 'powiedział\\n', 'powiedział\\n', 'powiedziała\\n', 'przybył\\n', 'przyjaźń\\n', 'przyszła\\n', 'ranka\\n', 'raz\\n', 'razem\\n', 'rozkwitała\\n', 'ruszył\\n', 'rządzić\\n', 'sam\\n', 'się\\n', 'się\\n', 'się\\n', 'smoczym\\n', 'smok\\n', 'smok\\n', 'smok\\n', 'smok\\n', 'smok\\n', 'smoka\\n', 'smoka\\n', 'smoka\\n', 'spełnić\\n', 'spędzali\\n', 'sto\\n', 'swoich\\n', 'swoją\\n', 'szukać\\n', 'ta\\n', 'tam\\n', 'to\\n', 'trzeba\\n', 'tylko\\n', 'uczciwy\\n', 'umiał\\n', 'w\\n', 'w\\n', 'warunek\\n', 'wiedzieć\\n', 'wreszcie\\n', 'wrócił\\n', 'wróżka\\n', 'wtedy\\n', 'wtedy\\n', 'wykluje\\n', 'wykluł\\n', 'wyprawy\\n', 'właściciela\\n', 'z\\n', 'zabił\\n', 'zaczarowane\\n', 'zażądał\\n', 'ze\\n', 'ze\\n', 'zły\\n', 'że\\n', 'że\\n', 'żoną\\n']\n"
     ]
    }
   ],
   "source": [
    "print(a)"
   ]
  },
  {
   "cell_type": "markdown",
   "id": "informative-lesbian",
   "metadata": {},
   "source": [
    "**pliki liczbowe**"
   ]
  },
  {
   "cell_type": "code",
   "execution_count": 55,
   "id": "lasting-struggle",
   "metadata": {},
   "outputs": [],
   "source": [
    "import random as rd"
   ]
  },
  {
   "cell_type": "code",
   "execution_count": 56,
   "id": "parallel-stake",
   "metadata": {},
   "outputs": [],
   "source": [
    "num = []"
   ]
  },
  {
   "cell_type": "code",
   "execution_count": 57,
   "id": "nearby-liberty",
   "metadata": {},
   "outputs": [],
   "source": [
    "for e in range(101):\n",
    "    num.append(rd.randrange(1,100))"
   ]
  },
  {
   "cell_type": "code",
   "execution_count": 58,
   "id": "healthy-frederick",
   "metadata": {},
   "outputs": [
    {
     "name": "stdout",
     "output_type": "stream",
     "text": [
      "[74, 89, 87, 3, 67, 54, 3, 18, 53, 88, 56, 6, 77, 41, 82, 31, 12, 51, 86, 14, 43, 27, 46, 41, 4, 61, 48, 44, 10, 31, 53, 41, 5, 8, 23, 89, 7, 47, 76, 95, 16, 61, 57, 56, 70, 4, 49, 21, 23, 89, 36, 23, 49, 91, 89, 29, 66, 9, 35, 90, 58, 90, 84, 43, 62, 2, 68, 83, 41, 50, 43, 21, 47, 13, 6, 65, 74, 51, 13, 26, 73, 79, 3, 27, 10, 50, 91, 48, 90, 91, 58, 8, 8, 56, 92, 88, 62, 68, 83, 85, 69]\n"
     ]
    }
   ],
   "source": [
    "print(num)"
   ]
  },
  {
   "cell_type": "code",
   "execution_count": 64,
   "id": "optical-river",
   "metadata": {},
   "outputs": [
    {
     "name": "stdout",
     "output_type": "stream",
     "text": [
      "czy plik jest zamknięty?    True\n"
     ]
    }
   ],
   "source": [
    "file = open('numbers.txt', mode='w')\n",
    "for e in num:\n",
    "    file.write(str(e))\n",
    "    file.write('\\n')\n",
    "file.close()\n",
    "print('czy plik jest zamknięty?   ', file.closed)"
   ]
  },
  {
   "cell_type": "code",
   "execution_count": 66,
   "id": "likely-finger",
   "metadata": {},
   "outputs": [],
   "source": [
    "liczby = []\n",
    "file = open('numbers.txt', mode='r')\n",
    "for e in file:\n",
    "    liczby.append(int(e))"
   ]
  },
  {
   "cell_type": "code",
   "execution_count": 67,
   "id": "sixth-validity",
   "metadata": {},
   "outputs": [],
   "source": [
    "file.close()"
   ]
  },
  {
   "cell_type": "code",
   "execution_count": 69,
   "id": "mental-cleaning",
   "metadata": {},
   "outputs": [
    {
     "name": "stdout",
     "output_type": "stream",
     "text": [
      "74  \n",
      "89  \n",
      "87  \n",
      "3  \n",
      "67  \n",
      "54  \n",
      "3  \n",
      "18  \n",
      "53  \n",
      "88  \n",
      "56  \n",
      "6  \n",
      "77  \n",
      "41  \n",
      "82  \n",
      "31  \n",
      "12  \n",
      "51  \n",
      "86  \n",
      "14  \n",
      "43  \n",
      "27  \n",
      "46  \n",
      "41  \n",
      "4  \n",
      "61  \n",
      "48  \n",
      "44  \n",
      "10  \n",
      "31  \n",
      "53  \n",
      "41  \n",
      "5  \n",
      "8  \n",
      "23  \n",
      "89  \n",
      "7  \n",
      "47  \n",
      "76  \n",
      "95  \n",
      "16  \n",
      "61  \n",
      "57  \n",
      "56  \n",
      "70  \n",
      "4  \n",
      "49  \n",
      "21  \n",
      "23  \n",
      "89  \n",
      "36  \n",
      "23  \n",
      "49  \n",
      "91  \n",
      "89  \n",
      "29  \n",
      "66  \n",
      "9  \n",
      "35  \n",
      "90  \n",
      "58  \n",
      "90  \n",
      "84  \n",
      "43  \n",
      "62  \n",
      "2  \n",
      "68  \n",
      "83  \n",
      "41  \n",
      "50  \n",
      "43  \n",
      "21  \n",
      "47  \n",
      "13  \n",
      "6  \n",
      "65  \n",
      "74  \n",
      "51  \n",
      "13  \n",
      "26  \n",
      "73  \n",
      "79  \n",
      "3  \n",
      "27  \n",
      "10  \n",
      "50  \n",
      "91  \n",
      "48  \n",
      "90  \n",
      "91  \n",
      "58  \n",
      "8  \n",
      "8  \n",
      "56  \n",
      "92  \n",
      "88  \n",
      "62  \n",
      "68  \n",
      "83  \n",
      "85  \n",
      "69  \n"
     ]
    }
   ],
   "source": [
    "for e in liczby:\n",
    "    print(e, ' ')"
   ]
  },
  {
   "cell_type": "code",
   "execution_count": 70,
   "id": "interpreted-sarah",
   "metadata": {},
   "outputs": [
    {
     "name": "stdout",
     "output_type": "stream",
     "text": [
      "4933\n"
     ]
    }
   ],
   "source": [
    "print(sum(liczby))"
   ]
  },
  {
   "cell_type": "code",
   "execution_count": 71,
   "id": "least-fleet",
   "metadata": {},
   "outputs": [
    {
     "name": "stdout",
     "output_type": "stream",
     "text": [
      "95\n"
     ]
    }
   ],
   "source": [
    "print(max(liczby))"
   ]
  },
  {
   "cell_type": "code",
   "execution_count": 72,
   "id": "increased-respect",
   "metadata": {},
   "outputs": [
    {
     "name": "stdout",
     "output_type": "stream",
     "text": [
      "2\n"
     ]
    }
   ],
   "source": [
    "print(min(liczby))"
   ]
  },
  {
   "cell_type": "code",
   "execution_count": 74,
   "id": "funny-flavor",
   "metadata": {},
   "outputs": [],
   "source": [
    "import numpy as np\n"
   ]
  },
  {
   "cell_type": "code",
   "execution_count": 75,
   "id": "advance-tournament",
   "metadata": {},
   "outputs": [
    {
     "name": "stdout",
     "output_type": "stream",
     "text": [
      "48.84158415841584\n"
     ]
    }
   ],
   "source": [
    "print(np.mean(liczby))"
   ]
  },
  {
   "cell_type": "code",
   "execution_count": 76,
   "id": "eligible-producer",
   "metadata": {},
   "outputs": [
    {
     "name": "stdout",
     "output_type": "stream",
     "text": [
      "28.847750799729837\n"
     ]
    }
   ],
   "source": [
    "print(np.std(liczby))"
   ]
  },
  {
   "cell_type": "code",
   "execution_count": 77,
   "id": "constant-basketball",
   "metadata": {},
   "outputs": [
    {
     "name": "stdout",
     "output_type": "stream",
     "text": [
      "4933\n"
     ]
    }
   ],
   "source": [
    "print(sum(liczby))"
   ]
  },
  {
   "cell_type": "code",
   "execution_count": 78,
   "id": "southwest-pearl",
   "metadata": {},
   "outputs": [
    {
     "name": "stdout",
     "output_type": "stream",
     "text": [
      "[2, 3, 3, 3, 4, 4, 5, 6, 6, 7, 8, 8, 8, 9, 10, 10, 12, 13, 13, 14, 16, 18, 21, 21, 23, 23, 23, 26, 27, 27, 29, 31, 31, 35, 36, 41, 41, 41, 41, 43, 43, 43, 44, 46, 47, 47, 48, 48, 49, 49, 50, 50, 51, 51, 53, 53, 54, 56, 56, 56, 57, 58, 58, 61, 61, 62, 62, 65, 66, 67, 68, 68, 69, 70, 73, 74, 74, 76, 77, 79, 82, 83, 83, 84, 85, 86, 87, 88, 88, 89, 89, 89, 89, 90, 90, 90, 91, 91, 91, 92, 95]\n"
     ]
    }
   ],
   "source": [
    "print(sorted(liczby))"
   ]
  },
  {
   "cell_type": "code",
   "execution_count": 81,
   "id": "realistic-mentor",
   "metadata": {},
   "outputs": [
    {
     "name": "stdout",
     "output_type": "stream",
     "text": [
      "2\n"
     ]
    }
   ],
   "source": [
    "print(liczby.count(10))"
   ]
  },
  {
   "cell_type": "code",
   "execution_count": 12,
   "id": "according-calcium",
   "metadata": {},
   "outputs": [
    {
     "name": "stdout",
     "output_type": "stream",
     "text": [
      "Jacek\n",
      "\n",
      "Jurek\n",
      "\n"
     ]
    }
   ],
   "source": [
    "lista = ['Jacek\\n', 'Jurek\\n']\n",
    "file = open('slowa.txt', mode='w', encoding='utf-8')\n",
    "file.writelines(lista)\n",
    "file.close()\n",
    "file = open('slowa.txt', 'r', encoding='utf-8')\n",
    "for line in file:\n",
    "    print(line)\n",
    "file.close()"
   ]
  },
  {
   "cell_type": "code",
   "execution_count": null,
   "id": "b7959520",
   "metadata": {},
   "outputs": [],
   "source": []
  }
 ],
 "metadata": {
  "kernelspec": {
   "display_name": "Python 3 (ipykernel)",
   "language": "python",
   "name": "python3"
  },
  "language_info": {
   "codemirror_mode": {
    "name": "ipython",
    "version": 3
   },
   "file_extension": ".py",
   "mimetype": "text/x-python",
   "name": "python",
   "nbconvert_exporter": "python",
   "pygments_lexer": "ipython3",
   "version": "3.7.12"
  }
 },
 "nbformat": 4,
 "nbformat_minor": 5
}
