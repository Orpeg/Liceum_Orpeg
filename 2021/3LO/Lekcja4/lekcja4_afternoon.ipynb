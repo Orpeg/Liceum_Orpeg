{
 "cells": [
  {
   "cell_type": "markdown",
   "id": "economic-badge",
   "metadata": {},
   "source": [
    "## Python - praca z plikami zewnętrznymi ##"
   ]
  },
  {
   "cell_type": "code",
   "execution_count": 5,
   "id": "proprietary-korean",
   "metadata": {},
   "outputs": [],
   "source": [
    "file = open('liczby.txt', mode='w', encoding='utf-8')\n",
    "\n",
    "numbers = [3,2,1,8,9,11]\n",
    "for e in numbers:\n",
    "    file.write(str(e))\n",
    "    file.write('\\n')\n",
    "file.close()"
   ]
  },
  {
   "cell_type": "code",
   "execution_count": 6,
   "id": "selective-requirement",
   "metadata": {},
   "outputs": [
    {
     "data": {
      "text/plain": [
       "True"
      ]
     },
     "execution_count": 6,
     "metadata": {},
     "output_type": "execute_result"
    }
   ],
   "source": [
    "file.closed"
   ]
  },
  {
   "cell_type": "code",
   "execution_count": 7,
   "id": "acknowledged-carrier",
   "metadata": {},
   "outputs": [],
   "source": [
    "import random as rd"
   ]
  },
  {
   "cell_type": "code",
   "execution_count": 9,
   "id": "blank-singing",
   "metadata": {},
   "outputs": [],
   "source": [
    "numbers = []\n",
    "for e in range(200):\n",
    "    numbers.append(rd.randrange(1,50))"
   ]
  },
  {
   "cell_type": "code",
   "execution_count": 10,
   "id": "forced-martin",
   "metadata": {},
   "outputs": [
    {
     "name": "stdout",
     "output_type": "stream",
     "text": [
      "[40, 1, 18, 14, 24, 20, 8, 22, 45, 10, 17, 21, 46, 3, 22, 33, 24, 5, 11, 27, 32, 11, 14, 34, 45, 46, 25, 8, 21, 28, 32, 6, 29, 15, 35, 48, 46, 11, 14, 23, 44, 28, 21, 1, 10, 30, 9, 25, 8, 7, 21, 17, 42, 40, 22, 23, 24, 19, 48, 23, 48, 29, 48, 27, 20, 34, 14, 5, 25, 43, 3, 5, 37, 47, 33, 30, 16, 33, 19, 10, 37, 27, 13, 35, 9, 29, 7, 13, 21, 41, 46, 21, 36, 15, 8, 49, 49, 40, 21, 15, 24, 33, 15, 11, 33, 47, 47, 39, 46, 1, 26, 22, 3, 2, 12, 47, 31, 1, 26, 20, 42, 39, 19, 11, 44, 15, 40, 27, 21, 49, 14, 49, 33, 24, 11, 48, 7, 7, 8, 39, 36, 43, 30, 2, 36, 6, 18, 2, 24, 36, 8, 14, 11, 19, 30, 11, 20, 23, 1, 42, 13, 14, 38, 24, 18, 24, 1, 8, 28, 33, 2, 1, 36, 25, 20, 9, 46, 21, 7, 46, 8, 41, 13, 22, 27, 13, 18, 20, 49, 34, 17, 37, 19, 16, 4, 4, 29, 46, 34, 4]\n"
     ]
    }
   ],
   "source": [
    "print(numbers)"
   ]
  },
  {
   "cell_type": "code",
   "execution_count": 11,
   "id": "velvet-trader",
   "metadata": {},
   "outputs": [],
   "source": [
    "file = open('liczby.txt', mode='w')\n",
    "\n",
    "for e in numbers:\n",
    "    file.write(str(e))\n",
    "    file.write('\\n')\n",
    "file.close()"
   ]
  },
  {
   "cell_type": "code",
   "execution_count": 16,
   "id": "liquid-solution",
   "metadata": {},
   "outputs": [],
   "source": [
    "dane = []\n",
    "file = open('liczby.txt', mode='r')\n",
    "for e in file:\n",
    "    dane.append(int(e))\n",
    "file.close()"
   ]
  },
  {
   "cell_type": "code",
   "execution_count": 21,
   "id": "nutritional-fever",
   "metadata": {},
   "outputs": [
    {
     "name": "stdout",
     "output_type": "stream",
     "text": [
      "[40, 1, 18, 14, 24, 20, 8, 22, 45, 10, 17, 21, 46, 3, 22, 33, 24, 5, 11, 27, 32, 11, 14, 34, 45, 46, 25, 8, 21, 28, 32, 6, 29, 15, 35, 48, 46, 11, 14, 23, 44, 28, 21, 1, 10, 30, 9, 25, 8, 7, 21, 17, 42, 40, 22, 23, 24, 19, 48, 23, 48, 29, 48, 27, 20, 34, 14, 5, 25, 43, 3, 5, 37, 47, 33, 30, 16, 33, 19, 10, 37, 27, 13, 35, 9, 29, 7, 13, 21, 41, 46, 21, 36, 15, 8, 49, 49, 40, 21, 15, 24, 33, 15, 11, 33, 47, 47, 39, 46, 1, 26, 22, 3, 2, 12, 47, 31, 1, 26, 20, 42, 39, 19, 11, 44, 15, 40, 27, 21, 49, 14, 49, 33, 24, 11, 48, 7, 7, 8, 39, 36, 43, 30, 2, 36, 6, 18, 2, 24, 36, 8, 14, 11, 19, 30, 11, 20, 23, 1, 42, 13, 14, 38, 24, 18, 24, 1, 8, 28, 33, 2, 1, 36, 25, 20, 9, 46, 21, 7, 46, 8, 41, 13, 22, 27, 13, 18, 20, 49, 34, 17, 37, 19, 16, 4, 4, 29, 46, 34, 4]\n"
     ]
    }
   ],
   "source": [
    "print(dane)"
   ]
  },
  {
   "cell_type": "code",
   "execution_count": 19,
   "id": "entitled-stress",
   "metadata": {},
   "outputs": [
    {
     "name": "stdout",
     "output_type": "stream",
     "text": [
      "4\n"
     ]
    }
   ],
   "source": [
    "print(dane.count(2))"
   ]
  },
  {
   "cell_type": "code",
   "execution_count": 20,
   "id": "coupled-allen",
   "metadata": {},
   "outputs": [
    {
     "name": "stdout",
     "output_type": "stream",
     "text": [
      "[1, 1, 1, 1, 1, 1, 1, 2, 2, 2, 2, 3, 3, 3, 4, 4, 4, 5, 5, 5, 6, 6, 7, 7, 7, 7, 7, 8, 8, 8, 8, 8, 8, 8, 8, 9, 9, 9, 10, 10, 10, 11, 11, 11, 11, 11, 11, 11, 11, 12, 13, 13, 13, 13, 13, 14, 14, 14, 14, 14, 14, 14, 15, 15, 15, 15, 15, 16, 16, 17, 17, 17, 18, 18, 18, 18, 19, 19, 19, 19, 19, 20, 20, 20, 20, 20, 20, 21, 21, 21, 21, 21, 21, 21, 21, 21, 22, 22, 22, 22, 22, 23, 23, 23, 23, 24, 24, 24, 24, 24, 24, 24, 24, 25, 25, 25, 25, 26, 26, 27, 27, 27, 27, 27, 28, 28, 28, 29, 29, 29, 29, 30, 30, 30, 30, 31, 32, 32, 33, 33, 33, 33, 33, 33, 33, 34, 34, 34, 34, 35, 35, 36, 36, 36, 36, 36, 37, 37, 37, 38, 39, 39, 39, 40, 40, 40, 40, 41, 41, 42, 42, 42, 43, 43, 44, 44, 45, 45, 46, 46, 46, 46, 46, 46, 46, 46, 47, 47, 47, 47, 48, 48, 48, 48, 48, 49, 49, 49, 49, 49]\n"
     ]
    }
   ],
   "source": [
    "print(sorted(dane))"
   ]
  },
  {
   "cell_type": "code",
   "execution_count": 22,
   "id": "naked-hospital",
   "metadata": {},
   "outputs": [
    {
     "name": "stdout",
     "output_type": "stream",
     "text": [
      "1\n"
     ]
    }
   ],
   "source": [
    "print(min(dane))"
   ]
  },
  {
   "cell_type": "code",
   "execution_count": 23,
   "id": "medical-timeline",
   "metadata": {},
   "outputs": [
    {
     "name": "stdout",
     "output_type": "stream",
     "text": [
      "49\n"
     ]
    }
   ],
   "source": [
    "print(max(dane))"
   ]
  },
  {
   "cell_type": "code",
   "execution_count": 27,
   "id": "applicable-riverside",
   "metadata": {},
   "outputs": [
    {
     "name": "stdout",
     "output_type": "stream",
     "text": [
      "23.84\n"
     ]
    }
   ],
   "source": [
    "import numpy as np\n",
    "print(np.mean(dane))"
   ]
  },
  {
   "cell_type": "code",
   "execution_count": 29,
   "id": "informative-closer",
   "metadata": {},
   "outputs": [
    {
     "name": "stdout",
     "output_type": "stream",
     "text": [
      "14.035469354460506\n"
     ]
    }
   ],
   "source": [
    "print(np.std(dane))"
   ]
  },
  {
   "cell_type": "code",
   "execution_count": 30,
   "id": "complicated-spectacular",
   "metadata": {},
   "outputs": [],
   "source": [
    "napis = ['mieszkał', 'tam', 'król', 'ze', 'swoją', 'żoną', 'i', 'córką', 'król', 'był', 'uczciwy', 'i', 'dobry', 'dla', 'swoich', 'poddanych', 'ale', 'nie', 'umiał', 'sam', 'rządzić', 'w', 'królestwie', 'potrzebował', 'dobrego', 'mądrego', 'doradcy', 'z', 'pomocą', 'do', 'niego', 'przyszła', 'wróżka', 'powiedziała', 'że', 'w', 'dalekiej', 'krainie', 'mieszka', 'mądry', 'smok', 'który', 'raz', 'na', 'sto', 'lat', 'daje', 'jedno', 'jajo', 'to', 'jest', 'zaczarowane', 'jajo', 'jeden', 'warunek', 'trzeba', 'spełnić', 'aby', 'je', 'posiąść', 'może', 'je', 'dostać', 'tylko', 'dobry', 'człowiek', 'król', 'postanowił', 'szukać', 'smoka', 'i', 'dostać', 'jajo',\n",
    "'wtedy','do','smoka','przybył','czarnoksiężnik','zażądał','jaja','smok','powiedział','że','już','oddał','jajo','zły','czarownik','chciał','wiedzieć','komu','je','oddał','jednak','smok','nic','mu','nie','powiedział','czarnoksiężnik','wtedy','zabił','smoka','ruszył','na','poszukiwanie','obecnego','właściciela','jaja','kiedy','król','wrócił','wyprawy','ze','smoczym','jajem','najbardziej','cieszyła','się','królewna','codziennie','pielęgnowała','jajo','czekała','aż','się','wykluje','niego','smok','wreszcie','nadeszła','ta','chwila','pewnego','ranka','jaja','wykluł','się','mały','fioletowy','smok','księżniczka','dała','mu','na','imię','foks','ich','przyjaźń','rozkwitała','razem','spędzali','dużo','czasu']"
   ]
  },
  {
   "cell_type": "code",
   "execution_count": 32,
   "id": "mechanical-makeup",
   "metadata": {},
   "outputs": [
    {
     "name": "stdout",
     "output_type": "stream",
     "text": [
      "mieszkał tam król ze swoją żoną i córką król był uczciwy i dobry dla swoich poddanych ale nie umiał sam rządzić w królestwie potrzebował dobrego mądrego doradcy z pomocą do niego przyszła wróżka powiedziała że w dalekiej krainie mieszka mądry smok który raz na sto lat daje jedno jajo to jest zaczarowane jajo jeden warunek trzeba spełnić aby je posiąść może je dostać tylko dobry człowiek król postanowił szukać smoka i dostać jajo wtedy do smoka przybył czarnoksiężnik zażądał jaja smok powiedział że już oddał jajo zły czarownik chciał wiedzieć komu je oddał jednak smok nic mu nie powiedział czarnoksiężnik wtedy zabił smoka ruszył na poszukiwanie obecnego właściciela jaja kiedy król wrócił wyprawy ze smoczym jajem najbardziej cieszyła się królewna codziennie pielęgnowała jajo czekała aż się wykluje niego smok wreszcie nadeszła ta chwila pewnego ranka jaja wykluł się mały fioletowy smok księżniczka dała mu na imię foks ich przyjaźń rozkwitała razem spędzali dużo czasu "
     ]
    }
   ],
   "source": [
    "for e in napis:\n",
    "    print(e, end = ' ')"
   ]
  },
  {
   "cell_type": "code",
   "execution_count": 57,
   "id": "smaller-screening",
   "metadata": {},
   "outputs": [
    {
     "name": "stdout",
     "output_type": "stream",
     "text": [
      "zamknięcie pliku   True\n"
     ]
    }
   ],
   "source": [
    "file = open('slowa.txt', mode='w', encoding='utf-8')\n",
    "for e in napis:\n",
    "    file.write(e)\n",
    "    file.write(',')\n",
    "file.close()\n",
    "print('zamknięcie pliku  ', file.closed)"
   ]
  },
  {
   "cell_type": "code",
   "execution_count": 72,
   "id": "judicial-failure",
   "metadata": {},
   "outputs": [
    {
     "name": "stdout",
     "output_type": "stream",
     "text": [
      "stan zamknięcia  True\n"
     ]
    }
   ],
   "source": [
    "bajka = []\n",
    "file = open('slowa.txt', mode='r', encoding='utf-8')\n",
    "for e in file:\n",
    "    bajka.append(e)\n",
    "file.close()\n",
    "print('stan zamknięcia ', file.closed)"
   ]
  },
  {
   "cell_type": "code",
   "execution_count": 73,
   "id": "italian-leisure",
   "metadata": {},
   "outputs": [
    {
     "name": "stdout",
     "output_type": "stream",
     "text": [
      "['mieszkał,tam,król,ze,swoją,żoną,i,córką,król,był,uczciwy,i,dobry,dla,swoich,poddanych,ale,nie,umiał,sam,rządzić,w,królestwie,potrzebował,dobrego,mądrego,doradcy,z,pomocą,do,niego,przyszła,wróżka,powiedziała,że,w,dalekiej,krainie,mieszka,mądry,smok,który,raz,na,sto,lat,daje,jedno,jajo,to,jest,zaczarowane,jajo,jeden,warunek,trzeba,spełnić,aby,je,posiąść,może,je,dostać,tylko,dobry,człowiek,król,postanowił,szukać,smoka,i,dostać,jajo,wtedy,do,smoka,przybył,czarnoksiężnik,zażądał,jaja,smok,powiedział,że,już,oddał,jajo,zły,czarownik,chciał,wiedzieć,komu,je,oddał,jednak,smok,nic,mu,nie,powiedział,czarnoksiężnik,wtedy,zabił,smoka,ruszył,na,poszukiwanie,obecnego,właściciela,jaja,kiedy,król,wrócił,wyprawy,ze,smoczym,jajem,najbardziej,cieszyła,się,królewna,codziennie,pielęgnowała,jajo,czekała,aż,się,wykluje,niego,smok,wreszcie,nadeszła,ta,chwila,pewnego,ranka,jaja,wykluł,się,mały,fioletowy,smok,księżniczka,dała,mu,na,imię,foks,ich,przyjaźń,rozkwitała,razem,spędzali,dużo,czasu,']\n"
     ]
    }
   ],
   "source": [
    "a = list(bajka)\n",
    "print(a)"
   ]
  },
  {
   "cell_type": "code",
   "execution_count": 45,
   "id": "compliant-center",
   "metadata": {},
   "outputs": [
    {
     "name": "stdout",
     "output_type": "stream",
     "text": [
      "1\n"
     ]
    }
   ],
   "source": [
    "print(bajka.count('księżniczka'))"
   ]
  },
  {
   "cell_type": "code",
   "execution_count": 71,
   "id": "delayed-university",
   "metadata": {},
   "outputs": [
    {
     "name": "stdout",
     "output_type": "stream",
     "text": [
      "0\n"
     ]
    }
   ],
   "source": [
    "print(bajka.count('b'))"
   ]
  },
  {
   "cell_type": "code",
   "execution_count": 60,
   "id": "cosmetic-radar",
   "metadata": {},
   "outputs": [
    {
     "name": "stdout",
     "output_type": "stream",
     "text": [
      "mieszkał,tam,król,ze,swoją,żoną,i,córką,król,był,uczciwy,i,dobry,dla,swoich,poddanych,ale,nie,umiał,sam,rządzić,w,królestwie,potrzebował,dobrego,mądrego,doradcy,z,pomocą,do,niego,przyszła,wróżka,powiedziała,że,w,dalekiej,krainie,mieszka,mądry,smok,który,raz,na,sto,lat,daje,jedno,jajo,to,jest,zaczarowane,jajo,jeden,warunek,trzeba,spełnić,aby,je,posiąść,może,je,dostać,tylko,dobry,człowiek,król,postanowił,szukać,smoka,i,dostać,jajo,wtedy,do,smoka,przybył,czarnoksiężnik,zażądał,jaja,smok,powiedział,że,już,oddał,jajo,zły,czarownik,chciał,wiedzieć,komu,je,oddał,jednak,smok,nic,mu,nie,powiedział,czarnoksiężnik,wtedy,zabił,smoka,ruszył,na,poszukiwanie,obecnego,właściciela,jaja,kiedy,król,wrócił,wyprawy,ze,smoczym,jajem,najbardziej,cieszyła,się,królewna,codziennie,pielęgnowała,jajo,czekała,aż,się,wykluje,niego,smok,wreszcie,nadeszła,ta,chwila,pewnego,ranka,jaja,wykluł,się,mały,fioletowy,smok,księżniczka,dała,mu,na,imię,foks,ich,przyjaźń,rozkwitała,razem,spędzali,dużo,czasu,"
     ]
    }
   ],
   "source": [
    "for e in bajka:\n",
    "    print(e, end = '')"
   ]
  },
  {
   "cell_type": "code",
   "execution_count": 70,
   "id": "funky-notification",
   "metadata": {},
   "outputs": [
    {
     "name": "stdout",
     "output_type": "stream",
     "text": [
      "[]\n"
     ]
    }
   ],
   "source": [
    "print(bajka)"
   ]
  },
  {
   "cell_type": "code",
   "execution_count": 67,
   "id": "collaborative-adventure",
   "metadata": {},
   "outputs": [
    {
     "name": "stdout",
     "output_type": "stream",
     "text": [
      "88\n"
     ]
    }
   ],
   "source": [
    "print(bajka.count('a'))"
   ]
  },
  {
   "cell_type": "code",
   "execution_count": null,
   "id": "intimate-secretariat",
   "metadata": {},
   "outputs": [],
   "source": []
  }
 ],
 "metadata": {
  "kernelspec": {
   "display_name": "Python 3",
   "language": "python",
   "name": "python3"
  },
  "language_info": {
   "codemirror_mode": {
    "name": "ipython",
    "version": 3
   },
   "file_extension": ".py",
   "mimetype": "text/x-python",
   "name": "python",
   "nbconvert_exporter": "python",
   "pygments_lexer": "ipython3",
   "version": "3.7.9"
  }
 },
 "nbformat": 4,
 "nbformat_minor": 5
}
