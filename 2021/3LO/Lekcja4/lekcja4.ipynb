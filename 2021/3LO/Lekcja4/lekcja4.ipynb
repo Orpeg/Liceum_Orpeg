{
 "cells": [
  {
   "cell_type": "markdown",
   "id": "ordinary-cattle",
   "metadata": {},
   "source": [
    "## Python- praca z plikami zewnętrznymi ##"
   ]
  },
  {
   "cell_type": "markdown",
   "id": "applicable-democracy",
   "metadata": {},
   "source": [
    "**Tworzymy plik danymi tekstowymi**"
   ]
  },
  {
   "cell_type": "code",
   "execution_count": 1,
   "id": "endless-bonus",
   "metadata": {},
   "outputs": [],
   "source": [
    "import numpy as np"
   ]
  },
  {
   "cell_type": "code",
   "execution_count": null,
   "id": "outside-breakdown",
   "metadata": {},
   "outputs": [],
   "source": [
    "# Tworzymy plik tekstowy"
   ]
  },
  {
   "cell_type": "code",
   "execution_count": 6,
   "id": "growing-portable",
   "metadata": {},
   "outputs": [],
   "source": [
    "lista = ['wtedy','do','smoka','przybył','czarnoksiężnik','zażądał','jaja','smok','powiedział','że','już','oddał','jajo','zły','czarownik','chciał','wiedzieć','komu','je','oddał','jednak','smok','nic','mu','nie','powiedział','czarnoksiężnik','wtedy','zabił','smoka','ruszył','na','poszukiwanie','obecnego','właściciela','jaja','kiedy','król','wrócił','wyprawy','ze','smoczym','jajem','najbardziej','cieszyła','się','królewna','codziennie','pielęgnowała','jajo','czekała','aż','się','wykluje','niego','smok','wreszcie','nadeszła','ta','chwila','pewnego','ranka','jaja','wykluł','się','mały','fioletowy','smok','księżniczka','dała','mu','na','imię','foks','ich','przyjaźń','rozkwitała','razem','spędzali','dużo','czasu']"
   ]
  },
  {
   "cell_type": "code",
   "execution_count": 7,
   "id": "noticed-upper",
   "metadata": {},
   "outputs": [],
   "source": [
    "file = open('slowa.txt', mode='a+', encoding='utf-8')"
   ]
  },
  {
   "cell_type": "code",
   "execution_count": 8,
   "id": "alive-fence",
   "metadata": {},
   "outputs": [],
   "source": [
    "for e in lista:\n",
    "    file.write(e)\n",
    "    file.write('\\n')\n",
    "file.close()\n",
    "    "
   ]
  },
  {
   "cell_type": "code",
   "execution_count": null,
   "id": "sonic-shopping",
   "metadata": {},
   "outputs": [],
   "source": [
    "# "
   ]
  }
 ],
 "metadata": {
  "kernelspec": {
   "display_name": "Python 3",
   "language": "python",
   "name": "python3"
  },
  "language_info": {
   "codemirror_mode": {
    "name": "ipython",
    "version": 3
   },
   "file_extension": ".py",
   "mimetype": "text/x-python",
   "name": "python",
   "nbconvert_exporter": "python",
   "pygments_lexer": "ipython3",
   "version": "3.7.9"
  }
 },
 "nbformat": 4,
 "nbformat_minor": 5
}
