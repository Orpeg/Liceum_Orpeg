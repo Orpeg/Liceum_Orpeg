{
 "cells": [
  {
   "cell_type": "markdown",
   "id": "diagnostic-serum",
   "metadata": {},
   "source": [
    "## Tekst w Pythonie ##"
   ]
  },
  {
   "cell_type": "markdown",
   "id": "nominated-folks",
   "metadata": {},
   "source": [
    "**Konkatenacja**"
   ]
  },
  {
   "cell_type": "code",
   "execution_count": 1,
   "id": "supposed-contemporary",
   "metadata": {},
   "outputs": [],
   "source": [
    "x = 'słoń'\n",
    "y = 'porcelany'"
   ]
  },
  {
   "cell_type": "code",
   "execution_count": 2,
   "id": "shared-stretch",
   "metadata": {},
   "outputs": [
    {
     "name": "stdout",
     "output_type": "stream",
     "text": [
      "słoń w składzie porcelany\n"
     ]
    }
   ],
   "source": [
    "print(x + ' w składzie '+y)"
   ]
  },
  {
   "cell_type": "markdown",
   "id": "incorporate-mayor",
   "metadata": {},
   "source": [
    "Zadanie. Obliczyć ilość liczb, sumę, wartoóść maksymalną i minimalną oraz wartość średnią i odchylenie standardowe liczb w pliku numbers.txt"
   ]
  },
  {
   "cell_type": "code",
   "execution_count": 4,
   "id": "casual-relative",
   "metadata": {},
   "outputs": [],
   "source": [
    "import random as ran"
   ]
  },
  {
   "cell_type": "code",
   "execution_count": 5,
   "id": "young-burns",
   "metadata": {},
   "outputs": [
    {
     "data": {
      "text/plain": [
       "31"
      ]
     },
     "execution_count": 5,
     "metadata": {},
     "output_type": "execute_result"
    }
   ],
   "source": [
    "number = ran.randrange(1,100)\n",
    "number"
   ]
  },
  {
   "cell_type": "code",
   "execution_count": 6,
   "id": "monetary-thomson",
   "metadata": {},
   "outputs": [
    {
     "name": "stdout",
     "output_type": "stream",
     "text": [
      "['92', '25', '72', '63', '37', '32', '71', '25', '17', '91', '81', '82', '15', '69', '35', '13', '41', '67', '57', '16', '72', '2', '87', '69', '85', '8', '55', '19', '1', '61', '7', '56', '77', '55', '98', '49', '69', '96', '6', '93', '60', '81', '71', '40', '8', '10', '83', '76', '4', '2', '10', '95', '6', '38', '99', '2', '21', '10', '45', '33', '18', '15', '78', '14', '18', '39', '57', '72', '3', '73', '81', '70', '47', '29', '33', '35', '9', '32', '87', '91', '94', '83', '71', '43', '12', '26', '71', '49', '90', '93', '27', '20', '54', '98', '65', '95', '21', '38', '43', '72', '47', '1', '43', '21', '8', '70', '63', '61', '56', '62', '4', '60', '88', '29', '45', '82', '89', '51', '62', '20']\n"
     ]
    }
   ],
   "source": [
    "numbers = []\n",
    "for e in range(120):\n",
    "    numbers.append(str(ran.randrange(1,100)))\n",
    "print(numbers)"
   ]
  },
  {
   "cell_type": "code",
   "execution_count": 7,
   "id": "future-monthly",
   "metadata": {},
   "outputs": [],
   "source": [
    "file = open('numbers.txt', mode='w')\n",
    "for e in numbers:\n",
    "    file.write(e+'\\n')\n",
    "file.close()"
   ]
  },
  {
   "cell_type": "code",
   "execution_count": 27,
   "id": "embedded-butterfly",
   "metadata": {},
   "outputs": [
    {
     "data": {
      "text/plain": [
       "True"
      ]
     },
     "execution_count": 27,
     "metadata": {},
     "output_type": "execute_result"
    }
   ],
   "source": [
    "file.closed"
   ]
  },
  {
   "cell_type": "code",
   "execution_count": 9,
   "id": "fatty-script",
   "metadata": {},
   "outputs": [],
   "source": [
    "liczby = []\n",
    "file = open('numbers.txt', mode='r')\n",
    "for e in file:\n",
    "    liczby.append(int(e))\n",
    "file.close()"
   ]
  },
  {
   "cell_type": "code",
   "execution_count": 10,
   "id": "regulated-power",
   "metadata": {},
   "outputs": [
    {
     "name": "stdout",
     "output_type": "stream",
     "text": [
      "[92, 25, 72, 63, 37, 32, 71, 25, 17, 91, 81, 82, 15, 69, 35, 13, 41, 67, 57, 16, 72, 2, 87, 69, 85, 8, 55, 19, 1, 61, 7, 56, 77, 55, 98, 49, 69, 96, 6, 93, 60, 81, 71, 40, 8, 10, 83, 76, 4, 2, 10, 95, 6, 38, 99, 2, 21, 10, 45, 33, 18, 15, 78, 14, 18, 39, 57, 72, 3, 73, 81, 70, 47, 29, 33, 35, 9, 32, 87, 91, 94, 83, 71, 43, 12, 26, 71, 49, 90, 93, 27, 20, 54, 98, 65, 95, 21, 38, 43, 72, 47, 1, 43, 21, 8, 70, 63, 61, 56, 62, 4, 60, 88, 29, 45, 82, 89, 51, 62, 20]\n"
     ]
    }
   ],
   "source": [
    "print(liczby)"
   ]
  },
  {
   "cell_type": "code",
   "execution_count": 12,
   "id": "artificial-precipitation",
   "metadata": {},
   "outputs": [
    {
     "name": "stdout",
     "output_type": "stream",
     "text": [
      "120\n"
     ]
    }
   ],
   "source": [
    "# ilosc liczb w liscie\n",
    "print(len(liczby))"
   ]
  },
  {
   "cell_type": "code",
   "execution_count": 13,
   "id": "thorough-universe",
   "metadata": {},
   "outputs": [],
   "source": [
    "# wartość maksymalna i minimalna"
   ]
  },
  {
   "cell_type": "code",
   "execution_count": 14,
   "id": "shaped-hamburg",
   "metadata": {},
   "outputs": [
    {
     "data": {
      "text/plain": [
       "99"
      ]
     },
     "execution_count": 14,
     "metadata": {},
     "output_type": "execute_result"
    }
   ],
   "source": [
    "max(liczby)"
   ]
  },
  {
   "cell_type": "code",
   "execution_count": 15,
   "id": "living-institute",
   "metadata": {},
   "outputs": [
    {
     "data": {
      "text/plain": [
       "1"
      ]
     },
     "execution_count": 15,
     "metadata": {},
     "output_type": "execute_result"
    }
   ],
   "source": [
    "min(liczby)"
   ]
  },
  {
   "cell_type": "code",
   "execution_count": 16,
   "id": "norman-tourism",
   "metadata": {},
   "outputs": [],
   "source": [
    "# czy liczba 1 się powtarza"
   ]
  },
  {
   "cell_type": "code",
   "execution_count": 17,
   "id": "precise-happening",
   "metadata": {},
   "outputs": [
    {
     "name": "stdout",
     "output_type": "stream",
     "text": [
      "2\n"
     ]
    }
   ],
   "source": [
    "print(liczby.count(1))"
   ]
  },
  {
   "cell_type": "code",
   "execution_count": 18,
   "id": "turkish-recipe",
   "metadata": {},
   "outputs": [],
   "source": [
    "import numpy as np"
   ]
  },
  {
   "cell_type": "code",
   "execution_count": 19,
   "id": "sweet-monroe",
   "metadata": {},
   "outputs": [],
   "source": [
    "# liczymy wawrtość srednią"
   ]
  },
  {
   "cell_type": "code",
   "execution_count": 20,
   "id": "dependent-blade",
   "metadata": {},
   "outputs": [
    {
     "data": {
      "text/plain": [
       "49.06666666666667"
      ]
     },
     "execution_count": 20,
     "metadata": {},
     "output_type": "execute_result"
    }
   ],
   "source": [
    "np.mean(liczby)"
   ]
  },
  {
   "cell_type": "code",
   "execution_count": 21,
   "id": "helpful-beach",
   "metadata": {},
   "outputs": [
    {
     "data": {
      "text/plain": [
       "29.89724996643597"
      ]
     },
     "execution_count": 21,
     "metadata": {},
     "output_type": "execute_result"
    }
   ],
   "source": [
    "np.std(liczby)"
   ]
  },
  {
   "cell_type": "code",
   "execution_count": 22,
   "id": "graduate-riverside",
   "metadata": {},
   "outputs": [
    {
     "data": {
      "text/plain": [
       "5888"
      ]
     },
     "execution_count": 22,
     "metadata": {},
     "output_type": "execute_result"
    }
   ],
   "source": [
    "sum(liczby)"
   ]
  },
  {
   "cell_type": "code",
   "execution_count": 24,
   "id": "biological-calculator",
   "metadata": {},
   "outputs": [],
   "source": [
    "imiona = ['Malwina\\n', 'Małgorzata\\n', 'Aleksandra\\n']"
   ]
  },
  {
   "cell_type": "code",
   "execution_count": 32,
   "id": "useful-airport",
   "metadata": {},
   "outputs": [],
   "source": [
    "file = open('file.txt', mode='w', encoding='utf-8')\n",
    "file.writelines(imiona)\n",
    "file.close()"
   ]
  },
  {
   "cell_type": "code",
   "execution_count": 33,
   "id": "adverse-flavor",
   "metadata": {},
   "outputs": [
    {
     "data": {
      "text/plain": [
       "True"
      ]
     },
     "execution_count": 33,
     "metadata": {},
     "output_type": "execute_result"
    }
   ],
   "source": [
    "file.closed"
   ]
  },
  {
   "cell_type": "code",
   "execution_count": 34,
   "id": "compatible-preserve",
   "metadata": {},
   "outputs": [
    {
     "name": "stdout",
     "output_type": "stream",
     "text": [
      "Malwina\n",
      "\n",
      "Małgorzata\n",
      "\n",
      "Aleksandra\n",
      "\n"
     ]
    }
   ],
   "source": [
    "file = open('file.txt', mode='r', encoding='utf-8')\n",
    "for e in file:\n",
    "    print(e)"
   ]
  },
  {
   "cell_type": "code",
   "execution_count": 40,
   "id": "handed-rubber",
   "metadata": {},
   "outputs": [
    {
     "name": "stdout",
     "output_type": "stream",
     "text": [
      "Malwina\n",
      "\n",
      "Małgorzata\n",
      "\n",
      "Aleksandra\n",
      "\n"
     ]
    }
   ],
   "source": [
    "for e in file:\n",
    "    print(e)"
   ]
  },
  {
   "cell_type": "code",
   "execution_count": 46,
   "id": "pleasant-contrast",
   "metadata": {},
   "outputs": [
    {
     "name": "stdout",
     "output_type": "stream",
     "text": [
      "3\n"
     ]
    }
   ],
   "source": [
    "# kursor\n",
    "print(file.tell())"
   ]
  },
  {
   "cell_type": "code",
   "execution_count": 47,
   "id": "smooth-xerox",
   "metadata": {},
   "outputs": [
    {
     "data": {
      "text/plain": [
       "0"
      ]
     },
     "execution_count": 47,
     "metadata": {},
     "output_type": "execute_result"
    }
   ],
   "source": [
    "file.seek(0)"
   ]
  },
  {
   "cell_type": "code",
   "execution_count": 48,
   "id": "floral-roulette",
   "metadata": {},
   "outputs": [
    {
     "name": "stdout",
     "output_type": "stream",
     "text": [
      "Malwina\n"
     ]
    }
   ],
   "source": [
    "print(file.read(7))"
   ]
  },
  {
   "cell_type": "code",
   "execution_count": 49,
   "id": "powerful-commonwealth",
   "metadata": {},
   "outputs": [],
   "source": [
    "file.close()"
   ]
  },
  {
   "cell_type": "code",
   "execution_count": 50,
   "id": "nutritional-large",
   "metadata": {},
   "outputs": [
    {
     "data": {
      "text/plain": [
       "True"
      ]
     },
     "execution_count": 50,
     "metadata": {},
     "output_type": "execute_result"
    }
   ],
   "source": [
    "file.closed"
   ]
  },
  {
   "cell_type": "code",
   "execution_count": 51,
   "id": "married-cocktail",
   "metadata": {},
   "outputs": [],
   "source": [
    "zwierzatka = ['chomik\\n', 'królik\\n', 'słoń\\n']"
   ]
  },
  {
   "cell_type": "code",
   "execution_count": 53,
   "id": "laughing-quilt",
   "metadata": {},
   "outputs": [],
   "source": [
    "file = open('file.txt', mode='a', encoding='utf-8')\n",
    "file.writelines(zwierzatka)"
   ]
  },
  {
   "cell_type": "code",
   "execution_count": 54,
   "id": "soviet-slovenia",
   "metadata": {},
   "outputs": [],
   "source": [
    "file.close()"
   ]
  },
  {
   "cell_type": "code",
   "execution_count": 55,
   "id": "interracial-grounds",
   "metadata": {},
   "outputs": [],
   "source": [
    "file = open('zwierzatka.txt', mode='a', encoding='utf-8')\n",
    "file.writelines(zwierzatka)\n",
    "file.close()"
   ]
  },
  {
   "cell_type": "code",
   "execution_count": null,
   "id": "curious-protocol",
   "metadata": {},
   "outputs": [],
   "source": []
  }
 ],
 "metadata": {
  "kernelspec": {
   "display_name": "Python 3",
   "language": "python",
   "name": "python3"
  },
  "language_info": {
   "codemirror_mode": {
    "name": "ipython",
    "version": 3
   },
   "file_extension": ".py",
   "mimetype": "text/x-python",
   "name": "python",
   "nbconvert_exporter": "python",
   "pygments_lexer": "ipython3",
   "version": "3.7.9"
  }
 },
 "nbformat": 4,
 "nbformat_minor": 5
}
