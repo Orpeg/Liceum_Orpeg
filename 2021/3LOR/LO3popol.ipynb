{
 "cells": [
  {
   "cell_type": "markdown",
   "id": "divided-omega",
   "metadata": {},
   "source": [
    "## systemy liczbowe ##\n"
   ]
  },
  {
   "cell_type": "code",
   "execution_count": 1,
   "id": "neither-microphone",
   "metadata": {},
   "outputs": [],
   "source": [
    "# instrukcje w pythonie"
   ]
  },
  {
   "cell_type": "code",
   "execution_count": 3,
   "id": "daily-course",
   "metadata": {},
   "outputs": [
    {
     "name": "stdout",
     "output_type": "stream",
     "text": [
      "0b10000000\n"
     ]
    }
   ],
   "source": [
    "print(bin(128))"
   ]
  },
  {
   "cell_type": "code",
   "execution_count": 3,
   "id": "buried-agency",
   "metadata": {},
   "outputs": [
    {
     "name": "stdout",
     "output_type": "stream",
     "text": [
      "0o100\n"
     ]
    }
   ],
   "source": [
    "print(oct(64))"
   ]
  },
  {
   "cell_type": "code",
   "execution_count": 5,
   "id": "expensive-emergency",
   "metadata": {},
   "outputs": [
    {
     "name": "stdout",
     "output_type": "stream",
     "text": [
      "192\n"
     ]
    }
   ],
   "source": [
    "print(int('11000000',2))"
   ]
  },
  {
   "cell_type": "code",
   "execution_count": 6,
   "id": "spare-skiing",
   "metadata": {},
   "outputs": [
    {
     "name": "stdout",
     "output_type": "stream",
     "text": [
      "64\n"
     ]
    }
   ],
   "source": [
    "print(int('100', 8))"
   ]
  },
  {
   "cell_type": "code",
   "execution_count": 7,
   "id": "charged-comparative",
   "metadata": {},
   "outputs": [],
   "source": [
    "list = [128,192,224,240,248,252,254,255]"
   ]
  },
  {
   "cell_type": "code",
   "execution_count": 8,
   "id": "clinical-melbourne",
   "metadata": {},
   "outputs": [
    {
     "name": "stdout",
     "output_type": "stream",
     "text": [
      "128 .  0b10000000\n",
      "192 .  0b11000000\n",
      "224 .  0b11100000\n",
      "240 .  0b11110000\n",
      "248 .  0b11111000\n",
      "252 .  0b11111100\n",
      "254 .  0b11111110\n",
      "255 .  0b11111111\n"
     ]
    }
   ],
   "source": [
    "for i in list:\n",
    "    print(i, '. ', bin(i))"
   ]
  },
  {
   "cell_type": "code",
   "execution_count": 10,
   "id": "electric-breakfast",
   "metadata": {},
   "outputs": [
    {
     "name": "stdout",
     "output_type": "stream",
     "text": [
      "0 .  0b0\n",
      "1 .  0b1\n",
      "2 .  0b10\n",
      "3 .  0b11\n",
      "4 .  0b100\n",
      "5 .  0b101\n",
      "6 .  0b110\n",
      "7 .  0b111\n",
      "8 .  0b1000\n",
      "9 .  0b1001\n",
      "10 .  0b1010\n",
      "11 .  0b1011\n",
      "12 .  0b1100\n",
      "13 .  0b1101\n",
      "14 .  0b1110\n",
      "15 .  0b1111\n"
     ]
    }
   ],
   "source": [
    "for e in range(16):\n",
    "    print(e, '. ', bin(e))"
   ]
  },
  {
   "cell_type": "code",
   "execution_count": 12,
   "id": "extraordinary-nothing",
   "metadata": {},
   "outputs": [
    {
     "name": "stdout",
     "output_type": "stream",
     "text": [
      "0 .  0.0\n",
      "1 .  0.125\n",
      "2 .  0.25\n",
      "3 .  0.375\n",
      "4 .  0.5\n",
      "5 .  0.625\n",
      "6 .  0.75\n",
      "7 .  0.875\n",
      "8 .  1.0\n"
     ]
    }
   ],
   "source": [
    "i = 0\n",
    "x = 0.0\n",
    "while x != 1.125:\n",
    "    print(i, '. ', x)\n",
    "    i+=1\n",
    "    x += .125\n",
    "    if i > 20:\n",
    "        break\n",
    "    "
   ]
  },
  {
   "cell_type": "code",
   "execution_count": 13,
   "id": "extensive-nurse",
   "metadata": {},
   "outputs": [],
   "source": [
    "# metoda połowienia"
   ]
  },
  {
   "cell_type": "code",
   "execution_count": 14,
   "id": "blocked-street",
   "metadata": {},
   "outputs": [],
   "source": [
    "import pandas as pd\n",
    "import matplotlib.pyplot as plt"
   ]
  },
  {
   "cell_type": "code",
   "execution_count": 15,
   "id": "working-hawaiian",
   "metadata": {},
   "outputs": [],
   "source": [
    "# f(x) = 2*x*x -10*x+5"
   ]
  },
  {
   "cell_type": "code",
   "execution_count": 16,
   "id": "contemporary-thread",
   "metadata": {},
   "outputs": [],
   "source": [
    "def f(x):\n",
    "    return 2*x*x-10*x+5"
   ]
  },
  {
   "cell_type": "code",
   "execution_count": 18,
   "id": "least-worth",
   "metadata": {},
   "outputs": [
    {
     "name": "stdout",
     "output_type": "stream",
     "text": [
      "-7\n"
     ]
    }
   ],
   "source": [
    "print(f(2))"
   ]
  },
  {
   "cell_type": "code",
   "execution_count": 19,
   "id": "instant-sculpture",
   "metadata": {},
   "outputs": [],
   "source": [
    "list = [0,1,2,3,4,5,6]"
   ]
  },
  {
   "cell_type": "code",
   "execution_count": 20,
   "id": "proud-inflation",
   "metadata": {},
   "outputs": [
    {
     "name": "stdout",
     "output_type": "stream",
     "text": [
      "5\n",
      "-3\n",
      "-7\n",
      "-7\n",
      "-3\n",
      "5\n",
      "17\n"
     ]
    }
   ],
   "source": [
    "for e in list:\n",
    "    print(f(e))"
   ]
  },
  {
   "cell_type": "code",
   "execution_count": 21,
   "id": "descending-retailer",
   "metadata": {},
   "outputs": [],
   "source": [
    "df=pd.DataFrame({'X':list})"
   ]
  },
  {
   "cell_type": "code",
   "execution_count": 22,
   "id": "embedded-meeting",
   "metadata": {},
   "outputs": [
    {
     "data": {
      "text/html": [
       "<div>\n",
       "<style scoped>\n",
       "    .dataframe tbody tr th:only-of-type {\n",
       "        vertical-align: middle;\n",
       "    }\n",
       "\n",
       "    .dataframe tbody tr th {\n",
       "        vertical-align: top;\n",
       "    }\n",
       "\n",
       "    .dataframe thead th {\n",
       "        text-align: right;\n",
       "    }\n",
       "</style>\n",
       "<table border=\"1\" class=\"dataframe\">\n",
       "  <thead>\n",
       "    <tr style=\"text-align: right;\">\n",
       "      <th></th>\n",
       "      <th>X</th>\n",
       "      <th>F</th>\n",
       "    </tr>\n",
       "  </thead>\n",
       "  <tbody>\n",
       "    <tr>\n",
       "      <th>0</th>\n",
       "      <td>0</td>\n",
       "      <td>5</td>\n",
       "    </tr>\n",
       "    <tr>\n",
       "      <th>1</th>\n",
       "      <td>1</td>\n",
       "      <td>-3</td>\n",
       "    </tr>\n",
       "    <tr>\n",
       "      <th>2</th>\n",
       "      <td>2</td>\n",
       "      <td>-7</td>\n",
       "    </tr>\n",
       "    <tr>\n",
       "      <th>3</th>\n",
       "      <td>3</td>\n",
       "      <td>-7</td>\n",
       "    </tr>\n",
       "    <tr>\n",
       "      <th>4</th>\n",
       "      <td>4</td>\n",
       "      <td>-3</td>\n",
       "    </tr>\n",
       "    <tr>\n",
       "      <th>5</th>\n",
       "      <td>5</td>\n",
       "      <td>5</td>\n",
       "    </tr>\n",
       "    <tr>\n",
       "      <th>6</th>\n",
       "      <td>6</td>\n",
       "      <td>17</td>\n",
       "    </tr>\n",
       "  </tbody>\n",
       "</table>\n",
       "</div>"
      ],
      "text/plain": [
       "   X   F\n",
       "0  0   5\n",
       "1  1  -3\n",
       "2  2  -7\n",
       "3  3  -7\n",
       "4  4  -3\n",
       "5  5   5\n",
       "6  6  17"
      ]
     },
     "execution_count": 22,
     "metadata": {},
     "output_type": "execute_result"
    }
   ],
   "source": [
    "df['F'] = df['X'].apply(f)\n",
    "df"
   ]
  },
  {
   "cell_type": "code",
   "execution_count": 23,
   "id": "separated-report",
   "metadata": {},
   "outputs": [],
   "source": [
    "df['Z']=0"
   ]
  },
  {
   "cell_type": "code",
   "execution_count": 24,
   "id": "noticed-prompt",
   "metadata": {},
   "outputs": [
    {
     "data": {
      "text/html": [
       "<div>\n",
       "<style scoped>\n",
       "    .dataframe tbody tr th:only-of-type {\n",
       "        vertical-align: middle;\n",
       "    }\n",
       "\n",
       "    .dataframe tbody tr th {\n",
       "        vertical-align: top;\n",
       "    }\n",
       "\n",
       "    .dataframe thead th {\n",
       "        text-align: right;\n",
       "    }\n",
       "</style>\n",
       "<table border=\"1\" class=\"dataframe\">\n",
       "  <thead>\n",
       "    <tr style=\"text-align: right;\">\n",
       "      <th></th>\n",
       "      <th>X</th>\n",
       "      <th>F</th>\n",
       "      <th>Z</th>\n",
       "    </tr>\n",
       "  </thead>\n",
       "  <tbody>\n",
       "    <tr>\n",
       "      <th>0</th>\n",
       "      <td>0</td>\n",
       "      <td>5</td>\n",
       "      <td>0</td>\n",
       "    </tr>\n",
       "    <tr>\n",
       "      <th>1</th>\n",
       "      <td>1</td>\n",
       "      <td>-3</td>\n",
       "      <td>0</td>\n",
       "    </tr>\n",
       "    <tr>\n",
       "      <th>2</th>\n",
       "      <td>2</td>\n",
       "      <td>-7</td>\n",
       "      <td>0</td>\n",
       "    </tr>\n",
       "    <tr>\n",
       "      <th>3</th>\n",
       "      <td>3</td>\n",
       "      <td>-7</td>\n",
       "      <td>0</td>\n",
       "    </tr>\n",
       "    <tr>\n",
       "      <th>4</th>\n",
       "      <td>4</td>\n",
       "      <td>-3</td>\n",
       "      <td>0</td>\n",
       "    </tr>\n",
       "    <tr>\n",
       "      <th>5</th>\n",
       "      <td>5</td>\n",
       "      <td>5</td>\n",
       "      <td>0</td>\n",
       "    </tr>\n",
       "    <tr>\n",
       "      <th>6</th>\n",
       "      <td>6</td>\n",
       "      <td>17</td>\n",
       "      <td>0</td>\n",
       "    </tr>\n",
       "  </tbody>\n",
       "</table>\n",
       "</div>"
      ],
      "text/plain": [
       "   X   F  Z\n",
       "0  0   5  0\n",
       "1  1  -3  0\n",
       "2  2  -7  0\n",
       "3  3  -7  0\n",
       "4  4  -3  0\n",
       "5  5   5  0\n",
       "6  6  17  0"
      ]
     },
     "execution_count": 24,
     "metadata": {},
     "output_type": "execute_result"
    }
   ],
   "source": [
    "df"
   ]
  },
  {
   "cell_type": "code",
   "execution_count": 25,
   "id": "regional-grade",
   "metadata": {},
   "outputs": [
    {
     "data": {
      "text/plain": [
       "<AxesSubplot:xlabel='X'>"
      ]
     },
     "execution_count": 25,
     "metadata": {},
     "output_type": "execute_result"
    },
    {
     "data": {
      "image/png": "[encoded data removed]",
      "text/plain": [
       "<Figure size 432x288 with 1 Axes>"
      ]
     },
     "metadata": {
      "needs_background": "light"
     },
     "output_type": "display_data"
    }
   ],
   "source": [
    "df.plot(x='X')"
   ]
  },
  {
   "cell_type": "code",
   "execution_count": 26,
   "id": "effective-center",
   "metadata": {},
   "outputs": [],
   "source": [
    "import random"
   ]
  },
  {
   "cell_type": "code",
   "execution_count": 27,
   "id": "altered-combat",
   "metadata": {},
   "outputs": [
    {
     "name": "stdout",
     "output_type": "stream",
     "text": [
      "[1, 8, 0, 9, 0, 6, 4, 10, 1, 7]\n"
     ]
    }
   ],
   "source": [
    "list=[]\n",
    "for e in range(10):\n",
    "    list.append(random.randint(0,10))\n",
    "print(list)"
   ]
  },
  {
   "cell_type": "code",
   "execution_count": 35,
   "id": "natural-vienna",
   "metadata": {},
   "outputs": [],
   "source": [
    "# metoda bąbelkowa\n"
   ]
  },
  {
   "cell_type": "code",
   "execution_count": 28,
   "id": "spread-denial",
   "metadata": {},
   "outputs": [
    {
     "name": "stdout",
     "output_type": "stream",
     "text": [
      "[8, 1, 9, 0, 6, 4, 10, 1, 7, 0] 1\n",
      "[8, 9, 1, 6, 4, 10, 1, 7, 0, 0] 2\n",
      "[9, 8, 6, 4, 10, 1, 7, 1, 0, 0] 3\n",
      "[9, 8, 6, 10, 4, 7, 1, 1, 0, 0] 4\n",
      "[9, 8, 10, 6, 7, 4, 1, 1, 0, 0] 5\n",
      "[9, 10, 8, 7, 6, 4, 1, 1, 0, 0] 6\n",
      "[10, 9, 8, 7, 6, 4, 1, 1, 0, 0] 7\n",
      "[10, 9, 8, 7, 6, 4, 1, 1, 0, 0] 8\n"
     ]
    }
   ],
   "source": [
    "i = 0\n",
    "j = True\n",
    "while j:\n",
    "    j = False\n",
    "    for e in range(9):\n",
    "        if list[e]<list[e+1]:\n",
    "            list[e],list[e+1] = list[e+1],list[e]\n",
    "            j = True\n",
    "    i+=1\n",
    "    print(list, i)"
   ]
  },
  {
   "cell_type": "code",
   "execution_count": 1,
   "id": "banned-pennsylvania",
   "metadata": {},
   "outputs": [],
   "source": [
    "# metoda monteCarlo\n"
   ]
  },
  {
   "cell_type": "code",
   "execution_count": 30,
   "id": "banned-raising",
   "metadata": {},
   "outputs": [],
   "source": [
    "import math as m\n",
    "import random as rand"
   ]
  },
  {
   "cell_type": "code",
   "execution_count": 31,
   "id": "sustainable-anaheim",
   "metadata": {},
   "outputs": [],
   "source": [
    "# sprawdzamy bibliotekę math"
   ]
  },
  {
   "cell_type": "code",
   "execution_count": 32,
   "id": "scenic-infrastructure",
   "metadata": {},
   "outputs": [
    {
     "name": "stdout",
     "output_type": "stream",
     "text": [
      "1.4142135623730951\n"
     ]
    }
   ],
   "source": [
    "print(m.sqrt(2))"
   ]
  },
  {
   "cell_type": "code",
   "execution_count": 33,
   "id": "pediatric-steering",
   "metadata": {},
   "outputs": [],
   "source": [
    "a=b=1 #srodek koła"
   ]
  },
  {
   "cell_type": "code",
   "execution_count": 34,
   "id": "broad-knowing",
   "metadata": {},
   "outputs": [],
   "source": [
    "circ = square = 0"
   ]
  },
  {
   "cell_type": "code",
   "execution_count": 35,
   "id": "modular-bacon",
   "metadata": {},
   "outputs": [],
   "source": [
    "for i in range(1,1001):\n",
    "    x=rand.uniform(0,2)\n",
    "    y=rand.uniform(0,2)\n",
    "    r = m.sqrt((x-a)**2 + (y-b)**2)\n",
    "    if r<=1:\n",
    "        circ+=1\n",
    "    else:\n",
    "        square+=1"
   ]
  },
  {
   "cell_type": "code",
   "execution_count": 36,
   "id": "royal-bolivia",
   "metadata": {},
   "outputs": [
    {
     "name": "stdout",
     "output_type": "stream",
     "text": [
      "liczba pi =  3.1480\n"
     ]
    }
   ],
   "source": [
    "print('liczba pi = ','%.4f' % (4*circ/(square+circ)))"
   ]
  },
  {
   "cell_type": "code",
   "execution_count": null,
   "id": "republican-dodge",
   "metadata": {},
   "outputs": [],
   "source": []
  }
 ],
 "metadata": {
  "kernelspec": {
   "display_name": "Python 3",
   "language": "python",
   "name": "python3"
  },
  "language_info": {
   "codemirror_mode": {
    "name": "ipython",
    "version": 3
   },
   "file_extension": ".py",
   "mimetype": "text/x-python",
   "name": "python",
   "nbconvert_exporter": "python",
   "pygments_lexer": "ipython3",
   "version": "3.7.9"
  }
 },
 "nbformat": 4,
 "nbformat_minor": 5
}
