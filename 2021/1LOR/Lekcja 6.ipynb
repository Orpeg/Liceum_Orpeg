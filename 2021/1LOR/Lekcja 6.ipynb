{
 "cells": [
  {
   "cell_type": "markdown",
   "id": "482d09ff",
   "metadata": {},
   "source": [
    "# Programowanie w języku Python #"
   ]
  },
  {
   "cell_type": "markdown",
   "id": "a36fad50",
   "metadata": {},
   "source": [
    "*zakres range*"
   ]
  },
  {
   "cell_type": "code",
   "execution_count": 2,
   "id": "7990e0e3",
   "metadata": {},
   "outputs": [],
   "source": [
    "#zakres range(poczatek, koniec, skok)"
   ]
  },
  {
   "cell_type": "code",
   "execution_count": 3,
   "id": "ec5ed117",
   "metadata": {},
   "outputs": [],
   "source": [
    "# ustawienia domyslne poczatek = 0, skok =1"
   ]
  },
  {
   "cell_type": "code",
   "execution_count": 16,
   "id": "95f56127",
   "metadata": {},
   "outputs": [
    {
     "name": "stdout",
     "output_type": "stream",
     "text": [
      "linia nr  21\n",
      "linia nr  19\n",
      "linia nr  17\n",
      "linia nr  15\n",
      "linia nr  13\n",
      "linia nr  11\n",
      "linia nr  9\n",
      "linia nr  7\n"
     ]
    }
   ],
   "source": [
    "for e in range(21, 5, -2):\n",
    "    print('linia nr ', e)"
   ]
  },
  {
   "cell_type": "code",
   "execution_count": 13,
   "id": "8bc7d73d",
   "metadata": {},
   "outputs": [],
   "source": [
    "lista = list(range(1,50, 7))"
   ]
  },
  {
   "cell_type": "code",
   "execution_count": 14,
   "id": "40eca0f9",
   "metadata": {},
   "outputs": [
    {
     "name": "stdout",
     "output_type": "stream",
     "text": [
      "[1, 8, 15, 22, 29, 36, 43]\n"
     ]
    }
   ],
   "source": [
    "print(lista)"
   ]
  },
  {
   "cell_type": "code",
   "execution_count": 17,
   "id": "7263adfb",
   "metadata": {},
   "outputs": [],
   "source": [
    "# wyswietlenie listy"
   ]
  },
  {
   "cell_type": "code",
   "execution_count": 21,
   "id": "e50536fd",
   "metadata": {},
   "outputs": [
    {
     "name": "stdout",
     "output_type": "stream",
     "text": [
      "1, 8, 15, 22, 29, 36, 43, "
     ]
    }
   ],
   "source": [
    "for e in lista:\n",
    "    print(e, end= ', ')"
   ]
  },
  {
   "cell_type": "code",
   "execution_count": 22,
   "id": "19b68363",
   "metadata": {},
   "outputs": [],
   "source": [
    "# pętla while\n"
   ]
  },
  {
   "cell_type": "code",
   "execution_count": 23,
   "id": "b1497711",
   "metadata": {},
   "outputs": [
    {
     "name": "stdout",
     "output_type": "stream",
     "text": [
      "kolejna linia  0\n",
      "kolejna linia  1\n",
      "kolejna linia  2\n",
      "kolejna linia  3\n",
      "kolejna linia  4\n",
      "kolejna linia  5\n",
      "kolejna linia  6\n",
      "kolejna linia  7\n",
      "kolejna linia  8\n",
      "kolejna linia  9\n"
     ]
    }
   ],
   "source": [
    "i = 0\n",
    "while i < 10:\n",
    "    print('kolejna linia ', i)\n",
    "    i +=1"
   ]
  },
  {
   "cell_type": "code",
   "execution_count": 24,
   "id": "c8767920",
   "metadata": {},
   "outputs": [
    {
     "name": "stdout",
     "output_type": "stream",
     "text": [
      "element listy  20\n",
      "element listy  19\n",
      "element listy  18\n",
      "element listy  17\n",
      "element listy  16\n",
      "element listy  15\n",
      "element listy  14\n",
      "element listy  13\n",
      "element listy  12\n",
      "element listy  11\n"
     ]
    }
   ],
   "source": [
    "j = 20\n",
    "while j > 10:\n",
    "    print('element listy ', j)\n",
    "    j-=1"
   ]
  },
  {
   "cell_type": "code",
   "execution_count": 33,
   "id": "5aa84cf9",
   "metadata": {},
   "outputs": [
    {
     "name": "stdout",
     "output_type": "stream",
     "text": [
      "Podaj liczbę parzystą większą od 10  6\n",
      "podałeś liczbę  6\n"
     ]
    }
   ],
   "source": [
    "x = int(input('Podaj liczbę parzystą większą od 10  '))\n",
    "while ((x%2==0) and (x > 10)):\n",
    "    print('podałęś błędną liczbę')\n",
    "    x = int(input('spróbuj jeszcze raz  '))\n",
    "print('podałeś liczbę ', x)"
   ]
  },
  {
   "cell_type": "code",
   "execution_count": 34,
   "id": "3a56f818",
   "metadata": {},
   "outputs": [],
   "source": [
    "# if ... else\n"
   ]
  },
  {
   "cell_type": "code",
   "execution_count": 35,
   "id": "eec8938a",
   "metadata": {},
   "outputs": [],
   "source": [
    "# wypisać liczby z przedziału 1, 100,które są nieparzste i podzielne przez 7"
   ]
  },
  {
   "cell_type": "code",
   "execution_count": 39,
   "id": "6d5fad56",
   "metadata": {},
   "outputs": [
    {
     "name": "stdout",
     "output_type": "stream",
     "text": [
      "14  spelnia kryterium\n",
      "28  spelnia kryterium\n",
      "42  spelnia kryterium\n",
      "56  spelnia kryterium\n",
      "70  spelnia kryterium\n",
      "84  spelnia kryterium\n",
      "98  spelnia kryterium\n"
     ]
    }
   ],
   "source": [
    "for e in range(1, 101):\n",
    "    if (e%2 == 0 and e%7 == 0):\n",
    "        print(e, ' spelnia kryterium')\n",
    "#     else:\n",
    "#         print(e, ' nie spełnia kryterium')"
   ]
  },
  {
   "cell_type": "code",
   "execution_count": 40,
   "id": "e026006b",
   "metadata": {},
   "outputs": [],
   "source": [
    "# break\n"
   ]
  },
  {
   "cell_type": "code",
   "execution_count": 41,
   "id": "b894ea32",
   "metadata": {},
   "outputs": [],
   "source": [
    "# wybrać najmniejszą liczbę z przedziału od 1 do 100, która jest parzysta i podzielna przez 9"
   ]
  },
  {
   "cell_type": "code",
   "execution_count": 43,
   "id": "eda39a18",
   "metadata": {},
   "outputs": [
    {
     "name": "stdout",
     "output_type": "stream",
     "text": [
      "1\n",
      "2\n",
      "3\n",
      "4\n",
      "5\n",
      "6\n",
      "7\n",
      "8\n",
      "9\n",
      "10\n",
      "11\n",
      "12\n",
      "13\n",
      "14\n",
      "15\n",
      "16\n",
      "17\n",
      "18\n",
      "jest to liczba  18\n"
     ]
    }
   ],
   "source": [
    "for e in range(1,101):\n",
    "    print(e)\n",
    "    if (e%2 == 0 and e%9 == 0):\n",
    "        print('jest to liczba ', e)\n",
    "        break"
   ]
  },
  {
   "cell_type": "code",
   "execution_count": 44,
   "id": "6c17ed16",
   "metadata": {},
   "outputs": [],
   "source": [
    "# continue"
   ]
  },
  {
   "cell_type": "code",
   "execution_count": 45,
   "id": "885bf491",
   "metadata": {},
   "outputs": [
    {
     "name": "stdout",
     "output_type": "stream",
     "text": [
      "jest to liczba  18\n"
     ]
    }
   ],
   "source": [
    "for e in range(1, 101):\n",
    "    if (e%2 != 0 or e%9!=0):\n",
    "        continue\n",
    "    else:\n",
    "        print('jest to liczba ', e)\n",
    "        break"
   ]
  },
  {
   "cell_type": "code",
   "execution_count": null,
   "id": "8ddad9c2",
   "metadata": {},
   "outputs": [],
   "source": []
  }
 ],
 "metadata": {
  "kernelspec": {
   "display_name": "Python 3 (ipykernel)",
   "language": "python",
   "name": "python3"
  },
  "language_info": {
   "codemirror_mode": {
    "name": "ipython",
    "version": 3
   },
   "file_extension": ".py",
   "mimetype": "text/x-python",
   "name": "python",
   "nbconvert_exporter": "python",
   "pygments_lexer": "ipython3",
   "version": "3.7.12"
  }
 },
 "nbformat": 4,
 "nbformat_minor": 5
}
