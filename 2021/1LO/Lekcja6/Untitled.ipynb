{
 "cells": [
  {
   "cell_type": "markdown",
   "id": "c18f4f3c",
   "metadata": {},
   "source": [
    "## Programowanie w Python 3 ##"
   ]
  },
  {
   "cell_type": "markdown",
   "id": "d7826ef3",
   "metadata": {},
   "source": [
    "**definicje**\n"
   ]
  },
  {
   "cell_type": "code",
   "execution_count": null,
   "id": "310a5ca8",
   "metadata": {},
   "outputs": [],
   "source": []
  }
 ],
 "metadata": {
  "kernelspec": {
   "display_name": "Python 3 (ipykernel)",
   "language": "python",
   "name": "python3"
  },
  "language_info": {
   "codemirror_mode": {
    "name": "ipython",
    "version": 3
   },
   "file_extension": ".py",
   "mimetype": "text/x-python",
   "name": "python",
   "nbconvert_exporter": "python",
   "pygments_lexer": "ipython3",
   "version": "3.7.12"
  }
 },
 "nbformat": 4,
 "nbformat_minor": 5
}
