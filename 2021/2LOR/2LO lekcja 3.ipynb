{
 "cells": [
  {
   "cell_type": "code",
   "execution_count": 1,
   "id": "reliable-philippines",
   "metadata": {},
   "outputs": [],
   "source": [
    "napis = 'poniedziałek'"
   ]
  },
  {
   "cell_type": "code",
   "execution_count": 2,
   "id": "apart-broadcasting",
   "metadata": {},
   "outputs": [
    {
     "name": "stdout",
     "output_type": "stream",
     "text": [
      "poniedziałek\n"
     ]
    }
   ],
   "source": [
    "print(napis)"
   ]
  },
  {
   "cell_type": "code",
   "execution_count": 3,
   "id": "compressed-martial",
   "metadata": {},
   "outputs": [],
   "source": [
    "napis1 = 'wtorek'"
   ]
  },
  {
   "cell_type": "code",
   "execution_count": 4,
   "id": "continuing-camping",
   "metadata": {},
   "outputs": [
    {
     "name": "stdout",
     "output_type": "stream",
     "text": [
      "wtorek\n"
     ]
    }
   ],
   "source": [
    "print(napis1)"
   ]
  },
  {
   "cell_type": "code",
   "execution_count": 5,
   "id": "radio-hughes",
   "metadata": {},
   "outputs": [],
   "source": [
    "# konkatenacja"
   ]
  },
  {
   "cell_type": "code",
   "execution_count": 6,
   "id": "allied-extra",
   "metadata": {},
   "outputs": [
    {
     "name": "stdout",
     "output_type": "stream",
     "text": [
      "poniedziałek wtorek\n"
     ]
    }
   ],
   "source": [
    "print(napis+' '+napis1)"
   ]
  },
  {
   "cell_type": "code",
   "execution_count": 7,
   "id": "hazardous-ireland",
   "metadata": {},
   "outputs": [
    {
     "data": {
      "text/plain": [
       "12"
      ]
     },
     "execution_count": 7,
     "metadata": {},
     "output_type": "execute_result"
    }
   ],
   "source": [
    "len(napis)"
   ]
  },
  {
   "cell_type": "code",
   "execution_count": 8,
   "id": "raising-marine",
   "metadata": {},
   "outputs": [
    {
     "data": {
      "text/plain": [
       "6"
      ]
     },
     "execution_count": 8,
     "metadata": {},
     "output_type": "execute_result"
    }
   ],
   "source": [
    "len(napis1)"
   ]
  },
  {
   "cell_type": "code",
   "execution_count": 10,
   "id": "foreign-tattoo",
   "metadata": {},
   "outputs": [
    {
     "name": "stdout",
     "output_type": "stream",
     "text": [
      "1\n"
     ]
    }
   ],
   "source": [
    "print(napis.count('ia'))"
   ]
  },
  {
   "cell_type": "code",
   "execution_count": 12,
   "id": "unnecessary-shade",
   "metadata": {},
   "outputs": [
    {
     "name": "stdout",
     "output_type": "stream",
     "text": [
      "nie\n"
     ]
    }
   ],
   "source": [
    "print(napis[2:5])"
   ]
  },
  {
   "cell_type": "code",
   "execution_count": 13,
   "id": "finished-choir",
   "metadata": {},
   "outputs": [
    {
     "name": "stdout",
     "output_type": "stream",
     "text": [
      "kełaizdeinop\n"
     ]
    }
   ],
   "source": [
    "print(napis[::-1])"
   ]
  },
  {
   "cell_type": "code",
   "execution_count": 14,
   "id": "unsigned-intent",
   "metadata": {},
   "outputs": [
    {
     "name": "stdout",
     "output_type": "stream",
     "text": [
      "kełaiz\n"
     ]
    }
   ],
   "source": [
    "print(napis[12:5:-1])"
   ]
  },
  {
   "cell_type": "code",
   "execution_count": 15,
   "id": "identified-capacity",
   "metadata": {},
   "outputs": [
    {
     "name": "stdout",
     "output_type": "stream",
     "text": [
      "65\n"
     ]
    }
   ],
   "source": [
    "print(ord('A'))"
   ]
  },
  {
   "cell_type": "code",
   "execution_count": 16,
   "id": "synthetic-western",
   "metadata": {},
   "outputs": [
    {
     "name": "stdout",
     "output_type": "stream",
     "text": [
      "97\n"
     ]
    }
   ],
   "source": [
    "print(ord('a'))"
   ]
  },
  {
   "cell_type": "code",
   "execution_count": 18,
   "id": "intellectual-persian",
   "metadata": {},
   "outputs": [
    {
     "name": "stdout",
     "output_type": "stream",
     "text": [
      "32\n"
     ]
    }
   ],
   "source": [
    "print(ord('b') - ord('B'))"
   ]
  },
  {
   "cell_type": "code",
   "execution_count": 19,
   "id": "adverse-fundamental",
   "metadata": {},
   "outputs": [
    {
     "name": "stdout",
     "output_type": "stream",
     "text": [
      "32\n"
     ]
    }
   ],
   "source": [
    "print(ord(' '))"
   ]
  },
  {
   "cell_type": "code",
   "execution_count": 23,
   "id": "compatible-statement",
   "metadata": {},
   "outputs": [
    {
     "name": "stdout",
     "output_type": "stream",
     "text": [
      "48\n"
     ]
    }
   ],
   "source": [
    "print(ord('0'))"
   ]
  },
  {
   "cell_type": "code",
   "execution_count": 26,
   "id": "compatible-james",
   "metadata": {},
   "outputs": [
    {
     "name": "stdout",
     "output_type": "stream",
     "text": [
      "0 48\n",
      "1 49\n",
      "2 50\n",
      "3 51\n",
      "4 52\n",
      "5 53\n",
      "6 54\n",
      "7 55\n",
      "8 56\n",
      "9 57\n"
     ]
    }
   ],
   "source": [
    "for i in range(0,10):\n",
    "    print(i, ord(str(i)))"
   ]
  },
  {
   "cell_type": "code",
   "execution_count": 34,
   "id": "consistent-laundry",
   "metadata": {},
   "outputs": [
    {
     "name": "stdout",
     "output_type": "stream",
     "text": [
      "|\n"
     ]
    }
   ],
   "source": [
    "print(chr(124))"
   ]
  },
  {
   "cell_type": "code",
   "execution_count": 35,
   "id": "spatial-palestine",
   "metadata": {},
   "outputs": [],
   "source": [
    "kod_dostepu = 'pUx$34!'"
   ]
  },
  {
   "cell_type": "code",
   "execution_count": 38,
   "id": "collaborative-plant",
   "metadata": {},
   "outputs": [
    {
     "name": "stdout",
     "output_type": "stream",
     "text": [
      "s X { ' 6 7 $ "
     ]
    }
   ],
   "source": [
    "for e in kod_dostepu:\n",
    "    print(chr(ord(e)+3), end=' ')"
   ]
  },
  {
   "cell_type": "code",
   "execution_count": null,
   "id": "manual-modem",
   "metadata": {},
   "outputs": [],
   "source": []
  }
 ],
 "metadata": {
  "kernelspec": {
   "display_name": "Python 3",
   "language": "python",
   "name": "python3"
  },
  "language_info": {
   "codemirror_mode": {
    "name": "ipython",
    "version": 3
   },
   "file_extension": ".py",
   "mimetype": "text/x-python",
   "name": "python",
   "nbconvert_exporter": "python",
   "pygments_lexer": "ipython3",
   "version": "3.7.9"
  }
 },
 "nbformat": 4,
 "nbformat_minor": 5
}
