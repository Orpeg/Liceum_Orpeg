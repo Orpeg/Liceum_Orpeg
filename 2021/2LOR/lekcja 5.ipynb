{
 "cells": [
  {
   "cell_type": "code",
   "execution_count": 6,
   "id": "b330ba05",
   "metadata": {},
   "outputs": [],
   "source": [
    "lst = ['Małgorzata\\n','Aleksander\\n', 'Brian\\n', 'Wernika\\n', 'Konrad\\n', 'Damian\\n', 'Dawid\\n', 'Filip\\n', 'Jakub\\n', 'Klaudia\\n', 'Marcelina\\n', 'bąbelek']\n",
    "\n",
    "f = open('names.txt', mode='w')\n",
    "for e in lst:\n",
    "    f.writelines(e)\n",
    "f.close()    "
   ]
  },
  {
   "cell_type": "code",
   "execution_count": 7,
   "id": "ebe6deca",
   "metadata": {},
   "outputs": [
    {
     "name": "stdout",
     "output_type": "stream",
     "text": [
      "Małgorzata\n",
      "\n",
      "Aleksander\n",
      "\n",
      "Brian\n",
      "\n",
      "Wernika\n",
      "\n",
      "Konrad\n",
      "\n",
      "Damian\n",
      "\n",
      "Dawid\n",
      "\n",
      "Filip\n",
      "\n",
      "Jakub\n",
      "\n",
      "Klaudia\n",
      "\n",
      "Marcelina\n",
      "\n",
      "bąbelek\n"
     ]
    }
   ],
   "source": [
    "f = open('names.txt', mode='r')\n",
    "for e in f:\n",
    "    print(e)\n",
    "f.close()"
   ]
  },
  {
   "cell_type": "code",
   "execution_count": 9,
   "id": "fa1c4211",
   "metadata": {},
   "outputs": [
    {
     "name": "stdout",
     "output_type": "stream",
     "text": [
      "Małgosia\n",
      "\n",
      "Jurek\n",
      "\n",
      "Andrzej\n",
      "\n",
      "Stefan\n",
      "\n",
      "Zosia\n",
      "\n",
      "Bożena\n",
      "\n",
      "Marta\n",
      "\n"
     ]
    }
   ],
   "source": [
    "f = open('nazwy.txt', mode='r', encoding='utf-8')\n",
    "for e in f:\n",
    "    print(e)\n",
    "f.close()"
   ]
  },
  {
   "cell_type": "code",
   "execution_count": 10,
   "id": "0a99f94b",
   "metadata": {},
   "outputs": [],
   "source": [
    "import random"
   ]
  },
  {
   "cell_type": "code",
   "execution_count": 11,
   "id": "7b6c53fe",
   "metadata": {},
   "outputs": [
    {
     "name": "stdout",
     "output_type": "stream",
     "text": [
      "[54, 51, 72, 69, 36, 14, 22, 69, 19, 84, 79, 13, 11, 33, 69, 67, 30, 61, 42, 85]\n"
     ]
    }
   ],
   "source": [
    "num = []\n",
    "for e in range(20):\n",
    "    num.append(random.randint(1,100))\n",
    "print(num)"
   ]
  },
  {
   "cell_type": "code",
   "execution_count": 13,
   "id": "ac2a657a",
   "metadata": {},
   "outputs": [],
   "source": [
    "f = open('numbers.txt', mode='a')\n",
    "for e in num:\n",
    "    f.writelines(str(e)+'\\n')\n",
    "f.close()"
   ]
  },
  {
   "cell_type": "code",
   "execution_count": 14,
   "id": "0322faee",
   "metadata": {},
   "outputs": [
    {
     "data": {
      "text/plain": [
       "True"
      ]
     },
     "execution_count": 14,
     "metadata": {},
     "output_type": "execute_result"
    }
   ],
   "source": [
    "f.closed"
   ]
  },
  {
   "cell_type": "code",
   "execution_count": 17,
   "id": "583f2e8e",
   "metadata": {},
   "outputs": [],
   "source": [
    "liczby = []\n",
    "f = open('numbers.txt', mode='r')\n",
    "for e in f:\n",
    "    liczby.append(int(e))\n",
    "f.close()"
   ]
  },
  {
   "cell_type": "code",
   "execution_count": 18,
   "id": "691ea586",
   "metadata": {},
   "outputs": [
    {
     "name": "stdout",
     "output_type": "stream",
     "text": [
      "[54, 51, 72, 69, 36, 14, 22, 69, 19, 84, 79, 13, 11, 33, 69, 67, 30, 61, 42, 85]\n"
     ]
    }
   ],
   "source": [
    "print(liczby)"
   ]
  },
  {
   "cell_type": "code",
   "execution_count": 22,
   "id": "650d1c3b",
   "metadata": {},
   "outputs": [
    {
     "name": "stdout",
     "output_type": "stream",
     "text": [
      "11\n"
     ]
    }
   ],
   "source": [
    "print(min(liczby))"
   ]
  },
  {
   "cell_type": "code",
   "execution_count": 23,
   "id": "fadd28d8",
   "metadata": {},
   "outputs": [
    {
     "name": "stdout",
     "output_type": "stream",
     "text": [
      "wartosc srednia avg =  49.0\n"
     ]
    }
   ],
   "source": [
    "print('wartosc srednia avg = ', sum(liczby)/len(liczby))"
   ]
  },
  {
   "cell_type": "code",
   "execution_count": 24,
   "id": "90ac03c8",
   "metadata": {},
   "outputs": [],
   "source": [
    "import numpy as np\n"
   ]
  },
  {
   "cell_type": "code",
   "execution_count": 27,
   "id": "9c00cd93",
   "metadata": {},
   "outputs": [
    {
     "name": "stdout",
     "output_type": "stream",
     "text": [
      "wartosć srednia avg =  49.0\n"
     ]
    }
   ],
   "source": [
    "print('wartosć srednia avg = ', np.mean(liczby))"
   ]
  },
  {
   "cell_type": "code",
   "execution_count": null,
   "id": "f17b7eae",
   "metadata": {},
   "outputs": [],
   "source": []
  }
 ],
 "metadata": {
  "kernelspec": {
   "display_name": "Python 3 (ipykernel)",
   "language": "python",
   "name": "python3"
  },
  "language_info": {
   "codemirror_mode": {
    "name": "ipython",
    "version": 3
   },
   "file_extension": ".py",
   "mimetype": "text/x-python",
   "name": "python",
   "nbconvert_exporter": "python",
   "pygments_lexer": "ipython3",
   "version": "3.7.12"
  }
 },
 "nbformat": 4,
 "nbformat_minor": 5
}
