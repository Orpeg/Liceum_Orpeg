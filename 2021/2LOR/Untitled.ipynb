{
 "cells": [
  {
   "cell_type": "code",
   "execution_count": 6,
   "id": "complex-franklin",
   "metadata": {},
   "outputs": [
    {
     "name": "stdout",
     "output_type": "stream",
     "text": [
      "[5, 3, 2, 6, 1]\n"
     ]
    }
   ],
   "source": [
    "def babelek(t):\n",
    "    for i in range(len(t)-1):\n",
    "        if t[i] < t[i+1]:\n",
    "            t[i], t[i+1] = t[i+1], t[i]\n",
    "    return t\n",
    "\n",
    "t = [1,5,3,2,6]\n",
    "print(babelek(t))"
   ]
  },
  {
   "cell_type": "code",
   "execution_count": 7,
   "id": "intense-exemption",
   "metadata": {},
   "outputs": [
    {
     "name": "stdout",
     "output_type": "stream",
     "text": [
      "[5, 3, 6, 2, 1]\n"
     ]
    }
   ],
   "source": [
    "print(babelek(t))"
   ]
  },
  {
   "cell_type": "code",
   "execution_count": 8,
   "id": "appreciated-anime",
   "metadata": {},
   "outputs": [
    {
     "name": "stdout",
     "output_type": "stream",
     "text": [
      "[5, 6, 3, 2, 1]\n"
     ]
    }
   ],
   "source": [
    "print(babelek(t))"
   ]
  },
  {
   "cell_type": "code",
   "execution_count": 9,
   "id": "massive-ridge",
   "metadata": {},
   "outputs": [
    {
     "name": "stdout",
     "output_type": "stream",
     "text": [
      "[6, 5, 3, 2, 1]\n"
     ]
    }
   ],
   "source": [
    "print(babelek(t))"
   ]
  },
  {
   "cell_type": "code",
   "execution_count": null,
   "id": "driving-turning",
   "metadata": {},
   "outputs": [],
   "source": []
  }
 ],
 "metadata": {
  "kernelspec": {
   "display_name": "Python 3",
   "language": "python",
   "name": "python3"
  },
  "language_info": {
   "codemirror_mode": {
    "name": "ipython",
    "version": 3
   },
   "file_extension": ".py",
   "mimetype": "text/x-python",
   "name": "python",
   "nbconvert_exporter": "python",
   "pygments_lexer": "ipython3",
   "version": "3.7.9"
  }
 },
 "nbformat": 4,
 "nbformat_minor": 5
}
