{
 "cells": [
  {
   "cell_type": "markdown",
   "id": "outside-proxy",
   "metadata": {},
   "source": [
    "## System liczbowe ##"
   ]
  },
  {
   "cell_type": "code",
   "execution_count": 1,
   "id": "guilty-device",
   "metadata": {},
   "outputs": [],
   "source": [
    "import pandas as pd\n",
    "import matplotlib.pyplot as plt"
   ]
  },
  {
   "cell_type": "code",
   "execution_count": 2,
   "id": "sharp-compression",
   "metadata": {},
   "outputs": [
    {
     "name": "stdout",
     "output_type": "stream",
     "text": [
      "1 .  0.1\n",
      "2 .  0.2\n",
      "3 .  0.30000000000000004\n",
      "4 .  0.4\n",
      "5 .  0.5\n",
      "6 .  0.6\n",
      "7 .  0.7\n",
      "8 .  0.7999999999999999\n",
      "9 .  0.8999999999999999\n",
      "10 .  0.9999999999999999\n",
      "11 .  1.0999999999999999\n",
      "12 .  1.2\n",
      "13 .  1.3\n",
      "14 .  1.4000000000000001\n",
      "15 .  1.5000000000000002\n",
      "16 .  1.6000000000000003\n"
     ]
    }
   ],
   "source": [
    "# sprawdzamy dokładność\n",
    "i = 0\n",
    "x = 0.0\n",
    "while x != 1.0:\n",
    "    x += 0.1\n",
    "    i+=1\n",
    "    print(i, '. ', x)\n",
    "    if i > 15:\n",
    "        break"
   ]
  },
  {
   "cell_type": "code",
   "execution_count": 3,
   "id": "sustainable-delicious",
   "metadata": {},
   "outputs": [],
   "source": [
    "# f(x) = 2*x**2 -10x + 5\n",
    "def f(x):\n",
    "    return 2*x*x-10*x+5"
   ]
  },
  {
   "cell_type": "code",
   "execution_count": 4,
   "id": "peripheral-tokyo",
   "metadata": {},
   "outputs": [
    {
     "name": "stdout",
     "output_type": "stream",
     "text": [
      "-3\n"
     ]
    }
   ],
   "source": [
    "print(f(4))"
   ]
  },
  {
   "cell_type": "code",
   "execution_count": 5,
   "id": "democratic-student",
   "metadata": {},
   "outputs": [],
   "source": [
    "list = [-2,-1,0,1,2,3,4,5,6]"
   ]
  },
  {
   "cell_type": "code",
   "execution_count": 6,
   "id": "helpful-phoenix",
   "metadata": {},
   "outputs": [
    {
     "name": "stdout",
     "output_type": "stream",
     "text": [
      "33\n",
      "17\n",
      "5\n",
      "-3\n",
      "-7\n",
      "-7\n",
      "-3\n",
      "5\n",
      "17\n"
     ]
    }
   ],
   "source": [
    "for e in list:\n",
    "    print(f(e))"
   ]
  },
  {
   "cell_type": "code",
   "execution_count": 7,
   "id": "fundamental-shelf",
   "metadata": {},
   "outputs": [
    {
     "data": {
      "text/html": [
       "<div>\n",
       "<style scoped>\n",
       "    .dataframe tbody tr th:only-of-type {\n",
       "        vertical-align: middle;\n",
       "    }\n",
       "\n",
       "    .dataframe tbody tr th {\n",
       "        vertical-align: top;\n",
       "    }\n",
       "\n",
       "    .dataframe thead th {\n",
       "        text-align: right;\n",
       "    }\n",
       "</style>\n",
       "<table border=\"1\" class=\"dataframe\">\n",
       "  <thead>\n",
       "    <tr style=\"text-align: right;\">\n",
       "      <th></th>\n",
       "      <th>X</th>\n",
       "    </tr>\n",
       "  </thead>\n",
       "  <tbody>\n",
       "    <tr>\n",
       "      <th>0</th>\n",
       "      <td>-2</td>\n",
       "    </tr>\n",
       "    <tr>\n",
       "      <th>1</th>\n",
       "      <td>-1</td>\n",
       "    </tr>\n",
       "    <tr>\n",
       "      <th>2</th>\n",
       "      <td>0</td>\n",
       "    </tr>\n",
       "    <tr>\n",
       "      <th>3</th>\n",
       "      <td>1</td>\n",
       "    </tr>\n",
       "    <tr>\n",
       "      <th>4</th>\n",
       "      <td>2</td>\n",
       "    </tr>\n",
       "    <tr>\n",
       "      <th>5</th>\n",
       "      <td>3</td>\n",
       "    </tr>\n",
       "    <tr>\n",
       "      <th>6</th>\n",
       "      <td>4</td>\n",
       "    </tr>\n",
       "    <tr>\n",
       "      <th>7</th>\n",
       "      <td>5</td>\n",
       "    </tr>\n",
       "    <tr>\n",
       "      <th>8</th>\n",
       "      <td>6</td>\n",
       "    </tr>\n",
       "  </tbody>\n",
       "</table>\n",
       "</div>"
      ],
      "text/plain": [
       "   X\n",
       "0 -2\n",
       "1 -1\n",
       "2  0\n",
       "3  1\n",
       "4  2\n",
       "5  3\n",
       "6  4\n",
       "7  5\n",
       "8  6"
      ]
     },
     "execution_count": 7,
     "metadata": {},
     "output_type": "execute_result"
    }
   ],
   "source": [
    "df = pd.DataFrame({'X':list})\n",
    "df"
   ]
  },
  {
   "cell_type": "code",
   "execution_count": 8,
   "id": "involved-lambda",
   "metadata": {},
   "outputs": [],
   "source": [
    "df['F'] = df['X'].apply(f)"
   ]
  },
  {
   "cell_type": "code",
   "execution_count": 9,
   "id": "sunset-cameroon",
   "metadata": {},
   "outputs": [
    {
     "data": {
      "text/html": [
       "<div>\n",
       "<style scoped>\n",
       "    .dataframe tbody tr th:only-of-type {\n",
       "        vertical-align: middle;\n",
       "    }\n",
       "\n",
       "    .dataframe tbody tr th {\n",
       "        vertical-align: top;\n",
       "    }\n",
       "\n",
       "    .dataframe thead th {\n",
       "        text-align: right;\n",
       "    }\n",
       "</style>\n",
       "<table border=\"1\" class=\"dataframe\">\n",
       "  <thead>\n",
       "    <tr style=\"text-align: right;\">\n",
       "      <th></th>\n",
       "      <th>X</th>\n",
       "      <th>F</th>\n",
       "      <th>Z</th>\n",
       "    </tr>\n",
       "  </thead>\n",
       "  <tbody>\n",
       "    <tr>\n",
       "      <th>0</th>\n",
       "      <td>-2</td>\n",
       "      <td>33</td>\n",
       "      <td>0</td>\n",
       "    </tr>\n",
       "    <tr>\n",
       "      <th>1</th>\n",
       "      <td>-1</td>\n",
       "      <td>17</td>\n",
       "      <td>0</td>\n",
       "    </tr>\n",
       "    <tr>\n",
       "      <th>2</th>\n",
       "      <td>0</td>\n",
       "      <td>5</td>\n",
       "      <td>0</td>\n",
       "    </tr>\n",
       "    <tr>\n",
       "      <th>3</th>\n",
       "      <td>1</td>\n",
       "      <td>-3</td>\n",
       "      <td>0</td>\n",
       "    </tr>\n",
       "    <tr>\n",
       "      <th>4</th>\n",
       "      <td>2</td>\n",
       "      <td>-7</td>\n",
       "      <td>0</td>\n",
       "    </tr>\n",
       "    <tr>\n",
       "      <th>5</th>\n",
       "      <td>3</td>\n",
       "      <td>-7</td>\n",
       "      <td>0</td>\n",
       "    </tr>\n",
       "    <tr>\n",
       "      <th>6</th>\n",
       "      <td>4</td>\n",
       "      <td>-3</td>\n",
       "      <td>0</td>\n",
       "    </tr>\n",
       "    <tr>\n",
       "      <th>7</th>\n",
       "      <td>5</td>\n",
       "      <td>5</td>\n",
       "      <td>0</td>\n",
       "    </tr>\n",
       "    <tr>\n",
       "      <th>8</th>\n",
       "      <td>6</td>\n",
       "      <td>17</td>\n",
       "      <td>0</td>\n",
       "    </tr>\n",
       "  </tbody>\n",
       "</table>\n",
       "</div>"
      ],
      "text/plain": [
       "   X   F  Z\n",
       "0 -2  33  0\n",
       "1 -1  17  0\n",
       "2  0   5  0\n",
       "3  1  -3  0\n",
       "4  2  -7  0\n",
       "5  3  -7  0\n",
       "6  4  -3  0\n",
       "7  5   5  0\n",
       "8  6  17  0"
      ]
     },
     "execution_count": 9,
     "metadata": {},
     "output_type": "execute_result"
    }
   ],
   "source": [
    "df['Z'] = 0\n",
    "df"
   ]
  },
  {
   "cell_type": "code",
   "execution_count": 10,
   "id": "close-revelation",
   "metadata": {},
   "outputs": [],
   "source": [
    "df.to_clipboard(index=False)"
   ]
  },
  {
   "cell_type": "code",
   "execution_count": 22,
   "id": "adolescent-thirty",
   "metadata": {},
   "outputs": [
    {
     "data": {
      "text/plain": [
       "<AxesSubplot:xlabel='X'>"
      ]
     },
     "execution_count": 22,
     "metadata": {},
     "output_type": "execute_result"
    },
    {
     "data": {
      "image/png": "[encoded data removed]",
      "text/plain": [
       "<Figure size 432x288 with 1 Axes>"
      ]
     },
     "metadata": {
      "needs_background": "light"
     },
     "output_type": "display_data"
    }
   ],
   "source": [
    "df.plot(x = 'X')"
   ]
  },
  {
   "cell_type": "code",
   "execution_count": 14,
   "id": "august-assist",
   "metadata": {},
   "outputs": [],
   "source": [
    "# metodao połowienia\n",
    "def zerowe(eps):\n",
    "    a=4\n",
    "    b=5\n",
    "    while abs(b-a) > eps:\n",
    "        c = (a+b)/2\n",
    "        if f(c)<0:\n",
    "            a=c\n",
    "        else:\n",
    "            b=c\n",
    "    return c"
   ]
  },
  {
   "cell_type": "code",
   "execution_count": 15,
   "id": "secure-transfer",
   "metadata": {},
   "outputs": [
    {
     "name": "stdout",
     "output_type": "stream",
     "text": [
      "4.4365234375\n"
     ]
    }
   ],
   "source": [
    "print(zerowe(0.001))"
   ]
  },
  {
   "cell_type": "code",
   "execution_count": 16,
   "id": "cutting-label",
   "metadata": {},
   "outputs": [
    {
     "data": {
      "text/plain": [
       "0.0002460479736328125"
      ]
     },
     "execution_count": 16,
     "metadata": {},
     "output_type": "execute_result"
    }
   ],
   "source": [
    "f(4.4365234375)"
   ]
  },
  {
   "cell_type": "code",
   "execution_count": 32,
   "id": "champion-assurance",
   "metadata": {},
   "outputs": [
    {
     "name": "stdout",
     "output_type": "stream",
     "text": [
      "0b10000000\n"
     ]
    }
   ],
   "source": [
    "# systemy liczbowe\n",
    "print(bin(128))"
   ]
  },
  {
   "cell_type": "code",
   "execution_count": 31,
   "id": "returning-street",
   "metadata": {},
   "outputs": [
    {
     "name": "stdout",
     "output_type": "stream",
     "text": [
      "10\n"
     ]
    }
   ],
   "source": [
    "print(int('1010',2))"
   ]
  },
  {
   "cell_type": "code",
   "execution_count": 33,
   "id": "critical-onion",
   "metadata": {},
   "outputs": [],
   "source": [
    "listb = [128,192,224,240,248,252,254,255]"
   ]
  },
  {
   "cell_type": "code",
   "execution_count": 34,
   "id": "vocational-addition",
   "metadata": {},
   "outputs": [
    {
     "name": "stdout",
     "output_type": "stream",
     "text": [
      "0b10000000\n",
      "0b11000000\n",
      "0b11100000\n",
      "0b11110000\n",
      "0b11111000\n",
      "0b11111100\n",
      "0b11111110\n",
      "0b11111111\n"
     ]
    }
   ],
   "source": [
    "for e in listb:\n",
    "    print(bin(e))"
   ]
  },
  {
   "cell_type": "code",
   "execution_count": 35,
   "id": "square-article",
   "metadata": {},
   "outputs": [
    {
     "name": "stdout",
     "output_type": "stream",
     "text": [
      "0o144\n"
     ]
    }
   ],
   "source": [
    "print(oct(100))"
   ]
  },
  {
   "cell_type": "code",
   "execution_count": 39,
   "id": "smaller-being",
   "metadata": {},
   "outputs": [
    {
     "name": "stdout",
     "output_type": "stream",
     "text": [
      "63\n"
     ]
    }
   ],
   "source": [
    "print(int('77',8))"
   ]
  },
  {
   "cell_type": "code",
   "execution_count": 43,
   "id": "informational-ottawa",
   "metadata": {},
   "outputs": [
    {
     "name": "stdout",
     "output_type": "stream",
     "text": [
      "0o74\n",
      "0o75\n",
      "0o76\n",
      "0o77\n",
      "przejscie do nastepnej pozycji\n",
      "0o100\n",
      "0o101\n"
     ]
    }
   ],
   "source": [
    "for e in range(60,66):\n",
    "    print(oct(e))\n",
    "    if e==63:\n",
    "        print('przejscie do nastepnej pozycji')\n",
    "    \n",
    "    "
   ]
  },
  {
   "cell_type": "code",
   "execution_count": null,
   "id": "bright-velvet",
   "metadata": {},
   "outputs": [],
   "source": [
    "p"
   ]
  }
 ],
 "metadata": {
  "kernelspec": {
   "display_name": "Python 3",
   "language": "python",
   "name": "python3"
  },
  "language_info": {
   "codemirror_mode": {
    "name": "ipython",
    "version": 3
   },
   "file_extension": ".py",
   "mimetype": "text/x-python",
   "name": "python",
   "nbconvert_exporter": "python",
   "pygments_lexer": "ipython3",
   "version": "3.7.9"
  }
 },
 "nbformat": 4,
 "nbformat_minor": 5
}
