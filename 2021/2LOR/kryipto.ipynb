{
 "cells": [
  {
   "cell_type": "markdown",
   "id": "biological-mentor",
   "metadata": {},
   "source": [
    "## Kryptografia ##"
   ]
  },
  {
   "cell_type": "code",
   "execution_count": 10,
   "id": "shaped-ottawa",
   "metadata": {},
   "outputs": [],
   "source": [
    "s = 'grudzień'"
   ]
  },
  {
   "cell_type": "code",
   "execution_count": 11,
   "id": "still-point",
   "metadata": {},
   "outputs": [
    {
     "name": "stdout",
     "output_type": "stream",
     "text": [
      "g\n",
      "r\n",
      "u\n",
      "d\n",
      "z\n",
      "i\n",
      "e\n",
      "ń\n"
     ]
    }
   ],
   "source": [
    "for e in s:\n",
    "    print(e)"
   ]
  },
  {
   "cell_type": "code",
   "execution_count": 12,
   "id": "curious-thousand",
   "metadata": {},
   "outputs": [],
   "source": [
    "lst = [3,5,8,1,2]"
   ]
  },
  {
   "cell_type": "code",
   "execution_count": 13,
   "id": "behind-asthma",
   "metadata": {},
   "outputs": [
    {
     "name": "stdout",
     "output_type": "stream",
     "text": [
      "3\n",
      "5\n",
      "8\n",
      "1\n",
      "2\n"
     ]
    }
   ],
   "source": [
    "for e in lst:\n",
    "    print(e)"
   ]
  },
  {
   "cell_type": "code",
   "execution_count": 14,
   "id": "plain-oasis",
   "metadata": {},
   "outputs": [
    {
     "name": "stdout",
     "output_type": "stream",
     "text": [
      "[1, 2, 3, 5, 8]\n"
     ]
    }
   ],
   "source": [
    "print(sorted(lst))"
   ]
  },
  {
   "cell_type": "code",
   "execution_count": 15,
   "id": "numerous-logan",
   "metadata": {},
   "outputs": [
    {
     "name": "stdout",
     "output_type": "stream",
     "text": [
      "['d', 'e', 'g', 'i', 'r', 'u', 'z', 'ń']\n"
     ]
    }
   ],
   "source": [
    "print(sorted(s))"
   ]
  },
  {
   "cell_type": "code",
   "execution_count": 16,
   "id": "functional-husband",
   "metadata": {},
   "outputs": [],
   "source": [
    "wyraz = list(s)"
   ]
  },
  {
   "cell_type": "code",
   "execution_count": 17,
   "id": "massive-result",
   "metadata": {},
   "outputs": [
    {
     "name": "stdout",
     "output_type": "stream",
     "text": [
      "['g', 'r', 'u', 'd', 'z', 'i', 'e', 'ń']\n"
     ]
    }
   ],
   "source": [
    "print(wyraz)"
   ]
  },
  {
   "cell_type": "code",
   "execution_count": 18,
   "id": "general-march",
   "metadata": {},
   "outputs": [
    {
     "name": "stdout",
     "output_type": "stream",
     "text": [
      "['d', 'e', 'g', 'i', 'r', 'u', 'z', 'ń']\n"
     ]
    }
   ],
   "source": [
    "print(sorted(wyraz))"
   ]
  },
  {
   "cell_type": "code",
   "execution_count": 19,
   "id": "upper-patch",
   "metadata": {},
   "outputs": [
    {
     "name": "stdout",
     "output_type": "stream",
     "text": [
      "65\n"
     ]
    }
   ],
   "source": [
    "print(ord('A'))"
   ]
  },
  {
   "cell_type": "code",
   "execution_count": 20,
   "id": "excess-ambassador",
   "metadata": {},
   "outputs": [
    {
     "name": "stdout",
     "output_type": "stream",
     "text": [
      "97\n"
     ]
    }
   ],
   "source": [
    "print(ord('a'))"
   ]
  },
  {
   "cell_type": "code",
   "execution_count": 22,
   "id": "fatty-columbus",
   "metadata": {},
   "outputs": [
    {
     "data": {
      "text/plain": [
       "32"
      ]
     },
     "execution_count": 22,
     "metadata": {},
     "output_type": "execute_result"
    }
   ],
   "source": [
    "ord('b')-ord('B')"
   ]
  },
  {
   "cell_type": "code",
   "execution_count": 23,
   "id": "regulation-feature",
   "metadata": {},
   "outputs": [
    {
     "name": "stdout",
     "output_type": "stream",
     "text": [
      "103\n",
      "114\n",
      "117\n",
      "100\n",
      "122\n",
      "105\n",
      "101\n",
      "324\n"
     ]
    }
   ],
   "source": [
    "for e in wyraz:\n",
    "    print(ord(e))"
   ]
  },
  {
   "cell_type": "code",
   "execution_count": 41,
   "id": "alike-finance",
   "metadata": {},
   "outputs": [
    {
     "name": "stdout",
     "output_type": "stream",
     "text": [
      "65\n"
     ]
    }
   ],
   "source": [
    "print(ord('A'))"
   ]
  },
  {
   "cell_type": "code",
   "execution_count": 25,
   "id": "warming-differential",
   "metadata": {},
   "outputs": [
    {
     "name": "stdout",
     "output_type": "stream",
     "text": [
      "Z\n"
     ]
    }
   ],
   "source": [
    "print(chr(90))"
   ]
  },
  {
   "cell_type": "code",
   "execution_count": 27,
   "id": "copyrighted-lexington",
   "metadata": {},
   "outputs": [
    {
     "name": "stdout",
     "output_type": "stream",
     "text": [
      "Z  [  \\  ]  ^  _  `  a  b  c  d  e  f  g  h  i  j  k  l  m  n  o  p  q  r  s  t  u  v  w  x  y  z  {  |  }  ~    "
     ]
    }
   ],
   "source": [
    "for i in range(90,128):\n",
    "    print(chr(i), end='  ')"
   ]
  },
  {
   "cell_type": "code",
   "execution_count": 29,
   "id": "invisible-liberal",
   "metadata": {},
   "outputs": [],
   "source": [
    "napis = 'spotkanie jutro przy fontannie o 1500'"
   ]
  },
  {
   "cell_type": "code",
   "execution_count": 30,
   "id": "large-manufacturer",
   "metadata": {},
   "outputs": [
    {
     "name": "stdout",
     "output_type": "stream",
     "text": [
      "0051 o einnatnof yzrp ortuj einaktops\n"
     ]
    }
   ],
   "source": [
    "print(napis[::-1])"
   ]
  },
  {
   "cell_type": "code",
   "execution_count": 31,
   "id": "extensive-psychology",
   "metadata": {},
   "outputs": [],
   "source": [
    "# szyft cezara"
   ]
  },
  {
   "cell_type": "code",
   "execution_count": 32,
   "id": "minimal-roberts",
   "metadata": {},
   "outputs": [],
   "source": [
    "text = 'MATEMATYKA'"
   ]
  },
  {
   "cell_type": "code",
   "execution_count": 33,
   "id": "prostate-brake",
   "metadata": {},
   "outputs": [
    {
     "name": "stdout",
     "output_type": "stream",
     "text": [
      "MATEMATYKA\n"
     ]
    }
   ],
   "source": [
    "print(text)"
   ]
  },
  {
   "cell_type": "code",
   "execution_count": 45,
   "id": "billion-charm",
   "metadata": {},
   "outputs": [
    {
     "name": "stdout",
     "output_type": "stream",
     "text": [
      "PDWHPDWBND"
     ]
    }
   ],
   "source": [
    "for e in text:\n",
    "    x = ord(e)+3\n",
    "    if x > 90:\n",
    "        x -= 26\n",
    "    print(chr(x), end= '')"
   ]
  },
  {
   "cell_type": "code",
   "execution_count": 47,
   "id": "regular-liquid",
   "metadata": {},
   "outputs": [
    {
     "name": "stdout",
     "output_type": "stream",
     "text": [
      "MATEMATYKA"
     ]
    }
   ],
   "source": [
    "napis = 'PDWHPDWBND'\n",
    "for e in napis:\n",
    "    x = ord(e) - 3\n",
    "    if x < 65:\n",
    "        x = x +26\n",
    "    print(chr(x), end='')"
   ]
  },
  {
   "cell_type": "code",
   "execution_count": null,
   "id": "unknown-spider",
   "metadata": {},
   "outputs": [],
   "source": []
  }
 ],
 "metadata": {
  "kernelspec": {
   "display_name": "Python 3",
   "language": "python",
   "name": "python3"
  },
  "language_info": {
   "codemirror_mode": {
    "name": "ipython",
    "version": 3
   },
   "file_extension": ".py",
   "mimetype": "text/x-python",
   "name": "python",
   "nbconvert_exporter": "python",
   "pygments_lexer": "ipython3",
   "version": "3.7.9"
  }
 },
 "nbformat": 4,
 "nbformat_minor": 5
}
