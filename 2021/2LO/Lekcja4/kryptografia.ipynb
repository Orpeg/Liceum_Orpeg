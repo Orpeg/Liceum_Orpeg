{
 "cells": [
  {
   "cell_type": "markdown",
   "id": "every-appeal",
   "metadata": {},
   "source": [
    "## Podstawy kryptografii ##"
   ]
  },
  {
   "cell_type": "code",
   "execution_count": 1,
   "id": "current-mechanism",
   "metadata": {},
   "outputs": [],
   "source": [
    "napis = 'PONIEDZIAŁEK'"
   ]
  },
  {
   "cell_type": "code",
   "execution_count": 2,
   "id": "scheduled-spell",
   "metadata": {},
   "outputs": [
    {
     "name": "stdout",
     "output_type": "stream",
     "text": [
      "PONIEDZIAŁEK\n"
     ]
    }
   ],
   "source": [
    "print(napis)"
   ]
  },
  {
   "cell_type": "code",
   "execution_count": 3,
   "id": "traditional-impact",
   "metadata": {},
   "outputs": [
    {
     "name": "stdout",
     "output_type": "stream",
     "text": [
      "KEŁAIZDEINOP\n"
     ]
    }
   ],
   "source": [
    "print(napis[::-1])"
   ]
  },
  {
   "cell_type": "code",
   "execution_count": 5,
   "id": "capable-baker",
   "metadata": {},
   "outputs": [
    {
     "name": "stdout",
     "output_type": "stream",
     "text": [
      "EIN\n"
     ]
    }
   ],
   "source": [
    "print(napis[4:1:-1])"
   ]
  },
  {
   "cell_type": "code",
   "execution_count": 8,
   "id": "infrared-printer",
   "metadata": {},
   "outputs": [
    {
     "name": "stdout",
     "output_type": "stream",
     "text": [
      "0, 1, 2, 3, 4, 5, 6, 7, 8, 9, "
     ]
    }
   ],
   "source": [
    "for e in range(10):\n",
    "    print(e, end=', ')"
   ]
  },
  {
   "cell_type": "code",
   "execution_count": 10,
   "id": "fancy-treat",
   "metadata": {},
   "outputs": [
    {
     "name": "stdout",
     "output_type": "stream",
     "text": [
      "10, 9, 8, 7, 6, 5, 4, 3, 2, 1, "
     ]
    }
   ],
   "source": [
    "for e in range(10,0,-1):\n",
    "    print(e, end=', ')"
   ]
  },
  {
   "cell_type": "code",
   "execution_count": 11,
   "id": "trained-peeing",
   "metadata": {},
   "outputs": [],
   "source": [
    "s = 'spotkanie przy starym dębie jutro o godzinie 10:00'"
   ]
  },
  {
   "cell_type": "code",
   "execution_count": 12,
   "id": "alpha-cleaning",
   "metadata": {},
   "outputs": [
    {
     "name": "stdout",
     "output_type": "stream",
     "text": [
      "spotkanie przy starym dębie jutro o godzinie 10:00\n"
     ]
    }
   ],
   "source": [
    "print(s)"
   ]
  },
  {
   "cell_type": "code",
   "execution_count": 13,
   "id": "adjusted-williams",
   "metadata": {},
   "outputs": [
    {
     "name": "stdout",
     "output_type": "stream",
     "text": [
      "00:01 einizdog o ortuj eibęd myrats yzrp einaktops\n"
     ]
    }
   ],
   "source": [
    "print(s[::-1])"
   ]
  },
  {
   "cell_type": "code",
   "execution_count": 14,
   "id": "demanding-tulsa",
   "metadata": {},
   "outputs": [],
   "source": [
    "# ord\n",
    "# chr"
   ]
  },
  {
   "cell_type": "code",
   "execution_count": 16,
   "id": "german-arthritis",
   "metadata": {},
   "outputs": [
    {
     "name": "stdout",
     "output_type": "stream",
     "text": [
      "115 112 111 116 107 97 110 105 101 32 112 114 122 121 32 115 116 97 114 121 109 32 100 281 98 105 101 32 106 117 116 114 111 32 111 32 103 111 100 122 105 110 105 101 32 49 48 58 48 48 "
     ]
    }
   ],
   "source": [
    "for e in s:\n",
    "    print(ord(e), end=' ')"
   ]
  },
  {
   "cell_type": "code",
   "execution_count": 18,
   "id": "boxed-isolation",
   "metadata": {},
   "outputs": [
    {
     "name": "stdout",
     "output_type": "stream",
     "text": [
      "97\n"
     ]
    }
   ],
   "source": [
    "print(ord('a'))"
   ]
  },
  {
   "cell_type": "code",
   "execution_count": 19,
   "id": "fantastic-uncertainty",
   "metadata": {},
   "outputs": [
    {
     "name": "stdout",
     "output_type": "stream",
     "text": [
      "65\n"
     ]
    }
   ],
   "source": [
    "print(ord('A'))"
   ]
  },
  {
   "cell_type": "code",
   "execution_count": 20,
   "id": "tribal-migration",
   "metadata": {},
   "outputs": [
    {
     "name": "stdout",
     "output_type": "stream",
     "text": [
      "32\n"
     ]
    }
   ],
   "source": [
    "print(ord('a') - ord('A'))\n"
   ]
  },
  {
   "cell_type": "code",
   "execution_count": 21,
   "id": "published-buying",
   "metadata": {},
   "outputs": [
    {
     "name": "stdout",
     "output_type": "stream",
     "text": [
      "\u001e",
      " \u001f   ! \" # $ % & ' ( "
     ]
    }
   ],
   "source": [
    "for e in range(30,41):\n",
    "    print(chr(e), end= ' ')"
   ]
  },
  {
   "cell_type": "code",
   "execution_count": 23,
   "id": "attempted-tiger",
   "metadata": {},
   "outputs": [
    {
     "name": "stdout",
     "output_type": "stream",
     "text": [
      "1 2 3 4 5 6 7 8 9 : "
     ]
    }
   ],
   "source": [
    "for e in range(49,59):\n",
    "    print(chr(e), end =' ')"
   ]
  },
  {
   "cell_type": "code",
   "execution_count": 24,
   "id": "cubic-shopper",
   "metadata": {},
   "outputs": [],
   "source": [
    "# szfr Cezara"
   ]
  },
  {
   "cell_type": "code",
   "execution_count": 25,
   "id": "active-handle",
   "metadata": {},
   "outputs": [
    {
     "name": "stdout",
     "output_type": "stream",
     "text": [
      "90\n"
     ]
    }
   ],
   "source": [
    "print(ord('Z'))"
   ]
  },
  {
   "cell_type": "code",
   "execution_count": 26,
   "id": "scientific-disease",
   "metadata": {},
   "outputs": [
    {
     "name": "stdout",
     "output_type": "stream",
     "text": [
      "PDWHPDWBND"
     ]
    }
   ],
   "source": [
    "s = 'MATEMATYKA'\n",
    "klucz = 3\n",
    "for e in s:\n",
    "    x = ord(e)+klucz\n",
    "    if x > 90:\n",
    "        x = x - 26\n",
    "    print(chr(x), end='')"
   ]
  },
  {
   "cell_type": "code",
   "execution_count": 27,
   "id": "portuguese-combining",
   "metadata": {},
   "outputs": [],
   "source": [
    "napis = 'SPOTKANIEJUTROPRZYFONTANNIE'"
   ]
  },
  {
   "cell_type": "code",
   "execution_count": 29,
   "id": "willing-cinema",
   "metadata": {},
   "outputs": [
    {
     "name": "stdout",
     "output_type": "stream",
     "text": [
      "VSRWNDQLHMXWURSUCBIRQWDQQLH"
     ]
    }
   ],
   "source": [
    "klucz = 3\n",
    "for e in napis:\n",
    "    x = ord(e)+ klucz\n",
    "    if x > 90:\n",
    "        x-=26\n",
    "    print(chr(x), end = '')"
   ]
  },
  {
   "cell_type": "code",
   "execution_count": 33,
   "id": "oriented-edinburgh",
   "metadata": {},
   "outputs": [],
   "source": [
    "napis = 'PDWHPDWBND'"
   ]
  },
  {
   "cell_type": "code",
   "execution_count": 34,
   "id": "careful-edwards",
   "metadata": {},
   "outputs": [
    {
     "name": "stdout",
     "output_type": "stream",
     "text": [
      "MATEMATYKA"
     ]
    }
   ],
   "source": [
    "for e in napis:\n",
    "    x = ord(e) - klucz\n",
    "    if x < 65:\n",
    "        x+=26\n",
    "    print(chr(x), end = '')"
   ]
  },
  {
   "cell_type": "code",
   "execution_count": null,
   "id": "global-animal",
   "metadata": {},
   "outputs": [],
   "source": []
  }
 ],
 "metadata": {
  "kernelspec": {
   "display_name": "Python 3",
   "language": "python",
   "name": "python3"
  },
  "language_info": {
   "codemirror_mode": {
    "name": "ipython",
    "version": 3
   },
   "file_extension": ".py",
   "mimetype": "text/x-python",
   "name": "python",
   "nbconvert_exporter": "python",
   "pygments_lexer": "ipython3",
   "version": "3.7.9"
  }
 },
 "nbformat": 4,
 "nbformat_minor": 5
}
