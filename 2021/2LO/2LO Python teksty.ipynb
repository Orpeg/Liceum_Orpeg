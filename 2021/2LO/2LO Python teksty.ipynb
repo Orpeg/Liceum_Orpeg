{
 "cells": [
  {
   "cell_type": "markdown",
   "id": "latest-stage",
   "metadata": {},
   "source": [
    "## Przetwarzanie tekstu w Pythonie ##"
   ]
  },
  {
   "cell_type": "markdown",
   "id": "approximate-construction",
   "metadata": {},
   "source": [
    "**Zmienna tekstowa**"
   ]
  },
  {
   "cell_type": "code",
   "execution_count": 1,
   "id": "atmospheric-occasion",
   "metadata": {},
   "outputs": [],
   "source": [
    "napis = 'idzie kominiarz po drabinie'"
   ]
  },
  {
   "cell_type": "code",
   "execution_count": 2,
   "id": "fallen-giving",
   "metadata": {},
   "outputs": [
    {
     "name": "stdout",
     "output_type": "stream",
     "text": [
      "idzie kominiarz po drabinie\n"
     ]
    }
   ],
   "source": [
    "print(napis)"
   ]
  },
  {
   "cell_type": "code",
   "execution_count": 3,
   "id": "successful-smoke",
   "metadata": {},
   "outputs": [
    {
     "name": "stdout",
     "output_type": "stream",
     "text": [
      "27\n"
     ]
    }
   ],
   "source": [
    "print(len(napis))"
   ]
  },
  {
   "cell_type": "code",
   "execution_count": 4,
   "id": "anonymous-sheriff",
   "metadata": {},
   "outputs": [
    {
     "name": "stdout",
     "output_type": "stream",
     "text": [
      "drabinie\n"
     ]
    }
   ],
   "source": [
    "print(napis[19:27])"
   ]
  },
  {
   "cell_type": "code",
   "execution_count": 8,
   "id": "liberal-aruba",
   "metadata": {},
   "outputs": [
    {
     "name": "stdout",
     "output_type": "stream",
     "text": [
      "einibard\n"
     ]
    }
   ],
   "source": [
    "print(napis[26:18:-1])"
   ]
  },
  {
   "cell_type": "code",
   "execution_count": 10,
   "id": "premium-synthetic",
   "metadata": {},
   "outputs": [
    {
     "name": "stdout",
     "output_type": "stream",
     "text": [
      "kominiarz\n"
     ]
    }
   ],
   "source": [
    "print(napis[6:15])"
   ]
  },
  {
   "cell_type": "code",
   "execution_count": 12,
   "id": "neural-industry",
   "metadata": {},
   "outputs": [
    {
     "name": "stdout",
     "output_type": "stream",
     "text": [
      "kominiarz na drabinie\n"
     ]
    }
   ],
   "source": [
    "print(napis[6:15]+ ' na ' +napis[19:27])"
   ]
  },
  {
   "cell_type": "markdown",
   "id": "practical-origin",
   "metadata": {},
   "source": [
    "**Konkatenacja**"
   ]
  },
  {
   "cell_type": "code",
   "execution_count": 13,
   "id": "focal-cache",
   "metadata": {},
   "outputs": [],
   "source": [
    "napis1='bocianie gniazdo'"
   ]
  },
  {
   "cell_type": "code",
   "execution_count": 14,
   "id": "undefined-bargain",
   "metadata": {},
   "outputs": [
    {
     "name": "stdout",
     "output_type": "stream",
     "text": [
      "bocianie gniazdo\n"
     ]
    }
   ],
   "source": [
    "print(napis1)"
   ]
  },
  {
   "cell_type": "code",
   "execution_count": 17,
   "id": "peripheral-aruba",
   "metadata": {},
   "outputs": [
    {
     "name": "stdout",
     "output_type": "stream",
     "text": [
      "bocianie gniazdo na drabinie\n"
     ]
    }
   ],
   "source": [
    "print(napis1 + ' na ' +napis[19:27])"
   ]
  },
  {
   "cell_type": "code",
   "execution_count": 18,
   "id": "synthetic-spokesman",
   "metadata": {},
   "outputs": [
    {
     "name": "stdout",
     "output_type": "stream",
     "text": [
      "bocianie gniazdo na drabinie\n"
     ]
    }
   ],
   "source": [
    "text = napis1 + ' na ' +napis[19:27]\n",
    "print(text)"
   ]
  },
  {
   "cell_type": "code",
   "execution_count": 20,
   "id": "signal-australia",
   "metadata": {},
   "outputs": [
    {
     "name": "stdout",
     "output_type": "stream",
     "text": [
      "2\n"
     ]
    }
   ],
   "source": [
    "print(text.count('nie'))"
   ]
  },
  {
   "cell_type": "code",
   "execution_count": 21,
   "id": "sensitive-circular",
   "metadata": {},
   "outputs": [
    {
     "name": "stdout",
     "output_type": "stream",
     "text": [
      "einibard an odzaing einaicob\n"
     ]
    }
   ],
   "source": [
    "# metoda 1\n",
    "print(text[::-1])"
   ]
  },
  {
   "cell_type": "code",
   "execution_count": 24,
   "id": "alpha-adobe",
   "metadata": {},
   "outputs": [],
   "source": [
    "# metoda 2\n",
    "rev = list(reversed(text))"
   ]
  },
  {
   "cell_type": "code",
   "execution_count": 26,
   "id": "southern-dancing",
   "metadata": {},
   "outputs": [
    {
     "name": "stdout",
     "output_type": "stream",
     "text": [
      "einibard an odzaing einaicob"
     ]
    }
   ],
   "source": [
    "for e in rev:\n",
    "    print(e,end='')"
   ]
  },
  {
   "cell_type": "code",
   "execution_count": 27,
   "id": "unable-water",
   "metadata": {},
   "outputs": [
    {
     "data": {
      "text/plain": [
       "'bocianie gniazdo na drabinie'"
      ]
     },
     "execution_count": 27,
     "metadata": {},
     "output_type": "execute_result"
    }
   ],
   "source": [
    "# ord chr\n",
    "text"
   ]
  },
  {
   "cell_type": "code",
   "execution_count": 28,
   "id": "extraordinary-contribution",
   "metadata": {},
   "outputs": [
    {
     "name": "stdout",
     "output_type": "stream",
     "text": [
      "98 111 99 105 97 110 105 101 32 103 110 105 97 122 100 111 32 110 97 32 100 114 97 98 105 110 105 101 "
     ]
    }
   ],
   "source": [
    "for e in text:\n",
    "    print(ord(e), end=' ')"
   ]
  },
  {
   "cell_type": "code",
   "execution_count": 33,
   "id": "radio-survey",
   "metadata": {},
   "outputs": [
    {
     "name": "stdout",
     "output_type": "stream",
     "text": [
      "32\n"
     ]
    }
   ],
   "source": [
    "print(ord('b')-ord('B'))"
   ]
  },
  {
   "cell_type": "code",
   "execution_count": 39,
   "id": "rolled-interval",
   "metadata": {},
   "outputs": [
    {
     "name": "stdout",
     "output_type": "stream",
     "text": [
      "erfldq\n"
     ]
    }
   ],
   "source": [
    "napis = 'erfldq'\n",
    "print(napis)"
   ]
  },
  {
   "cell_type": "code",
   "execution_count": 40,
   "id": "confused-assignment",
   "metadata": {},
   "outputs": [
    {
     "name": "stdout",
     "output_type": "stream",
     "text": [
      "bocian"
     ]
    }
   ],
   "source": [
    "for e in napis:\n",
    "    print(chr(ord(e)-3), end='')"
   ]
  },
  {
   "cell_type": "code",
   "execution_count": null,
   "id": "stuck-publication",
   "metadata": {},
   "outputs": [],
   "source": []
  }
 ],
 "metadata": {
  "kernelspec": {
   "display_name": "Python 3",
   "language": "python",
   "name": "python3"
  },
  "language_info": {
   "codemirror_mode": {
    "name": "ipython",
    "version": 3
   },
   "file_extension": ".py",
   "mimetype": "text/x-python",
   "name": "python",
   "nbconvert_exporter": "python",
   "pygments_lexer": "ipython3",
   "version": "3.7.9"
  }
 },
 "nbformat": 4,
 "nbformat_minor": 5
}
