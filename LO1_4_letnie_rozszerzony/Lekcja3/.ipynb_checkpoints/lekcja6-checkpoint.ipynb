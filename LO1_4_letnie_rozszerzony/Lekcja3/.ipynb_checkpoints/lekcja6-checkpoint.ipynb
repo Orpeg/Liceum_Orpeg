{
 "cells": [
  {
   "cell_type": "markdown",
   "metadata": {},
   "source": [
    "## Python 3\n",
    "### Teamt: Programowanie w języku Python cz. 1.\n",
    "**SPIS TREŚCI**\n",
    "\n",
    "[![Python Pandas](pandas.jpg)]\n",
    "\n",
    "-program interpretowany\n",
    "\n",
    "-Jupyter Notebook i Anaconda.org\n",
    "\n",
    "-Python Pandas"
   ]
  },
  {
   "cell_type": "code",
   "execution_count": 2,
   "metadata": {},
   "outputs": [
    {
     "name": "stdout",
     "output_type": "stream",
     "text": [
      "zmienna a =  2 , b =  3 , suma = a+b =  5\n",
      "obieg pętli nr  1\n",
      "obieg pętli nr  2\n",
      "obieg pętli nr  3\n",
      "obieg pętli nr  4\n",
      "obieg pętli nr  5\n",
      "to jest poza pęlą\n"
     ]
    }
   ],
   "source": [
    "# pętla while\n",
    "a = 2\n",
    "b = 3\n",
    "print(\"zmienna a = \",a,\", b = \", b , \", suma = a+b = \", a+b)\n",
    "j = 1 \n",
    "while j < 11:\n",
    "    print(\"obieg pętli nr \", j)\n",
    "    if (j == 5):\n",
    "        break\n",
    "#         to jest przerwanie pętli, gdy j == 5\n",
    "    j += 1\n",
    "print (\"to jest poza pęlą\")"
   ]
  },
  {
   "cell_type": "code",
   "execution_count": 3,
   "metadata": {},
   "outputs": [
    {
     "name": "stdout",
     "output_type": "stream",
     "text": [
      "podaj liczbę parzystą od 2 do 100\n",
      "podaj liczbę parzystą   x  = 3\n",
      "podałeś błędną liczbę\n",
      "spróbuj jeszcze raz\n",
      "podaj liczbę parzystą x = 150\n",
      "podałeś błędną liczbę\n",
      "spróbuj jeszcze raz\n",
      "podaj liczbę parzystą x = 151\n",
      "podałeś błędną liczbę\n",
      "spróbuj jeszcze raz\n",
      "podaj liczbę parzystą x = 82\n",
      "podałes liczbę x =  82\n"
     ]
    }
   ],
   "source": [
    "# while do sprawdzania warunku\n",
    "print(\"podaj liczbę parzystą od 2 do 100\")\n",
    "x = int(input(\"podaj liczbę parzystą   x  = \"))\n",
    "while ((x%2 != 0) | (x >100)):\n",
    "#     tu można zastosować prawo de Morgana not(a and b) = not a  or  not b\n",
    "    print(\"podałeś błędną liczbę\")\n",
    "    print(\"spróbuj jeszcze raz\")\n",
    "    x = int(input(\"podaj liczbę parzystą x = \"))\n",
    "print(\"podałes liczbę x = \", x)\n"
   ]
  },
  {
   "cell_type": "code",
   "execution_count": 5,
   "metadata": {},
   "outputs": [],
   "source": [
    "# tworzenie listy\n",
    "list = [-2,3,-8,5,9,-11]"
   ]
  },
  {
   "cell_type": "code",
   "execution_count": 6,
   "metadata": {},
   "outputs": [
    {
     "name": "stdout",
     "output_type": "stream",
     "text": [
      "[-2, 3, -8, 5, 9, -11]\n"
     ]
    }
   ],
   "source": [
    "#drukowanie całej listy\n",
    "print(list)"
   ]
  },
  {
   "cell_type": "code",
   "execution_count": 8,
   "metadata": {},
   "outputs": [
    {
     "name": "stdout",
     "output_type": "stream",
     "text": [
      "-2, 3, -8, 5, 9, -11, "
     ]
    }
   ],
   "source": [
    "# drukowanie elementów listy\n",
    "for e in list:\n",
    "    print(e, end=\", \")"
   ]
  },
  {
   "cell_type": "code",
   "execution_count": 9,
   "metadata": {},
   "outputs": [
    {
     "name": "stdout",
     "output_type": "stream",
     "text": [
      "suma =  -21\n"
     ]
    }
   ],
   "source": [
    "# sumowanie elementów ujemnych\n",
    "suma = 0\n",
    "for e in list:\n",
    "    if e<0:\n",
    "        suma += e\n",
    "print(\"suma = \", suma)"
   ]
  },
  {
   "cell_type": "code",
   "execution_count": 10,
   "metadata": {},
   "outputs": [
    {
     "name": "stdout",
     "output_type": "stream",
     "text": [
      "[-2, 3, -8, 5, 9, -11, 100]\n"
     ]
    }
   ],
   "source": [
    "# dodawanie elementu na koniec listy\n",
    "list.append(100)\n",
    "print(list)"
   ]
  },
  {
   "cell_type": "code",
   "execution_count": 11,
   "metadata": {},
   "outputs": [
    {
     "data": {
      "text/plain": [
       "100"
      ]
     },
     "execution_count": 11,
     "metadata": {},
     "output_type": "execute_result"
    }
   ],
   "source": [
    "# usuwanie ostatniego elementu\n",
    "list.pop()"
   ]
  },
  {
   "cell_type": "code",
   "execution_count": 12,
   "metadata": {},
   "outputs": [
    {
     "name": "stdout",
     "output_type": "stream",
     "text": [
      "[-2, 3, -8, 5, 9, -11]\n"
     ]
    }
   ],
   "source": [
    "# sprawdzamy czy jakk wygląda lista po operacjach append i pop\n",
    "print(list)"
   ]
  },
  {
   "cell_type": "markdown",
   "metadata": {},
   "source": [
    "## Analiza danych w Pythonie\n",
    "**potrzebna jest biblioteka pandas\n",
    "\n",
    "**do durku potrzebujemy matplotlib.pyplot"
   ]
  },
  {
   "cell_type": "code",
   "execution_count": 14,
   "metadata": {},
   "outputs": [],
   "source": [
    "# bilbioteka pandas\n",
    "# analiza danych\n",
    "import pandas as pd\n"
   ]
  },
  {
   "cell_type": "code",
   "execution_count": 15,
   "metadata": {},
   "outputs": [],
   "source": [
    "# wczytanie pliku excela w bieżącego katalogu\n",
    "df = pd.read_excel('COVID-19-geographic-disbtribution-worldwide-2020-03-14_1.xls')"
   ]
  },
  {
   "cell_type": "code",
   "execution_count": 16,
   "metadata": {},
   "outputs": [
    {
     "data": {
      "text/html": [
       "<div>\n",
       "<style scoped>\n",
       "    .dataframe tbody tr th:only-of-type {\n",
       "        vertical-align: middle;\n",
       "    }\n",
       "\n",
       "    .dataframe tbody tr th {\n",
       "        vertical-align: top;\n",
       "    }\n",
       "\n",
       "    .dataframe thead th {\n",
       "        text-align: right;\n",
       "    }\n",
       "</style>\n",
       "<table border=\"1\" class=\"dataframe\">\n",
       "  <thead>\n",
       "    <tr style=\"text-align: right;\">\n",
       "      <th></th>\n",
       "      <th>DateRep</th>\n",
       "      <th>CountryExp</th>\n",
       "      <th>NewConfCases</th>\n",
       "      <th>NewDeaths</th>\n",
       "      <th>GeoId</th>\n",
       "      <th>Gaul1Nuts1</th>\n",
       "      <th>EU</th>\n",
       "    </tr>\n",
       "  </thead>\n",
       "  <tbody>\n",
       "    <tr>\n",
       "      <th>0</th>\n",
       "      <td>2020-03-11</td>\n",
       "      <td>Afghanistan</td>\n",
       "      <td>3</td>\n",
       "      <td>0</td>\n",
       "      <td>AF</td>\n",
       "      <td>NaN</td>\n",
       "      <td>Non-EU/EEA</td>\n",
       "    </tr>\n",
       "    <tr>\n",
       "      <th>1</th>\n",
       "      <td>2020-03-08</td>\n",
       "      <td>Afghanistan</td>\n",
       "      <td>3</td>\n",
       "      <td>0</td>\n",
       "      <td>AF</td>\n",
       "      <td>NaN</td>\n",
       "      <td>Non-EU/EEA</td>\n",
       "    </tr>\n",
       "    <tr>\n",
       "      <th>2</th>\n",
       "      <td>2020-03-02</td>\n",
       "      <td>Afghanistan</td>\n",
       "      <td>0</td>\n",
       "      <td>0</td>\n",
       "      <td>AF</td>\n",
       "      <td>NaN</td>\n",
       "      <td>Non-EU/EEA</td>\n",
       "    </tr>\n",
       "  </tbody>\n",
       "</table>\n",
       "</div>"
      ],
      "text/plain": [
       "     DateRep   CountryExp  NewConfCases  NewDeaths GeoId Gaul1Nuts1  \\\n",
       "0 2020-03-11  Afghanistan             3          0    AF        NaN   \n",
       "1 2020-03-08  Afghanistan             3          0    AF        NaN   \n",
       "2 2020-03-02  Afghanistan             0          0    AF        NaN   \n",
       "\n",
       "           EU  \n",
       "0  Non-EU/EEA  \n",
       "1  Non-EU/EEA  \n",
       "2  Non-EU/EEA  "
      ]
     },
     "execution_count": 16,
     "metadata": {},
     "output_type": "execute_result"
    }
   ],
   "source": [
    "# pierwsze trzy rzędy ramki danyc\n",
    "df.head(3)"
   ]
  },
  {
   "cell_type": "code",
   "execution_count": 17,
   "metadata": {},
   "outputs": [
    {
     "data": {
      "text/plain": [
       "(5001, 7)"
      ]
     },
     "execution_count": 17,
     "metadata": {},
     "output_type": "execute_result"
    }
   ],
   "source": [
    "# informacja o ilości wierszy i kolumn\n",
    "df.shape"
   ]
  },
  {
   "cell_type": "code",
   "execution_count": 18,
   "metadata": {},
   "outputs": [
    {
     "data": {
      "text/plain": [
       "NewConfCases    68\n",
       "NewDeaths        2\n",
       "dtype: int64"
      ]
     },
     "execution_count": 18,
     "metadata": {},
     "output_type": "execute_result"
    }
   ],
   "source": [
    "# filtrujemy dane dotyczące Polski\n",
    "df[df.CountryExp == 'Poland'].sum()"
   ]
  },
  {
   "cell_type": "markdown",
   "metadata": {},
   "source": [
    "**Ciąg dalszy w następnym pliku"
   ]
  },
  {
   "cell_type": "code",
   "execution_count": null,
   "metadata": {},
   "outputs": [],
   "source": []
  }
 ],
 "metadata": {
  "kernelspec": {
   "display_name": "Python 3",
   "language": "python",
   "name": "python3"
  },
  "language_info": {
   "codemirror_mode": {
    "name": "ipython",
    "version": 3
   },
   "file_extension": ".py",
   "mimetype": "text/x-python",
   "name": "python",
   "nbconvert_exporter": "python",
   "pygments_lexer": "ipython3",
   "version": "3.7.3"
  }
 },
 "nbformat": 4,
 "nbformat_minor": 2
}
