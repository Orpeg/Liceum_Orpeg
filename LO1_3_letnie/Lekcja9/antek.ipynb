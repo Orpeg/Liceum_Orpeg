{
 "cells": [
  {
   "cell_type": "code",
   "execution_count": 11,
   "metadata": {},
   "outputs": [
    {
     "name": "stdout",
     "output_type": "stream",
     "text": [
      "podaj liczbę: 123\n",
      "suma:  6.666666666666668\n"
     ]
    }
   ],
   "source": [
    "def suma(a):\n",
    "    s = 0\n",
    "    while a > 0:      \n",
    "        s += a%10    \n",
    "        a /= 10      \n",
    "    return s\n",
    "liczba = int(input(\"podaj liczbę: \"))\n",
    "print(\"suma: \", suma(liczba))"
   ]
  },
  {
   "cell_type": "code",
   "execution_count": null,
   "metadata": {},
   "outputs": [],
   "source": []
  }
 ],
 "metadata": {
  "kernelspec": {
   "display_name": "Python 3",
   "language": "python",
   "name": "python3"
  },
  "language_info": {
   "codemirror_mode": {
    "name": "ipython",
    "version": 3
   },
   "file_extension": ".py",
   "mimetype": "text/x-python",
   "name": "python",
   "nbconvert_exporter": "python",
   "pygments_lexer": "ipython3",
   "version": "3.7.3"
  }
 },
 "nbformat": 4,
 "nbformat_minor": 2
}
