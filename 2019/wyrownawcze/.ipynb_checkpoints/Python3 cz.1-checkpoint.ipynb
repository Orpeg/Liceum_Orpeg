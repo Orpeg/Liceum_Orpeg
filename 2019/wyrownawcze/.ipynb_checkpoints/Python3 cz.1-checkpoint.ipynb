{
 "cells": [
  {
   "cell_type": "markdown",
   "metadata": {},
   "source": [
    "## Programowanie w języku Python cz. 1\n",
    "\n",
    "![Python](../images/python-logo.jpg)"
   ]
  },
  {
   "cell_type": "code",
   "execution_count": 1,
   "metadata": {},
   "outputs": [
    {
     "name": "stdout",
     "output_type": "stream",
     "text": [
      "Dzień dobry\n"
     ]
    }
   ],
   "source": [
    "print(\"Dzień dobry\")\n",
    "# to jest napis"
   ]
  },
  {
   "cell_type": "code",
   "execution_count": 2,
   "metadata": {},
   "outputs": [
    {
     "name": "stdout",
     "output_type": "stream",
     "text": [
      "2\n"
     ]
    }
   ],
   "source": [
    "# drukowanie liczby\n",
    "print(2)"
   ]
  },
  {
   "cell_type": "code",
   "execution_count": 3,
   "metadata": {},
   "outputs": [],
   "source": [
    "# zmienne\n",
    "a = 2\n",
    "b = 3"
   ]
  },
  {
   "cell_type": "code",
   "execution_count": 4,
   "metadata": {},
   "outputs": [
    {
     "name": "stdout",
     "output_type": "stream",
     "text": [
      "2\n"
     ]
    }
   ],
   "source": [
    "# drukowanie zmiennej\n",
    "print(a)"
   ]
  },
  {
   "cell_type": "code",
   "execution_count": 5,
   "metadata": {},
   "outputs": [
    {
     "name": "stdout",
     "output_type": "stream",
     "text": [
      "3\n"
     ]
    }
   ],
   "source": [
    "print(b)"
   ]
  },
  {
   "cell_type": "code",
   "execution_count": 6,
   "metadata": {},
   "outputs": [
    {
     "name": "stdout",
     "output_type": "stream",
     "text": [
      "a =  2\n"
     ]
    }
   ],
   "source": [
    "# zmienna liczbowa i łańcuch (string)\n",
    "print(\"a = \", a)"
   ]
  },
  {
   "cell_type": "code",
   "execution_count": 7,
   "metadata": {},
   "outputs": [
    {
     "name": "stdout",
     "output_type": "stream",
     "text": [
      "suma liczb a+b =  5\n"
     ]
    }
   ],
   "source": [
    "print(\"suma liczb a+b = \", a+b)"
   ]
  },
  {
   "cell_type": "code",
   "execution_count": 8,
   "metadata": {},
   "outputs": [
    {
     "name": "stdout",
     "output_type": "stream",
     "text": [
      "a =  2   ,   b =  3\n",
      "a =  3   ,   b =  2\n"
     ]
    }
   ],
   "source": [
    "print(\"a = \", a, \"  ,   b = \", b)\n",
    "# data swapping\n",
    "# zamieniamy a z b\n",
    "temp = a\n",
    "a = b\n",
    "b = temp\n",
    "print(\"a = \", a, \"  ,   b = \", b)"
   ]
  },
  {
   "cell_type": "code",
   "execution_count": 9,
   "metadata": {},
   "outputs": [
    {
     "name": "stdout",
     "output_type": "stream",
     "text": [
      "obieg pętli nr  3\n",
      "obieg pętli nr  4\n",
      "obieg pętli nr  5\n",
      "obieg pętli nr  6\n",
      "obieg pętli nr  7\n",
      "obieg pętli nr  8\n",
      "obieg pętli nr  9\n",
      "obieg pętli nr  10\n"
     ]
    }
   ],
   "source": [
    "# petla for\n",
    "for i in range(3, 11):\n",
    "    print(\"obieg pętli nr \", i)"
   ]
  },
  {
   "cell_type": "code",
   "execution_count": 10,
   "metadata": {},
   "outputs": [
    {
     "name": "stdout",
     "output_type": "stream",
     "text": [
      "1\n",
      "obieg pęli j =  1\n",
      "obieg pęli j =  2\n",
      "obieg pęli j =  3\n",
      "obieg pęli j =  4\n",
      "obieg pęli j =  5\n",
      "obieg pęli j =  6\n",
      "obieg pęli j =  7\n",
      "obieg pęli j =  8\n",
      "obieg pęli j =  9\n"
     ]
    }
   ],
   "source": [
    "# petla while\n",
    "j = 1\n",
    "print(j)\n",
    "while j < 10:\n",
    "    print(\"obieg pęli j = \", j)\n",
    "    j = j + 1"
   ]
  },
  {
   "cell_type": "code",
   "execution_count": 11,
   "metadata": {},
   "outputs": [
    {
     "name": "stdout",
     "output_type": "stream",
     "text": [
      "obieg j =  1\n",
      "obieg j =  2\n",
      "obieg j =  3\n",
      "obieg j =  4\n",
      "obieg j =  5\n",
      "obieg j =  6\n",
      "obieg j =  7\n",
      "obieg j =  8\n",
      "obieg j =  9\n"
     ]
    }
   ],
   "source": [
    "j = 1\n",
    "while j < 10:\n",
    "    print (\"obieg j = \", j)\n",
    "    j += 1"
   ]
  },
  {
   "cell_type": "code",
   "execution_count": null,
   "metadata": {},
   "outputs": [],
   "source": []
  }
 ],
 "metadata": {
  "kernelspec": {
   "display_name": "Python 3",
   "language": "python",
   "name": "python3"
  },
  "language_info": {
   "codemirror_mode": {
    "name": "ipython",
    "version": 3
   },
   "file_extension": ".py",
   "mimetype": "text/x-python",
   "name": "python",
   "nbconvert_exporter": "python",
   "pygments_lexer": "ipython3",
   "version": "3.7.3"
  }
 },
 "nbformat": 4,
 "nbformat_minor": 2
}
