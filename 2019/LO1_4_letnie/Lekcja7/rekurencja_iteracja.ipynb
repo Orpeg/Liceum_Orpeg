{
 "cells": [
  {
   "cell_type": "code",
   "execution_count": 1,
   "metadata": {},
   "outputs": [
    {
     "name": "stdout",
     "output_type": "stream",
     "text": [
      "[1, 2, 3, 4, 5, 6, 7, 8, 9, 10, 11, 12, 13, 14, 15, 16, 17, 18, 19, 20, 21, 22, 23, 24, 25, 26, 27, 28, 29, 30, 31, 32, 33, 34, 35, 36, 37, 38, 39, 40, 41, 42, 43, 44, 45, 46, 47, 48, 49, 50]\n"
     ]
    }
   ],
   "source": [
    "#tworzymy listę 100 elementową\n",
    "lst = list(range(1,51))\n",
    "print(lst)"
   ]
  },
  {
   "cell_type": "code",
   "execution_count": 2,
   "metadata": {},
   "outputs": [
    {
     "name": "stdout",
     "output_type": "stream",
     "text": [
      "5\n"
     ]
    }
   ],
   "source": [
    "#drukujemy wyraz nr 5\n",
    "print(lst[4])"
   ]
  },
  {
   "cell_type": "code",
   "execution_count": 3,
   "metadata": {},
   "outputs": [
    {
     "name": "stdout",
     "output_type": "stream",
     "text": [
      "suma wyrazow do 20 do 50 wynosi suma =  1085\n"
     ]
    }
   ],
   "source": [
    "#sumujemy w pętli wyrazy do 20 do 50\n",
    "suma=0\n",
    "for i in range(19,50):\n",
    "    suma+=lst[i]\n",
    "print(\"suma wyrazow do 20 do 50 wynosi suma = \", suma)\n"
   ]
  },
  {
   "cell_type": "code",
   "execution_count": 6,
   "metadata": {},
   "outputs": [
    {
     "name": "stdout",
     "output_type": "stream",
     "text": [
      "podaj liczbe całkowitą n =15\n",
      "15\n",
      "silnia liczby  15  wynosi n! =  1307674368000\n"
     ]
    }
   ],
   "source": [
    "#obliczamy iteracyjnie silnie n!\n",
    "silnia = 1\n",
    "n = int(input('podaj liczbe całkowitą n ='))\n",
    "print (n)\n",
    "i=0\n",
    "while i<n:\n",
    "    i+=1\n",
    "    silnia*=i\n",
    "print (\"silnia liczby \",n,\" wynosi n! = \", silnia)"
   ]
  },
  {
   "cell_type": "code",
   "execution_count": 11,
   "metadata": {},
   "outputs": [
    {
     "name": "stdout",
     "output_type": "stream",
     "text": [
      "5\n"
     ]
    }
   ],
   "source": [
    "def pisz():\n",
    "    print(\"ja sobie pisze\")\n",
    "#pisz()\n",
    "def dodaj(x,y):\n",
    "    return x+y\n",
    "x=3\n",
    "y=2\n",
    "wyn= dodaj(x,y)\n",
    "print(wyn)"
   ]
  },
  {
   "cell_type": "code",
   "execution_count": 5,
   "metadata": {},
   "outputs": [
    {
     "name": "stdout",
     "output_type": "stream",
     "text": [
      "podaj liczbe calkowita k < 100   5\n",
      "a więc k = 5\n",
      "suma pierwszych  5   liczb wynosi s= 15\n"
     ]
    }
   ],
   "source": [
    "#obliczamy sume z użyciem funkcji\n",
    "s=0\n",
    "def suma (x,y):\n",
    "    return (x+y)\n",
    "k = int (input(\"podaj liczbe calkowita k < 100   \"))\n",
    "print ('a więc k =', k)\n",
    "for i in range(k):\n",
    "    s = suma(s,lst[i])\n",
    "print(\"suma pierwszych \",k,\"  liczb wynosi s=\", s)"
   ]
  },
  {
   "cell_type": "code",
   "execution_count": 12,
   "metadata": {},
   "outputs": [
    {
     "name": "stdout",
     "output_type": "stream",
     "text": [
      "podaj k < 100   30\n",
      "k =  30\n"
     ]
    },
    {
     "data": {
      "text/plain": [
       "465"
      ]
     },
     "execution_count": 12,
     "metadata": {},
     "output_type": "execute_result"
    }
   ],
   "source": [
    "#rekurencyjnie\n",
    "def suma (k):\n",
    "    if (k==1):\n",
    "        return lst[0]\n",
    "    else:\n",
    "        return suma(k-1)+lst[k-1]\n",
    "k = int(input(\"podaj k < 100   \"))\n",
    "print(\"k = \", k)\n",
    "suma(k)\n",
    "\n"
   ]
  },
  {
   "cell_type": "code",
   "execution_count": null,
   "metadata": {},
   "outputs": [],
   "source": []
  },
  {
   "cell_type": "code",
   "execution_count": null,
   "metadata": {},
   "outputs": [],
   "source": []
  }
 ],
 "metadata": {
  "kernelspec": {
   "display_name": "Python 3",
   "language": "python",
   "name": "python3"
  },
  "language_info": {
   "codemirror_mode": {
    "name": "ipython",
    "version": 3
   },
   "file_extension": ".py",
   "mimetype": "text/x-python",
   "name": "python",
   "nbconvert_exporter": "python",
   "pygments_lexer": "ipython3",
   "version": "3.7.1"
  }
 },
 "nbformat": 4,
 "nbformat_minor": 2
}
