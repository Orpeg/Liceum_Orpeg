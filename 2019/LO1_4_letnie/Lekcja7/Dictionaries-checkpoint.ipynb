{
 "cells": [
  {
   "cell_type": "code",
   "execution_count": 1,
   "metadata": {},
   "outputs": [
    {
     "name": "stdout",
     "output_type": "stream",
     "text": [
      "1 . obiegu pętli\n",
      "2 . obiegu pętli\n",
      "3 . obiegu pętli\n",
      "4 . obiegu pętli\n",
      "5 . obiegu pętli\n",
      "6 . obiegu pętli\n",
      "7 . obiegu pętli\n",
      "8 . obiegu pętli\n",
      "9 . obiegu pętli\n"
     ]
    }
   ],
   "source": [
    "for i in range(1,10):\n",
    "    print(i, \". obiegu pętli\")"
   ]
  },
  {
   "cell_type": "code",
   "execution_count": 2,
   "metadata": {},
   "outputs": [
    {
     "name": "stdout",
     "output_type": "stream",
     "text": [
      "0 . obieku pętli\n",
      "1 . obieku pętli\n",
      "2 . obieku pętli\n",
      "3 . obieku pętli\n",
      "4 . obieku pętli\n"
     ]
    }
   ],
   "source": [
    "for i in range(5):\n",
    "    print(i, \". obieku pętli\")"
   ]
  },
  {
   "cell_type": "code",
   "execution_count": 3,
   "metadata": {},
   "outputs": [
    {
     "name": "stdout",
     "output_type": "stream",
     "text": [
      "1 . obiegu pętli\n",
      "2 . obiegu pętli\n",
      "3 . obiegu pętli\n",
      "4 . obiegu pętli\n",
      "5 . obiegu pętli\n",
      "6 . obiegu pętli\n",
      "7 . obiegu pętli\n",
      "8 . obiegu pętli\n",
      "9 . obiegu pętli\n",
      "10 . obiegu pętli\n"
     ]
    }
   ],
   "source": [
    "#pętla while\n",
    "j = 1\n",
    "while j <= 10:\n",
    "    print(j, \". obiegu pętli\")\n",
    "    j += 1"
   ]
  },
  {
   "cell_type": "code",
   "execution_count": 4,
   "metadata": {},
   "outputs": [
    {
     "name": "stdout",
     "output_type": "stream",
     "text": [
      "1 . obiegu pętli\n",
      "2 . obiegu pętli\n",
      "3 . obiegu pętli\n",
      "4 . obiegu pętli\n",
      "5 . obiegu pętli\n",
      "6 . obiegu pętli\n",
      "7 . obiegu pętli\n"
     ]
    }
   ],
   "source": [
    "#pętla while dla 1000\n",
    "j = 1\n",
    "while j < 1000:\n",
    "    print(j, \". obiegu pętli\")\n",
    "    if j % 7 == 0:\n",
    "        break #przerwanie pęli komendą break\n",
    "    j += 1"
   ]
  },
  {
   "cell_type": "code",
   "execution_count": 5,
   "metadata": {},
   "outputs": [
    {
     "name": "stdout",
     "output_type": "stream",
     "text": [
      "7\n"
     ]
    }
   ],
   "source": [
    "print(j)"
   ]
  },
  {
   "cell_type": "code",
   "execution_count": 6,
   "metadata": {},
   "outputs": [
    {
     "name": "stdout",
     "output_type": "stream",
     "text": [
      "1 . obiegu pętli\n",
      "2 . obiegu pętli\n",
      "3 . obiegu pętli\n",
      "4 . obiegu pętli\n",
      "koniec obiegu pętli for\n"
     ]
    }
   ],
   "source": [
    "#break w pętli for\n",
    "for i in range(1,20):\n",
    "    if i % 5 == 0:\n",
    "        break\n",
    "    print(i, \". obiegu pętli\")\n",
    "print(\"koniec obiegu pętli for\")"
   ]
  },
  {
   "cell_type": "code",
   "execution_count": 7,
   "metadata": {},
   "outputs": [
    {
     "name": "stdout",
     "output_type": "stream",
     "text": [
      "koniec obiegu pętli for\n"
     ]
    }
   ],
   "source": [
    "#break w pętli for\n",
    "for i in range(20):\n",
    "    if i % 5 == 0:\n",
    "        break\n",
    "    print(i, \". obiegu pętli\")\n",
    "print(\"koniec obiegu pętli for\")"
   ]
  },
  {
   "cell_type": "code",
   "execution_count": 1,
   "metadata": {},
   "outputs": [
    {
     "name": "stdout",
     "output_type": "stream",
     "text": [
      "długość listy lt =  13\n"
     ]
    }
   ],
   "source": [
    "#Dana jest list lt = [-3, -2, -1, 0, 1, 2, 3, 4, 5, 6, 7, 8, 9]\n",
    "lt = [-3, -2, -1, 0, 1, 2, 3, 4, 5, 6, 7, 8, 9]\n",
    "print(\"długość listy lt = \", len(lt))#len od słowa length"
   ]
  },
  {
   "cell_type": "code",
   "execution_count": 2,
   "metadata": {},
   "outputs": [
    {
     "name": "stdout",
     "output_type": "stream",
     "text": [
      "suma składników wynosi suma = 45\n"
     ]
    }
   ],
   "source": [
    "# Suma wszystkich elementów listy wykorzystując instrukcję len\n",
    "lt = [-4, -3, -2, -1, 0, 1, 2, 3, 4, 5, 6, 7, 8, 9, 10]\n",
    "suma = 0\n",
    "for i in range(len(lt)):\n",
    "    suma += lt[i]\n",
    "print(\"suma składników wynosi suma =\", suma)"
   ]
  },
  {
   "cell_type": "code",
   "execution_count": 3,
   "metadata": {},
   "outputs": [
    {
     "name": "stdout",
     "output_type": "stream",
     "text": [
      "-10\n"
     ]
    }
   ],
   "source": [
    "#suma tylko składników ujemnych\n",
    "suma_minus = 0\n",
    "for i in range(len(lt)):\n",
    "    if lt[i] < 0:\n",
    "        suma_minus += lt[i]\n",
    "print(suma_minus)"
   ]
  },
  {
   "cell_type": "code",
   "execution_count": 4,
   "metadata": {},
   "outputs": [
    {
     "name": "stdout",
     "output_type": "stream",
     "text": [
      "Suma ujemnych składników =  -10\n"
     ]
    }
   ],
   "source": [
    "#drugi sposób z pętlą while\n",
    "suma_minus = 0\n",
    "j = 0\n",
    "while j < len(lt):\n",
    "    if lt[j] < 0:\n",
    "        suma_minus += lt[j]\n",
    "    j += 1\n",
    "print(\"Suma ujemnych składników = \", suma_minus)"
   ]
  },
  {
   "cell_type": "code",
   "execution_count": 6,
   "metadata": {},
   "outputs": [
    {
     "name": "stdout",
     "output_type": "stream",
     "text": [
      "suma ujemnych składników wynosi   -10\n"
     ]
    }
   ],
   "source": [
    "#Jezeli lista jest uporządkowana od ujemnych do dodatnich\n",
    "suma_minus = 0\n",
    "j = 0\n",
    "while j < len(lt):\n",
    "    if lt[j] >= 0:\n",
    "        break\n",
    "    suma_minus += lt[j]\n",
    "    j += 1\n",
    "print(\"suma ujemnych składników wynosi  \", suma_minus)"
   ]
  },
  {
   "cell_type": "code",
   "execution_count": 9,
   "metadata": {},
   "outputs": [
    {
     "name": "stdout",
     "output_type": "stream",
     "text": [
      "suma dodatnich składników wynosi  55\n"
     ]
    }
   ],
   "source": [
    "#Lista uporządkowana przechodzimy od dodatnich do ujemnych\n",
    "j = len(lt) -1\n",
    "suma_dodatnich = 0\n",
    "while j >= 0:\n",
    "    if lt[j] <= 0:\n",
    "        break\n",
    "    suma_dodatnich += lt[j]\n",
    "    j -= 1\n",
    "print(\"suma dodatnich składników wynosi \", suma_dodatnich)"
   ]
  },
  {
   "cell_type": "code",
   "execution_count": 10,
   "metadata": {},
   "outputs": [
    {
     "name": "stdout",
     "output_type": "stream",
     "text": [
      "{'Jacek': 18, 'Jurek': 16, 'Ania': 16, 'Gosia': 12}\n"
     ]
    }
   ],
   "source": [
    "#dictionaries\n",
    "d = {'Jacek': 18, 'Jurek': 16, 'Ania': 16,'Gosia': 12}\n",
    "print(d)"
   ]
  },
  {
   "cell_type": "code",
   "execution_count": 11,
   "metadata": {},
   "outputs": [
    {
     "name": "stdout",
     "output_type": "stream",
     "text": [
      "16\n"
     ]
    }
   ],
   "source": [
    "print(d[\"Ania\"])"
   ]
  },
  {
   "cell_type": "code",
   "execution_count": 12,
   "metadata": {},
   "outputs": [
    {
     "name": "stdout",
     "output_type": "stream",
     "text": [
      "Suma lat dziewczyn = 28\n",
      "Suma lat chłopaków = 34\n"
     ]
    }
   ],
   "source": [
    "#Sumujemy wiek dziewczyn\n",
    "suma_dziewczyn = d[\"Ania\"]+d[\"Gosia\"]\n",
    "#Sumujemy wiek chłopaków\n",
    "suma_chłopakow = d[\"Jacek\"]+d[\"Jurek\"]\n",
    "print(\"Suma lat dziewczyn =\", suma_dziewczyn)\n",
    "print(\"Suma lat chłopaków =\", suma_chłopakow)"
   ]
  },
  {
   "cell_type": "code",
   "execution_count": null,
   "metadata": {},
   "outputs": [],
   "source": []
  }
 ],
 "metadata": {
  "kernelspec": {
   "display_name": "Python 3",
   "language": "python",
   "name": "python3"
  },
  "language_info": {
   "codemirror_mode": {
    "name": "ipython",
    "version": 3
   },
   "file_extension": ".py",
   "mimetype": "text/x-python",
   "name": "python",
   "nbconvert_exporter": "python",
   "pygments_lexer": "ipython3",
   "version": "3.6.4"
  }
 },
 "nbformat": 4,
 "nbformat_minor": 2
}
