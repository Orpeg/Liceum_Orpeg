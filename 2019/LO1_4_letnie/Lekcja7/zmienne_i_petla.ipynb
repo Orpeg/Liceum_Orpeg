{
 "cells": [
  {
   "cell_type": "code",
   "execution_count": 4,
   "metadata": {},
   "outputs": [
    {
     "name": "stdout",
     "output_type": "stream",
     "text": [
      "a =  10\n",
      "b =  20\n",
      "====================\n",
      "robimy zamiane danych\n",
      "a =  20\n",
      "b =  10\n"
     ]
    }
   ],
   "source": [
    "a= 10\n",
    "b=20\n",
    "print(\"a = \", a)\n",
    "print (\"b = \", b)\n",
    "print(\"====================\")\n",
    "print (\"robimy zamiane danych\")\n",
    "temp = a\n",
    "a = b\n",
    "b = temp#to się nazywa data swapping\n",
    "print(\"a = \", a)\n",
    "print (\"b = \", b)"
   ]
  },
  {
   "cell_type": "code",
   "execution_count": 9,
   "metadata": {},
   "outputs": [
    {
     "name": "stdout",
     "output_type": "stream",
     "text": [
      "Podaj liczbę x = 20\n",
      "podaleś liczbę    20\n",
      "liczba x jest parzysta\n"
     ]
    }
   ],
   "source": [
    "#instrukcja warunkowa w Pythonie\n",
    "#to if ():\n",
    "#linia kodu\n",
    "\n",
    "x = int(input(\"Podaj liczbę x = \"))\n",
    "print (\"podaleś liczbę   \",x)\n",
    "#czy liczba jest parzysta\n",
    "if (x%2 == 0):\n",
    "    print(\"liczba x jest parzysta\")\n",
    "else:\n",
    "    print (\"liczba x jest nieparzysta\")"
   ]
  },
  {
   "cell_type": "code",
   "execution_count": 14,
   "metadata": {},
   "outputs": [
    {
     "name": "stdout",
     "output_type": "stream",
     "text": [
      "1 . obiegu pętli\n",
      "2 . obiegu pętli\n",
      "3 . obiegu pętli\n",
      "4 . obiegu pętli\n",
      "5 . obiegu pętli\n",
      "6 . obiegu pętli\n",
      "7 . obiegu pętli\n",
      "8 . obiegu pętli\n",
      "9 . obiegu pętli\n",
      "10 . obiegu pętli\n",
      "====================\n",
      "to jest już poza pętlą\n"
     ]
    }
   ],
   "source": [
    "#wprowadzamy pętlę for\n",
    "for i in range(10):\n",
    "    print(i+1,\". obiegu pętli\")\n",
    "print (\"====================\")\n",
    "print(\"to jest już poza pętlą\")\n"
   ]
  },
  {
   "cell_type": "code",
   "execution_count": 17,
   "metadata": {},
   "outputs": [
    {
     "name": "stdout",
     "output_type": "stream",
     "text": [
      "suma wynosi   5050\n"
     ]
    }
   ],
   "source": [
    "#liczymy sumę piewszych 100 liczb\n",
    "suma = 0\n",
    "for i in range(1,101):\n",
    "    suma+=i\n",
    "print(\"suma wynosi  \", suma)"
   ]
  },
  {
   "cell_type": "code",
   "execution_count": 8,
   "metadata": {},
   "outputs": [
    {
     "name": "stdout",
     "output_type": "stream",
     "text": [
      "Dzien dobry\n",
      "5\n",
      "suma podanych liczb a+b wynosi 5\n"
     ]
    }
   ],
   "source": [
    "print (\"Dzien dobry\")\n",
    "a = 2\n",
    "b = 3\n",
    "suma = a+b\n",
    "print (suma)\n",
    "print (\"suma podanych liczb a+b wynosi\",suma)"
   ]
  },
  {
   "cell_type": "code",
   "execution_count": 1,
   "metadata": {},
   "outputs": [
    {
     "name": "stdout",
     "output_type": "stream",
     "text": [
      "2\n"
     ]
    }
   ],
   "source": [
    "a = 2\n",
    "print(a)"
   ]
  },
  {
   "cell_type": "code",
   "execution_count": 2,
   "metadata": {
    "scrolled": true
   },
   "outputs": [
    {
     "name": "stdout",
     "output_type": "stream",
     "text": [
      "wartość liczby a = 2\n"
     ]
    }
   ],
   "source": [
    "print (\"wartość liczby a =\", a)"
   ]
  },
  {
   "cell_type": "code",
   "execution_count": 3,
   "metadata": {},
   "outputs": [
    {
     "name": "stdout",
     "output_type": "stream",
     "text": [
      "Dzień dobry\n"
     ]
    }
   ],
   "source": [
    "b = \"Dzień dobry\"\n",
    "print(b)"
   ]
  },
  {
   "cell_type": "code",
   "execution_count": 4,
   "metadata": {},
   "outputs": [
    {
     "name": "stdout",
     "output_type": "stream",
     "text": [
      "2\n"
     ]
    }
   ],
   "source": [
    "c = a\n",
    "print(c)"
   ]
  },
  {
   "cell_type": "code",
   "execution_count": 5,
   "metadata": {},
   "outputs": [
    {
     "name": "stdout",
     "output_type": "stream",
     "text": [
      "14\n",
      "2\n"
     ]
    }
   ],
   "source": [
    "a = 2+3*4\n",
    "print(a)\n",
    "print(c)"
   ]
  },
  {
   "cell_type": "code",
   "execution_count": 6,
   "metadata": {},
   "outputs": [
    {
     "name": "stdout",
     "output_type": "stream",
     "text": [
      "a =  14\n",
      "c =  2\n"
     ]
    }
   ],
   "source": [
    "print(\"a = \",a)\n",
    "print(\"c = \",c)"
   ]
  },
  {
   "cell_type": "code",
   "execution_count": 7,
   "metadata": {},
   "outputs": [
    {
     "name": "stdout",
     "output_type": "stream",
     "text": [
      "a =  2\n",
      "c =  14\n"
     ]
    }
   ],
   "source": [
    "#swapping- zamiana\n",
    "#wprowadzamy dodatkową zmienna temp\n",
    "temp = a\n",
    "a = c\n",
    "c = temp\n",
    "print(\"a = \",a)\n",
    "print(\"c = \",c)"
   ]
  },
  {
   "cell_type": "code",
   "execution_count": 8,
   "metadata": {},
   "outputs": [
    {
     "name": "stdout",
     "output_type": "stream",
     "text": [
      "14\n"
     ]
    }
   ],
   "source": [
    "print(temp)"
   ]
  },
  {
   "cell_type": "code",
   "execution_count": 12,
   "metadata": {},
   "outputs": [
    {
     "name": "stdout",
     "output_type": "stream",
     "text": [
      "Wprowadź wartość zmiennej a=  4\n",
      "Wprowadź wartość zmiennej b=  3.14\n",
      "Wartość zmiennej a= 4\n",
      "Wartość zmiennej b= 3.14\n"
     ]
    }
   ],
   "source": [
    "a = int(input(\"Wprowadź wartość zmiennej a=  \")) #int od słowa integer\n",
    "b = float(input(\"Wprowadź wartość zmiennej b=  \")) #float oznacza liczbę zmiennoprzecinkową\n",
    "print(\"Wartość zmiennej a=\", a)\n",
    "print(\"Wartość zmiennej b=\", b)"
   ]
  },
  {
   "cell_type": "code",
   "execution_count": 13,
   "metadata": {},
   "outputs": [
    {
     "name": "stdout",
     "output_type": "stream",
     "text": [
      "14\n"
     ]
    }
   ],
   "source": [
    "print(c)"
   ]
  },
  {
   "cell_type": "code",
   "execution_count": 20,
   "metadata": {},
   "outputs": [
    {
     "name": "stdout",
     "output_type": "stream",
     "text": [
      "a nie jest większe niż c\n",
      "a nie jest równe c\n",
      "a jest mniejsze od c\n"
     ]
    }
   ],
   "source": [
    "#print(\"a= \",a, \", \",\"c =\", c)\n",
    "if a>c:\n",
    "    print(\"a jest większe niż c\")\n",
    "print(\"a nie jest większe niż c\")\n",
    "if a == c:\n",
    "    print(\"a jest równe c\")\n",
    "print(\"a nie jest równe c\")\n",
    "if a<c:\n",
    "    print(\"a jest mniejsze od c\")"
   ]
  },
  {
   "cell_type": "code",
   "execution_count": 24,
   "metadata": {},
   "outputs": [
    {
     "name": "stdout",
     "output_type": "stream",
     "text": [
      "Podaj wartość x = 10\n",
      "Podaj wartość y = 0\n",
      "Pamiętaj, że nie dzieli się przez zero\n",
      "podaj nową wartość y = 2\n",
      "dzielenie x/y =  5.0\n"
     ]
    }
   ],
   "source": [
    "x = float(input(\"Podaj wartość x = \"))#licznik ułamka czyli dzielna\n",
    "y = float(input(\"Podaj wartość y = \"))#mianownik ułamka czyli dzielnik\n",
    "if y == 0:\n",
    "    print(\"Pamiętaj, że nie dzieli się przez zero\")\n",
    "    y = float(input(\"podaj nową wartość y = \"))\n",
    "print(\"dzielenie x/y = \", x/y)"
   ]
  },
  {
   "cell_type": "code",
   "execution_count": 26,
   "metadata": {},
   "outputs": [
    {
     "name": "stdout",
     "output_type": "stream",
     "text": [
      "1 .  Dzień dobry\n",
      "2 .  Dzień dobry\n",
      "3 .  Dzień dobry\n",
      "4 .  Dzień dobry\n"
     ]
    }
   ],
   "source": [
    "#pętle for\n",
    "for i in range(1,5):\n",
    "    print(i,\".  Dzień dobry\")"
   ]
  },
  {
   "cell_type": "code",
   "execution_count": 28,
   "metadata": {},
   "outputs": [
    {
     "name": "stdout",
     "output_type": "stream",
     "text": [
      "1 .  Dzień dobry\n",
      "2 .  Dzień dobry\n",
      "3 .  Dzień dobry\n",
      "4 .  Dzień dobry\n",
      "5 .  Dzień dobry\n"
     ]
    }
   ],
   "source": [
    "#pętle for\n",
    "for i in range(5):\n",
    "    print(i+1,\".  Dzień dobry\")"
   ]
  },
  {
   "cell_type": "code",
   "execution_count": null,
   "metadata": {},
   "outputs": [],
   "source": []
  }
 ],
 "metadata": {
  "kernelspec": {
   "display_name": "Python 3",
   "language": "python",
   "name": "python3"
  },
  "language_info": {
   "codemirror_mode": {
    "name": "ipython",
    "version": 3
   },
   "file_extension": ".py",
   "mimetype": "text/x-python",
   "name": "python",
   "nbconvert_exporter": "python",
   "pygments_lexer": "ipython3",
   "version": "3.7.1"
  }
 },
 "nbformat": 4,
 "nbformat_minor": 2
}
