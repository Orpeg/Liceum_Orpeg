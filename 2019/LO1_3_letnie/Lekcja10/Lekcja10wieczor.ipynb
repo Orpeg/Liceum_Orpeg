{
 "cells": [
  {
   "cell_type": "markdown",
   "metadata": {},
   "source": [
    "![Jupyter](jupyter.png)"
   ]
  },
  {
   "cell_type": "markdown",
   "metadata": {},
   "source": [
    "## Lekcja 10 - ostatnia w tym roku ##\n",
    "**Python 3**"
   ]
  },
  {
   "cell_type": "markdown",
   "metadata": {},
   "source": [
    "**Plan**\n",
    "* zakres range\n",
    "* lista\n",
    "* pętla for\n",
    "* pętla while\n",
    "* pętla nieskończona\n",
    "* obliczenie iteracyjne (silnia, ciąg a(n)\n",
    "* obliczenie rekurencyjne (liczby Fibonacciego)"
   ]
  },
  {
   "cell_type": "code",
   "execution_count": 1,
   "metadata": {},
   "outputs": [
    {
     "name": "stdout",
     "output_type": "stream",
     "text": [
      "0  1  2  3  4  5  6  7  8  9  "
     ]
    }
   ],
   "source": [
    "# range(dolna, gorna), gorna = zakres gorny -1\n",
    "for i in range(10):\n",
    "    print(i,end=\"  \")"
   ]
  },
  {
   "cell_type": "code",
   "execution_count": 3,
   "metadata": {},
   "outputs": [
    {
     "name": "stdout",
     "output_type": "stream",
     "text": [
      "1  2  3  4  5  6  7  8  9  10  "
     ]
    }
   ],
   "source": [
    "for i in range(1,11):\n",
    "    print(i, end='  ')"
   ]
  },
  {
   "cell_type": "code",
   "execution_count": 4,
   "metadata": {},
   "outputs": [],
   "source": [
    "list=['ab', 'cd', 'ef']"
   ]
  },
  {
   "cell_type": "code",
   "execution_count": 5,
   "metadata": {},
   "outputs": [
    {
     "name": "stdout",
     "output_type": "stream",
     "text": [
      "['ab', 'cd', 'ef']\n"
     ]
    }
   ],
   "source": [
    "print(list)"
   ]
  },
  {
   "cell_type": "code",
   "execution_count": 6,
   "metadata": {},
   "outputs": [
    {
     "name": "stdout",
     "output_type": "stream",
     "text": [
      "ef\n"
     ]
    }
   ],
   "source": [
    "print(list[2])"
   ]
  },
  {
   "cell_type": "code",
   "execution_count": 7,
   "metadata": {},
   "outputs": [],
   "source": [
    "list.append(9)"
   ]
  },
  {
   "cell_type": "code",
   "execution_count": 8,
   "metadata": {},
   "outputs": [
    {
     "name": "stdout",
     "output_type": "stream",
     "text": [
      "['ab', 'cd', 'ef', 9]\n"
     ]
    }
   ],
   "source": [
    "print(list)"
   ]
  },
  {
   "cell_type": "code",
   "execution_count": 9,
   "metadata": {},
   "outputs": [
    {
     "name": "stdout",
     "output_type": "stream",
     "text": [
      "ab\n",
      "cd\n",
      "ef\n",
      "9\n"
     ]
    }
   ],
   "source": [
    "for e in list:\n",
    "    print(e)"
   ]
  },
  {
   "cell_type": "code",
   "execution_count": 10,
   "metadata": {},
   "outputs": [
    {
     "name": "stdout",
     "output_type": "stream",
     "text": [
      "['ab', 'cd', 'ef']\n"
     ]
    }
   ],
   "source": [
    "# pop usuwanie z listy ostatniego elementu\n",
    "list.pop()\n",
    "print(list)"
   ]
  },
  {
   "cell_type": "code",
   "execution_count": 13,
   "metadata": {},
   "outputs": [
    {
     "name": "stdout",
     "output_type": "stream",
     "text": [
      "1 . obieg pętli\n",
      "2 . obieg pętli\n",
      "3 . obieg pętli\n",
      "4 . obieg pętli\n",
      "5 . obieg pętli\n",
      "6 . obieg pętli\n",
      "7 . obieg pętli\n",
      "8 . obieg pętli\n",
      "9 . obieg pętli\n",
      "10 . obieg pętli\n"
     ]
    }
   ],
   "source": [
    "j = 1\n",
    "while j <= 10:\n",
    "    print(j, '. obieg pętli')\n",
    "    j+=1"
   ]
  },
  {
   "cell_type": "code",
   "execution_count": 35,
   "metadata": {},
   "outputs": [
    {
     "name": "stdout",
     "output_type": "stream",
     "text": [
      "podaj liczbę całkowitą dodatnią  2.4\n",
      "podales zla liczbe, sprobuj ponownie  2\n",
      "podales  2\n"
     ]
    }
   ],
   "source": [
    "# pętla nieskonczona\n",
    "n = input('podaj liczbę całkowitą dodatnią  ')\n",
    "while (type(n) != int) or (n < 0):\n",
    "    n = int(input('podales zla liczbe, sprobuj ponownie  '))\n",
    "print('podales ',n)"
   ]
  },
  {
   "cell_type": "code",
   "execution_count": 23,
   "metadata": {},
   "outputs": [
    {
     "name": "stdout",
     "output_type": "stream",
     "text": [
      "0  0  2  6  12  20  30  42  56  72  "
     ]
    }
   ],
   "source": [
    "# ciag a(n) = 2-3*n+n**2\n",
    "# wypisz 10 pierwszych wyrazow tego ciagu\n",
    "def ciag(n):\n",
    "    return 2-3*n + n**2\n",
    "for i in range(1,11):\n",
    "    print(ciag(i), end= '  ')"
   ]
  },
  {
   "cell_type": "code",
   "execution_count": 24,
   "metadata": {},
   "outputs": [],
   "source": [
    "# zadanie: oblicz sume 100 pierwszych wyrazow tego ciagu\n",
    "suma = 0\n",
    "for i in range(1, 101):\n",
    "    suma+=ciag(i)"
   ]
  },
  {
   "cell_type": "code",
   "execution_count": 25,
   "metadata": {},
   "outputs": [
    {
     "name": "stdout",
     "output_type": "stream",
     "text": [
      "suma 100 pierwszych wyrazow ciagu wynosi    323400\n"
     ]
    }
   ],
   "source": [
    "print('suma 100 pierwszych wyrazow ciagu wynosi   ', suma)"
   ]
  },
  {
   "cell_type": "code",
   "execution_count": 37,
   "metadata": {},
   "outputs": [
    {
     "name": "stdout",
     "output_type": "stream",
     "text": [
      "3\n"
     ]
    }
   ],
   "source": [
    "k = 123\n",
    "print(str(len(str(k))))"
   ]
  },
  {
   "cell_type": "code",
   "execution_count": 38,
   "metadata": {},
   "outputs": [],
   "source": [
    "# liczba Fibonacciego jest sumą dwóch poprzedzających liczb\n",
    "# metoda rekurencyjna\n",
    "def fibo(n):\n",
    "    if n == 0:\n",
    "        return 0\n",
    "    else:\n",
    "        if n == 1:\n",
    "            return 1\n",
    "    return fibo(n-2) + fibo(n-1)\n"
   ]
  },
  {
   "cell_type": "code",
   "execution_count": 40,
   "metadata": {},
   "outputs": [
    {
     "name": "stdout",
     "output_type": "stream",
     "text": [
      "2\n"
     ]
    }
   ],
   "source": [
    "print(fibo(3))"
   ]
  },
  {
   "cell_type": "code",
   "execution_count": 43,
   "metadata": {},
   "outputs": [
    {
     "name": "stdout",
     "output_type": "stream",
     "text": [
      "podaj liczbę naturalną 35\n",
      "liczba Fibonacciego dla n = 35  wynosi  9227465\n"
     ]
    }
   ],
   "source": [
    "k = int(input('podaj liczbę naturalną '))\n",
    "print(\"liczba Fibonacciego dla n =\",k,\" wynosi \" , fibo(k))"
   ]
  },
  {
   "cell_type": "code",
   "execution_count": null,
   "metadata": {},
   "outputs": [],
   "source": []
  }
 ],
 "metadata": {
  "kernelspec": {
   "display_name": "Python 3",
   "language": "python",
   "name": "python3"
  },
  "language_info": {
   "codemirror_mode": {
    "name": "ipython",
    "version": 3
   },
   "file_extension": ".py",
   "mimetype": "text/x-python",
   "name": "python",
   "nbconvert_exporter": "python",
   "pygments_lexer": "ipython3",
   "version": "3.7.3"
  }
 },
 "nbformat": 4,
 "nbformat_minor": 2
}
