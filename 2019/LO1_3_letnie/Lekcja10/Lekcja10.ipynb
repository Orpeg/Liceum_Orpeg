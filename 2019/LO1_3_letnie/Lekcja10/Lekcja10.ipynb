{
 "cells": [
  {
   "cell_type": "markdown",
   "metadata": {},
   "source": [
    "## Lekcja 10 - ostatnia ##\n",
    "**Python3**"
   ]
  },
  {
   "cell_type": "markdown",
   "metadata": {},
   "source": [
    "Napisz program w Pythonie, który prosi o podanie dowolnej liczby całkowitej\n",
    "i oblicza ile cyfr występuje w tej liczbie"
   ]
  },
  {
   "cell_type": "code",
   "execution_count": 5,
   "metadata": {},
   "outputs": [
    {
     "name": "stdout",
     "output_type": "stream",
     "text": [
      "Podaj liczbe całkowitą   1234\n",
      "123\n",
      "12\n",
      "1\n",
      "0\n",
      "4\n"
     ]
    }
   ],
   "source": [
    "n = int(input('Podaj liczbe całkowitą   '))\n",
    "k = 0\n",
    "while (n > 0):\n",
    "    n = int(n/10)\n",
    "    print(n)\n",
    "    k+=1\n",
    "print(k)"
   ]
  },
  {
   "cell_type": "code",
   "execution_count": 5,
   "metadata": {},
   "outputs": [
    {
     "name": "stdout",
     "output_type": "stream",
     "text": [
      "podaj liczbe nieparzysta dodatnia   -4\n",
      "podales nieprawidlowa liczbe  \n",
      "podaj liczbe nieparzysta dodatnia  7\n",
      " podales liczbe x =  7\n"
     ]
    }
   ],
   "source": [
    "# pętla while jako petla nieskonczona\n",
    "x = int(input('podaj liczbe nieparzysta dodatnia   '))\n",
    "while (x < 0 or x%2 == 0):\n",
    "    print('podales nieprawidlowa liczbe  ')\n",
    "    x = int(input('podaj liczbe nieparzysta dodatnia  '))\n",
    "print(' podales liczbe x = ', x)"
   ]
  },
  {
   "cell_type": "markdown",
   "metadata": {},
   "source": [
    "**iteracje**"
   ]
  },
  {
   "cell_type": "code",
   "execution_count": 6,
   "metadata": {},
   "outputs": [],
   "source": [
    "# silnia\n",
    "# ciag arytmetyczny"
   ]
  },
  {
   "cell_type": "code",
   "execution_count": 14,
   "metadata": {},
   "outputs": [
    {
     "name": "stdout",
     "output_type": "stream",
     "text": [
      "podaje liczbe naturalna n  10\n",
      "silnia  10 ! =  3628800\n"
     ]
    }
   ],
   "source": [
    "# 4! = 1*2*3*4 = 24\n",
    "m = int(input('podaje liczbe naturalna n  '))\n",
    "silnia = 1\n",
    "for i in range(1,m+1):\n",
    "    silnia*=i\n",
    "print('silnia ', m, '! = ', silnia)"
   ]
  },
  {
   "cell_type": "code",
   "execution_count": 16,
   "metadata": {},
   "outputs": [
    {
     "name": "stdout",
     "output_type": "stream",
     "text": [
      "podaj nr wyrazu ciagu a(n)  100\n",
      "9702\n"
     ]
    }
   ],
   "source": [
    "# a(n)=2-3n+n*n\n",
    "l = int(input('podaj nr wyrazu ciagu a(n)  '))\n",
    "print(2-3*l+l**2)"
   ]
  },
  {
   "cell_type": "code",
   "execution_count": 17,
   "metadata": {},
   "outputs": [
    {
     "name": "stdout",
     "output_type": "stream",
     "text": [
      "0\n",
      "0\n",
      "2\n",
      "6\n",
      "12\n",
      "20\n",
      "30\n",
      "42\n",
      "56\n",
      "72\n",
      "90\n",
      "110\n",
      "132\n",
      "156\n",
      "182\n",
      "210\n",
      "240\n",
      "272\n",
      "306\n",
      "342\n"
     ]
    }
   ],
   "source": [
    "# wypisujemy wyrazy ciagu od 1 do 20\n",
    "for i in range(1,21):\n",
    "    print(2-3*i+i**2)"
   ]
  },
  {
   "cell_type": "code",
   "execution_count": 19,
   "metadata": {},
   "outputs": [
    {
     "name": "stdout",
     "output_type": "stream",
     "text": [
      "0, 0, 2, 6, 12, 20, 30, 42, 56, 72, 90, 110, 132, 156, 182, 210, 240, 272, 306, 342, "
     ]
    }
   ],
   "source": [
    "def ciag(n):\n",
    "    return 2-3*n+n**2\n",
    "for i in range(1,21):\n",
    "    print(ciag(i), end=', ')"
   ]
  },
  {
   "cell_type": "code",
   "execution_count": 20,
   "metadata": {},
   "outputs": [],
   "source": [
    "# rekurencja\n",
    "def silnia(n):\n",
    "    if n == 0:\n",
    "        return 1\n",
    "    else:\n",
    "        if n ==1:\n",
    "            return 1\n",
    "    return silnia(n-1) * n"
   ]
  },
  {
   "cell_type": "code",
   "execution_count": 21,
   "metadata": {},
   "outputs": [
    {
     "name": "stdout",
     "output_type": "stream",
     "text": [
      "podaj liczbe naturalna 5\n",
      "silnia dla  5 ! =  120\n"
     ]
    }
   ],
   "source": [
    "k = int(input('podaj liczbe naturalna '))\n",
    "print('silnia dla ',k,'! = ', silnia(k))"
   ]
  },
  {
   "cell_type": "code",
   "execution_count": 28,
   "metadata": {},
   "outputs": [
    {
     "name": "stdout",
     "output_type": "stream",
     "text": [
      "podaj liczbe k 40\n",
      "liczba Fibonacciego dla k =  40  wynosi 102334155\n"
     ]
    }
   ],
   "source": [
    "# LIczby Fibonacciego\n",
    "def fibo(n):\n",
    "    if n == 0:\n",
    "        return 0\n",
    "    else:\n",
    "        if n ==1:\n",
    "            return 1\n",
    "    return fibo(n-2)+ fibo(n-1)\n",
    "k = int(input('podaj liczbe k '))\n",
    "print('liczba Fibonacciego dla k = ',k, ' wynosi', fibo(k))"
   ]
  },
  {
   "cell_type": "code",
   "execution_count": null,
   "metadata": {},
   "outputs": [],
   "source": []
  }
 ],
 "metadata": {
  "kernelspec": {
   "display_name": "Python 3",
   "language": "python",
   "name": "python3"
  },
  "language_info": {
   "codemirror_mode": {
    "name": "ipython",
    "version": 3
   },
   "file_extension": ".py",
   "mimetype": "text/x-python",
   "name": "python",
   "nbconvert_exporter": "python",
   "pygments_lexer": "ipython3",
   "version": "3.7.3"
  }
 },
 "nbformat": 4,
 "nbformat_minor": 2
}
