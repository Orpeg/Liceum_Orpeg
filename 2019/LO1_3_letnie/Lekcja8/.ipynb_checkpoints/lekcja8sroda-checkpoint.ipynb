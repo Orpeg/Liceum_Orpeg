{
 "cells": [
  {
   "cell_type": "code",
   "execution_count": 1,
   "metadata": {},
   "outputs": [
    {
     "name": "stdout",
     "output_type": "stream",
     "text": [
      "dzień dobry klasa 1 LO\n"
     ]
    }
   ],
   "source": [
    "print(\"dzień dobry klasa 1 LO\")"
   ]
  },
  {
   "cell_type": "code",
   "execution_count": 2,
   "metadata": {},
   "outputs": [
    {
     "name": "stdout",
     "output_type": "stream",
     "text": [
      " dzień dobry ponownie\n"
     ]
    }
   ],
   "source": [
    "print(\" dzień dobry ponownie\")"
   ]
  },
  {
   "cell_type": "markdown",
   "metadata": {},
   "source": [
    "## Lekcja wstępna ##"
   ]
  },
  {
   "cell_type": "markdown",
   "metadata": {},
   "source": [
    "[ORPEG](http://www.orpeg.pl)"
   ]
  },
  {
   "cell_type": "code",
   "execution_count": 3,
   "metadata": {},
   "outputs": [
    {
     "name": "stdout",
     "output_type": "stream",
     "text": [
      "dzielenie liczb 3/2 =  1.5\n"
     ]
    }
   ],
   "source": [
    "a = 3\n",
    "b = 2\n",
    "print(\"dzielenie liczb 3/2 = \", a/b)"
   ]
  },
  {
   "cell_type": "code",
   "execution_count": 13,
   "metadata": {},
   "outputs": [
    {
     "name": "stdout",
     "output_type": "stream",
     "text": [
      "podaj wartość x   7\n",
      "podaj wartość y   4\n",
      "x =  7 ,  y =  4.0\n"
     ]
    }
   ],
   "source": [
    "x = int(input(\"podaj wartość x   \"))\n",
    "y = float(input(\"podaj wartość y   \"))\n",
    "print(\"x = \", x , \",  y = \" , y)"
   ]
  },
  {
   "cell_type": "code",
   "execution_count": 14,
   "metadata": {},
   "outputs": [
    {
     "name": "stdout",
     "output_type": "stream",
     "text": [
      "a =  2 ,   b = 3\n",
      "a =  3 ,   b = 2\n"
     ]
    }
   ],
   "source": [
    "# zamiana data swapping\n",
    "print(\"a = \", a, \",   b =\", b)\n",
    "temp = a\n",
    "a = b\n",
    "b = temp\n",
    "print(\"a = \", a, \",   b =\", b)"
   ]
  },
  {
   "cell_type": "code",
   "execution_count": 15,
   "metadata": {},
   "outputs": [
    {
     "name": "stdout",
     "output_type": "stream",
     "text": [
      "x =  2 , y =  7\n",
      "x =  7 , y =  2\n"
     ]
    }
   ],
   "source": [
    "x = 2\n",
    "y = 7\n",
    "print(\"x = \", x, \", y = \" , y)\n",
    "x,y = y,x\n",
    "print(\"x = \", x, \", y = \" , y)"
   ]
  },
  {
   "cell_type": "code",
   "execution_count": 19,
   "metadata": {},
   "outputs": [
    {
     "name": "stdout",
     "output_type": "stream",
     "text": [
      "11\n"
     ]
    }
   ],
   "source": [
    "# notacja skrócona x = x+1,  x+=1\n",
    "x+=1\n",
    "print(x)"
   ]
  },
  {
   "cell_type": "code",
   "execution_count": 20,
   "metadata": {},
   "outputs": [
    {
     "name": "stdout",
     "output_type": "stream",
     "text": [
      "13\n"
     ]
    }
   ],
   "source": [
    "x+=y\n",
    "print(x)"
   ]
  },
  {
   "cell_type": "code",
   "execution_count": 21,
   "metadata": {},
   "outputs": [
    {
     "name": "stdout",
     "output_type": "stream",
     "text": [
      "liczba x =  13  jest nieparzysta\n"
     ]
    }
   ],
   "source": [
    "# instrukcja warunkowa if\n",
    "# zbadamy czy x jest parzyste\n",
    "if(x%2 == 0):\n",
    "    print(\"liczba x = \", x, \" jest parzysta\")\n",
    "    print(\"druga linijka \")\n",
    "else:\n",
    "    print(\"liczba x = \" ,  x , \" jest nieparzysta\")"
   ]
  },
  {
   "cell_type": "code",
   "execution_count": null,
   "metadata": {},
   "outputs": [],
   "source": []
  }
 ],
 "metadata": {
  "kernelspec": {
   "display_name": "Python 3",
   "language": "python",
   "name": "python3"
  },
  "language_info": {
   "codemirror_mode": {
    "name": "ipython",
    "version": 3
   },
   "file_extension": ".py",
   "mimetype": "text/x-python",
   "name": "python",
   "nbconvert_exporter": "python",
   "pygments_lexer": "ipython3",
   "version": "3.7.3"
  }
 },
 "nbformat": 4,
 "nbformat_minor": 2
}
