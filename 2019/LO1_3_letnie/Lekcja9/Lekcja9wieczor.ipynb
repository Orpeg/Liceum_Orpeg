{
 "cells": [
  {
   "cell_type": "markdown",
   "metadata": {},
   "source": [
    "## Lekcja 9 ##"
   ]
  },
  {
   "cell_type": "markdown",
   "metadata": {},
   "source": [
    "![Python3](python3.jpg)"
   ]
  },
  {
   "cell_type": "markdown",
   "metadata": {},
   "source": [
    "## plan lekcji ##\n"
   ]
  },
  {
   "cell_type": "markdown",
   "metadata": {},
   "source": [
    "* listy - długość, operacje\n",
    "* range - zakres\n",
    "* pętla for\n",
    "* pętla while\n",
    "* podprogram def\n",
    "* metoda rekruencyjna (wywołanie siebie samego)"
   ]
  },
  {
   "cell_type": "code",
   "execution_count": 1,
   "metadata": {},
   "outputs": [
    {
     "name": "stdout",
     "output_type": "stream",
     "text": [
      "[3, 8, 'janek', 9, 'rok 2020']\n"
     ]
    }
   ],
   "source": [
    "# lista\n",
    "list = [3, 8, \"janek\", 9, \"rok 2020\"]\n",
    "print(list)"
   ]
  },
  {
   "cell_type": "code",
   "execution_count": 7,
   "metadata": {},
   "outputs": [
    {
     "name": "stdout",
     "output_type": "stream",
     "text": [
      "5\n"
     ]
    }
   ],
   "source": [
    "# len czyli lenght długość listy\n",
    "print(len(list))"
   ]
  },
  {
   "cell_type": "code",
   "execution_count": 8,
   "metadata": {},
   "outputs": [
    {
     "name": "stdout",
     "output_type": "stream",
     "text": [
      "[3, 8, 'janek', 9, 'rok 2020', 5, 'zosia']\n",
      "7\n"
     ]
    }
   ],
   "source": [
    "# append dodawanie elementu na koniec\n",
    "list.append(5)\n",
    "list.append(\"zosia\")\n",
    "print(list)\n",
    "print(len(list))"
   ]
  },
  {
   "cell_type": "code",
   "execution_count": 9,
   "metadata": {},
   "outputs": [
    {
     "name": "stdout",
     "output_type": "stream",
     "text": [
      "[3, 8, 'janek', 9, 'rok 2020', 5]\n"
     ]
    }
   ],
   "source": [
    "# pop - odejmowanie elementu ostatniego z listy\n",
    "list.pop()\n",
    "print(list)"
   ]
  },
  {
   "cell_type": "code",
   "execution_count": 10,
   "metadata": {},
   "outputs": [
    {
     "name": "stdout",
     "output_type": "stream",
     "text": [
      "[3, 8, 'janek', 9, 'rok 2020']\n"
     ]
    }
   ],
   "source": [
    "list.pop()\n",
    "print(list)"
   ]
  },
  {
   "cell_type": "code",
   "execution_count": 11,
   "metadata": {},
   "outputs": [
    {
     "name": "stdout",
     "output_type": "stream",
     "text": [
      "numer  1\n",
      "numer  2\n",
      "numer  3\n",
      "numer  4\n",
      "numer  5\n",
      "numer  6\n",
      "numer  7\n",
      "numer  8\n",
      "numer  9\n"
     ]
    }
   ],
   "source": [
    "# range - zakres wykorzystujemy w pętli for\n",
    "# w zakresie range numerujemy od 0 zakres dolny - zakres górny -1\n",
    "for i in range(1,10):\n",
    "    print(\"numer \", i)"
   ]
  },
  {
   "cell_type": "code",
   "execution_count": 12,
   "metadata": {},
   "outputs": [
    {
     "name": "stdout",
     "output_type": "stream",
     "text": [
      "zakres range  0\n",
      "zakres range  1\n",
      "zakres range  2\n",
      "zakres range  3\n",
      "zakres range  4\n",
      "zakres range  5\n",
      "zakres range  6\n",
      "zakres range  7\n"
     ]
    }
   ],
   "source": [
    "for j in range (8):\n",
    "    print(\"zakres range \", j)"
   ]
  },
  {
   "cell_type": "code",
   "execution_count": 13,
   "metadata": {},
   "outputs": [
    {
     "name": "stdout",
     "output_type": "stream",
     "text": [
      "[3, 8, 'janek', 9, 'rok 2020']\n"
     ]
    }
   ],
   "source": [
    "print(list)"
   ]
  },
  {
   "cell_type": "code",
   "execution_count": 15,
   "metadata": {},
   "outputs": [
    {
     "name": "stdout",
     "output_type": "stream",
     "text": [
      "3\n",
      "8\n",
      "janek\n",
      "9\n",
      "rok 2020\n"
     ]
    }
   ],
   "source": [
    "for e in list:\n",
    "    print(e)"
   ]
  },
  {
   "cell_type": "code",
   "execution_count": 16,
   "metadata": {},
   "outputs": [
    {
     "name": "stdout",
     "output_type": "stream",
     "text": [
      "janek\n"
     ]
    }
   ],
   "source": [
    "print(list[2])"
   ]
  },
  {
   "cell_type": "code",
   "execution_count": 19,
   "metadata": {},
   "outputs": [
    {
     "name": "stdout",
     "output_type": "stream",
     "text": [
      "while numer  1\n",
      "while numer  2\n",
      "while numer  3\n",
      "while numer  4\n",
      "while numer  5\n",
      "while numer  6\n",
      "while numer  7\n",
      "while numer  8\n",
      "while numer  9\n",
      "while numer  10\n"
     ]
    }
   ],
   "source": [
    "# pętla while\n",
    "x = 1\n",
    "while x < 11:\n",
    "    print(\"while numer \", x)\n",
    "    x+=1"
   ]
  },
  {
   "cell_type": "code",
   "execution_count": 20,
   "metadata": {},
   "outputs": [
    {
     "name": "stdout",
     "output_type": "stream",
     "text": [
      "sprawdzamy czy liczba jest parzysta\n",
      "podaj liczbę całkowitą  a =   3\n",
      "podana liczba jest nieparzysta\n",
      "spróbuj jeszcze raz a = 5\n",
      "podana liczba jest nieparzysta\n",
      "spróbuj jeszcze raz a = 4\n",
      "świetnie, podana liczba a =  4  jest parzysta\n"
     ]
    }
   ],
   "source": [
    "print(\"sprawdzamy czy liczba jest parzysta\")\n",
    "a = int(input(\"podaj liczbę całkowitą  a =   \"))\n",
    "while (a%2 != 0):\n",
    "    print(\"podana liczba jest nieparzysta\")\n",
    "    a = int(input(\"spróbuj jeszcze raz a = \"))\n",
    "print(\"świetnie, podana liczba a = \", a, \" jest parzysta\")"
   ]
  },
  {
   "cell_type": "code",
   "execution_count": 27,
   "metadata": {},
   "outputs": [
    {
     "name": "stdout",
     "output_type": "stream",
     "text": [
      "true\n"
     ]
    }
   ],
   "source": [
    "# break przerwanie pętli\n",
    "# instrukcja warunowa if else\n",
    "if a == 4:\n",
    "    print(\"true\")\n",
    "else:\n",
    "    print(\"false\")"
   ]
  },
  {
   "cell_type": "code",
   "execution_count": 28,
   "metadata": {},
   "outputs": [
    {
     "name": "stdout",
     "output_type": "stream",
     "text": [
      "4\n"
     ]
    }
   ],
   "source": [
    "print(a)"
   ]
  },
  {
   "cell_type": "code",
   "execution_count": 36,
   "metadata": {},
   "outputs": [
    {
     "name": "stdout",
     "output_type": "stream",
     "text": [
      "1, 2, 3, 4, 5, 6, 7, 8, 9, 10, 11, 12, 13, 14, 15, 16, 17, 18, 19, 20, 21, 22, 23, 24, 25, 26, 27, 28, 29, 30, 31, 32, 33, "
     ]
    }
   ],
   "source": [
    "# znajdź pierwszą liczbę nieparzystą podzielną przez 18 w zakresie od 1 do 50\n",
    "for i in range(1,101):\n",
    "    print(i, end = \", \")\n",
    "    if (i == 33):\n",
    "        break"
   ]
  },
  {
   "cell_type": "code",
   "execution_count": 38,
   "metadata": {},
   "outputs": [
    {
     "name": "stdout",
     "output_type": "stream",
     "text": [
      "podaj a 4\n",
      "podaj b 7\n",
      "suma  =  11\n"
     ]
    }
   ],
   "source": [
    "def dod(a,b):\n",
    "    return a+b\n",
    "a = int(input(\"podaj a \"))\n",
    "b = int(input(\"podaj b \"))\n",
    "print(\"suma  = \", dod(a,b))"
   ]
  },
  {
   "cell_type": "code",
   "execution_count": null,
   "metadata": {},
   "outputs": [],
   "source": []
  }
 ],
 "metadata": {
  "kernelspec": {
   "display_name": "Python 3",
   "language": "python",
   "name": "python3"
  },
  "language_info": {
   "codemirror_mode": {
    "name": "ipython",
    "version": 3
   },
   "file_extension": ".py",
   "mimetype": "text/x-python",
   "name": "python",
   "nbconvert_exporter": "python",
   "pygments_lexer": "ipython3",
   "version": "3.7.1"
  }
 },
 "nbformat": 4,
 "nbformat_minor": 2
}
