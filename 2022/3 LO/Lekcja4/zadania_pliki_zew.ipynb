{
 "cells": [
  {
   "cell_type": "markdown",
   "id": "departmental-california",
   "metadata": {},
   "source": [
    "## Zadania dane w plikach ##"
   ]
  },
  {
   "cell_type": "markdown",
   "id": "every-insertion",
   "metadata": {},
   "source": [
    "**Zadanie 1**"
   ]
  },
  {
   "cell_type": "markdown",
   "id": "tamil-lincoln",
   "metadata": {},
   "source": [
    "Wczytać dane z pliku numbers.txt oraz obliczyć wartość maksymalną, minimalną i sumę liczb.\n",
    "Dodatkowo obliczyć wartość średnią i odchylenie standardowe liczb."
   ]
  },
  {
   "cell_type": "code",
   "execution_count": 16,
   "id": "hourly-indicator",
   "metadata": {},
   "outputs": [],
   "source": [
    "liczby = []\n",
    "file = open('numbers.txt', mode='r')\n",
    "for e in file:\n",
    "    liczby.append(int(e))\n",
    "file.close()"
   ]
  },
  {
   "cell_type": "code",
   "execution_count": 18,
   "id": "daily-disposition",
   "metadata": {},
   "outputs": [
    {
     "data": {
      "text/plain": [
       "True"
      ]
     },
     "execution_count": 18,
     "metadata": {},
     "output_type": "execute_result"
    }
   ],
   "source": [
    "file.closed"
   ]
  },
  {
   "cell_type": "code",
   "execution_count": 19,
   "id": "expected-trinidad",
   "metadata": {},
   "outputs": [
    {
     "name": "stdout",
     "output_type": "stream",
     "text": [
      "[92, 25, 72, 63, 37, 32, 71, 25, 17, 91, 81, 82, 15, 69, 35, 13, 41, 67, 57, 16, 72, 2, 87, 69, 85, 8, 55, 19, 1, 61, 7, 56, 77, 55, 98, 49, 69, 96, 6, 93, 60, 81, 71, 40, 8, 10, 83, 76, 4, 2, 10, 95, 6, 38, 99, 2, 21, 10, 45, 33, 18, 15, 78, 14, 18, 39, 57, 72, 3, 73, 81, 70, 47, 29, 33, 35, 9, 32, 87, 91, 94, 83, 71, 43, 12, 26, 71, 49, 90, 93, 27, 20, 54, 98, 65, 95, 21, 38, 43, 72, 47, 1, 43, 21, 8, 70, 63, 61, 56, 62, 4, 60, 88, 29, 45, 82, 89, 51, 62, 20, 22, 57, 74, 55, 81, 97, 76, 21, 81, 18, 31, 38, 14, 90, 24, 18, 84, 88, 56, 9, 25, 50, 50, 58, 11, 46, 62, 48, 80, 55, 12, 69, 37, 40, 46, 29, 65, 76, 74, 81, 78, 64, 12, 70, 33, 4, 13, 23, 6, 45, 75, 48, 13, 65, 36, 80, 25, 30, 91, 77, 74, 59, 17, 91, 3, 8, 69, 71, 6, 19, 58, 59, 74, 23, 58, 67, 11, 8, 16, 5, 12, 63, 89, 35, 92, 83, 46, 38, 4, 20, 26, 6, 24, 60, 59, 68, 76, 57, 96, 66, 49, 52, 27, 5, 17, 93, 47, 90, 46, 40, 6, 96, 38, 79, 86, 91, 65, 66, 23, 80, 89]\n"
     ]
    }
   ],
   "source": [
    "print(liczby)"
   ]
  },
  {
   "cell_type": "code",
   "execution_count": 20,
   "id": "south-charge",
   "metadata": {},
   "outputs": [
    {
     "name": "stdout",
     "output_type": "stream",
     "text": [
      "1\n"
     ]
    }
   ],
   "source": [
    "print(min(liczby))"
   ]
  },
  {
   "cell_type": "code",
   "execution_count": 21,
   "id": "prepared-repeat",
   "metadata": {},
   "outputs": [
    {
     "name": "stdout",
     "output_type": "stream",
     "text": [
      "99\n"
     ]
    }
   ],
   "source": [
    "print(max(liczby))"
   ]
  },
  {
   "cell_type": "code",
   "execution_count": 22,
   "id": "architectural-documentation",
   "metadata": {},
   "outputs": [
    {
     "name": "stdout",
     "output_type": "stream",
     "text": [
      "11825\n"
     ]
    }
   ],
   "source": [
    "print(sum(liczby))\n"
   ]
  },
  {
   "cell_type": "code",
   "execution_count": 26,
   "id": "accepted-probe",
   "metadata": {},
   "outputs": [
    {
     "name": "stdout",
     "output_type": "stream",
     "text": [
      "241\n"
     ]
    }
   ],
   "source": [
    "print(len(liczby))"
   ]
  },
  {
   "cell_type": "code",
   "execution_count": 27,
   "id": "olive-medicaid",
   "metadata": {},
   "outputs": [],
   "source": [
    "import numpy as np"
   ]
  },
  {
   "cell_type": "code",
   "execution_count": 28,
   "id": "relevant-element",
   "metadata": {},
   "outputs": [
    {
     "name": "stdout",
     "output_type": "stream",
     "text": [
      "49.066390041493776\n"
     ]
    }
   ],
   "source": [
    "print(np.mean(liczby))"
   ]
  },
  {
   "cell_type": "code",
   "execution_count": 29,
   "id": "aquatic-copying",
   "metadata": {},
   "outputs": [
    {
     "name": "stdout",
     "output_type": "stream",
     "text": [
      "29.051602233997187\n"
     ]
    }
   ],
   "source": [
    "print(np.std(liczby))"
   ]
  },
  {
   "cell_type": "code",
   "execution_count": 30,
   "id": "composite-fossil",
   "metadata": {},
   "outputs": [
    {
     "name": "stdout",
     "output_type": "stream",
     "text": [
      "[1, 1, 2, 2, 2, 3, 3, 4, 4, 4, 4, 5, 5, 6, 6, 6, 6, 6, 6, 7, 8, 8, 8, 8, 8, 9, 9, 10, 10, 10, 11, 11, 12, 12, 12, 12, 13, 13, 13, 14, 14, 15, 15, 16, 16, 17, 17, 17, 18, 18, 18, 18, 19, 19, 20, 20, 20, 21, 21, 21, 21, 22, 23, 23, 23, 24, 24, 25, 25, 25, 25, 26, 26, 27, 27, 29, 29, 29, 30, 31, 32, 32, 33, 33, 33, 35, 35, 35, 36, 37, 37, 38, 38, 38, 38, 38, 39, 40, 40, 40, 41, 43, 43, 43, 45, 45, 45, 46, 46, 46, 46, 47, 47, 47, 48, 48, 49, 49, 49, 50, 50, 51, 52, 54, 55, 55, 55, 55, 56, 56, 56, 57, 57, 57, 57, 58, 58, 58, 59, 59, 59, 60, 60, 60, 61, 61, 62, 62, 62, 63, 63, 63, 64, 65, 65, 65, 65, 66, 66, 67, 67, 68, 69, 69, 69, 69, 69, 70, 70, 70, 71, 71, 71, 71, 71, 72, 72, 72, 72, 73, 74, 74, 74, 74, 75, 76, 76, 76, 76, 77, 77, 78, 78, 79, 80, 80, 80, 81, 81, 81, 81, 81, 81, 82, 82, 83, 83, 83, 84, 85, 86, 87, 87, 88, 88, 89, 89, 89, 90, 90, 90, 91, 91, 91, 91, 91, 92, 92, 93, 93, 93, 94, 95, 95, 96, 96, 96, 97, 98, 98, 99]\n"
     ]
    }
   ],
   "source": [
    "print(sorted(liczby))"
   ]
  },
  {
   "cell_type": "markdown",
   "id": "funded-sapphire",
   "metadata": {},
   "source": [
    "**Zadanie 2**"
   ]
  },
  {
   "cell_type": "markdown",
   "id": "atlantic-secretariat",
   "metadata": {},
   "source": [
    "Wczytać liczby z pliku numbers.txt oraz posortować je metodą bąbelkową od najmniejszej do największej"
   ]
  },
  {
   "cell_type": "code",
   "execution_count": 35,
   "id": "interstate-anchor",
   "metadata": {},
   "outputs": [
    {
     "name": "stdout",
     "output_type": "stream",
     "text": [
      "czy plik jest zamknięty? True\n",
      "[92, 25, 72, 63, 37, 32, 71, 25, 17, 91, 81, 82, 15, 69, 35, 13, 41, 67, 57, 16, 72, 2, 87, 69, 85, 8, 55, 19, 1, 61, 7, 56, 77, 55, 98, 49, 69, 96, 6, 93, 60, 81, 71, 40, 8, 10, 83, 76, 4, 2, 10, 95, 6, 38, 99, 2, 21, 10, 45, 33, 18, 15, 78, 14, 18, 39, 57, 72, 3, 73, 81, 70, 47, 29, 33, 35, 9, 32, 87, 91, 94, 83, 71, 43, 12, 26, 71, 49, 90, 93, 27, 20, 54, 98, 65, 95, 21, 38, 43, 72, 47, 1, 43, 21, 8, 70, 63, 61, 56, 62, 4, 60, 88, 29, 45, 82, 89, 51, 62, 20, 22, 57, 74, 55, 81, 97, 76, 21, 81, 18, 31, 38, 14, 90, 24, 18, 84, 88, 56, 9, 25, 50, 50, 58, 11, 46, 62, 48, 80, 55, 12, 69, 37, 40, 46, 29, 65, 76, 74, 81, 78, 64, 12, 70, 33, 4, 13, 23, 6, 45, 75, 48, 13, 65, 36, 80, 25, 30, 91, 77, 74, 59, 17, 91, 3, 8, 69, 71, 6, 19, 58, 59, 74, 23, 58, 67, 11, 8, 16, 5, 12, 63, 89, 35, 92, 83, 46, 38, 4, 20, 26, 6, 24, 60, 59, 68, 76, 57, 96, 66, 49, 52, 27, 5, 17, 93, 47, 90, 46, 40, 6, 96, 38, 79, 86, 91, 65, 66, 23, 80, 89]\n"
     ]
    }
   ],
   "source": [
    "file = open('numbers.txt', mode='r')\n",
    "liczby = []\n",
    "for e in file:\n",
    "    liczby.append(int(e))\n",
    "file.close()\n",
    "print('czy plik jest zamknięty?', file.closed)\n",
    "print(liczby)"
   ]
  },
  {
   "cell_type": "code",
   "execution_count": 36,
   "id": "nasty-butterfly",
   "metadata": {},
   "outputs": [
    {
     "name": "stdout",
     "output_type": "stream",
     "text": [
      "241\n"
     ]
    }
   ],
   "source": [
    "print(len(liczby))"
   ]
  },
  {
   "cell_type": "code",
   "execution_count": 37,
   "id": "monthly-drinking",
   "metadata": {},
   "outputs": [
    {
     "name": "stdout",
     "output_type": "stream",
     "text": [
      "...................\n",
      "posortowana lista:  213\n",
      "[1, 1, 2, 2, 2, 3, 3, 4, 4, 4, 4, 5, 5, 6, 6, 6, 6, 6, 6, 7, 8, 8, 8, 8, 8, 9, 9, 10, 10, 10, 11, 11, 12, 12, 12, 12, 13, 13, 13, 14, 14, 15, 15, 16, 16, 17, 17, 17, 18, 18, 18, 18, 19, 19, 20, 20, 20, 21, 21, 21, 21, 22, 23, 23, 23, 24, 24, 25, 25, 25, 25, 26, 26, 27, 27, 29, 29, 29, 30, 31, 32, 32, 33, 33, 33, 35, 35, 35, 36, 37, 37, 38, 38, 38, 38, 38, 39, 40, 40, 40, 41, 43, 43, 43, 45, 45, 45, 46, 46, 46, 46, 47, 47, 47, 48, 48, 49, 49, 49, 50, 50, 51, 52, 54, 55, 55, 55, 55, 56, 56, 56, 57, 57, 57, 57, 58, 58, 58, 59, 59, 59, 60, 60, 60, 61, 61, 62, 62, 62, 63, 63, 63, 64, 65, 65, 65, 65, 66, 66, 67, 67, 68, 69, 69, 69, 69, 69, 70, 70, 70, 71, 71, 71, 71, 71, 72, 72, 72, 72, 73, 74, 74, 74, 74, 75, 76, 76, 76, 76, 77, 77, 78, 78, 79, 80, 80, 80, 81, 81, 81, 81, 81, 81, 82, 82, 83, 83, 83, 84, 85, 86, 87, 87, 88, 88, 89, 89, 89, 90, 90, 90, 91, 91, 91, 91, 91, 92, 92, 93, 93, 93, 94, 95, 95, 96, 96, 96, 97, 98, 98, 99]\n"
     ]
    }
   ],
   "source": [
    "# metoda bąbelkowa, sortowanie rosnące\n",
    "s = True\n",
    "j = 0\n",
    "while s:\n",
    "    j += 1\n",
    "    s = False\n",
    "    for e in range(len(liczby) - 1):\n",
    "        if liczby[e] > liczby[e+1]:\n",
    "            liczby[e],liczby[e+1] = liczby[e+1],liczby[e]\n",
    "            s = True\n",
    "print('...................')\n",
    "print('posortowana lista: ', j)\n",
    "print(liczby)\n",
    "    "
   ]
  },
  {
   "cell_type": "code",
   "execution_count": 43,
   "id": "heated-argument",
   "metadata": {},
   "outputs": [],
   "source": [
    "file = open('liczby.txt', mode='w')\n",
    "for e in liczby:\n",
    "    file.write(str(e))\n",
    "    file.write('\\n')\n",
    "file.close()"
   ]
  },
  {
   "cell_type": "markdown",
   "id": "subjective-helmet",
   "metadata": {},
   "source": [
    "**Zadanie3**"
   ]
  },
  {
   "cell_type": "markdown",
   "id": "continent-beginning",
   "metadata": {},
   "source": [
    "wczytać liczby z pliku numbers.txt i wpisać podwojoną wartość każdej liczby do pliku  liczby.txt"
   ]
  },
  {
   "cell_type": "code",
   "execution_count": 45,
   "id": "usual-astronomy",
   "metadata": {},
   "outputs": [],
   "source": [
    "file = open('numbers.txt',mode='r')\n",
    "liczby=[]\n",
    "for e in file:\n",
    "    liczby.append(int(e))\n",
    "file.close()"
   ]
  },
  {
   "cell_type": "code",
   "execution_count": 46,
   "id": "independent-embassy",
   "metadata": {},
   "outputs": [
    {
     "name": "stdout",
     "output_type": "stream",
     "text": [
      "[92, 25, 72, 63, 37, 32, 71, 25, 17, 91, 81, 82, 15, 69, 35, 13, 41, 67, 57, 16, 72, 2, 87, 69, 85, 8, 55, 19, 1, 61, 7, 56, 77, 55, 98, 49, 69, 96, 6, 93, 60, 81, 71, 40, 8, 10, 83, 76, 4, 2, 10, 95, 6, 38, 99, 2, 21, 10, 45, 33, 18, 15, 78, 14, 18, 39, 57, 72, 3, 73, 81, 70, 47, 29, 33, 35, 9, 32, 87, 91, 94, 83, 71, 43, 12, 26, 71, 49, 90, 93, 27, 20, 54, 98, 65, 95, 21, 38, 43, 72, 47, 1, 43, 21, 8, 70, 63, 61, 56, 62, 4, 60, 88, 29, 45, 82, 89, 51, 62, 20, 22, 57, 74, 55, 81, 97, 76, 21, 81, 18, 31, 38, 14, 90, 24, 18, 84, 88, 56, 9, 25, 50, 50, 58, 11, 46, 62, 48, 80, 55, 12, 69, 37, 40, 46, 29, 65, 76, 74, 81, 78, 64, 12, 70, 33, 4, 13, 23, 6, 45, 75, 48, 13, 65, 36, 80, 25, 30, 91, 77, 74, 59, 17, 91, 3, 8, 69, 71, 6, 19, 58, 59, 74, 23, 58, 67, 11, 8, 16, 5, 12, 63, 89, 35, 92, 83, 46, 38, 4, 20, 26, 6, 24, 60, 59, 68, 76, 57, 96, 66, 49, 52, 27, 5, 17, 93, 47, 90, 46, 40, 6, 96, 38, 79, 86, 91, 65, 66, 23, 80, 89]\n"
     ]
    }
   ],
   "source": [
    "print(liczby)"
   ]
  },
  {
   "cell_type": "code",
   "execution_count": 47,
   "id": "instant-extension",
   "metadata": {},
   "outputs": [],
   "source": [
    "file = open('liczby.txt', mode='w')\n",
    "for e in liczby:\n",
    "    file.write(str(2*e))\n",
    "    file.write('\\n')\n",
    "file.close()"
   ]
  },
  {
   "cell_type": "code",
   "execution_count": null,
   "id": "mechanical-suite",
   "metadata": {},
   "outputs": [],
   "source": []
  }
 ],
 "metadata": {
  "kernelspec": {
   "display_name": "Python 3",
   "language": "python",
   "name": "python3"
  },
  "language_info": {
   "codemirror_mode": {
    "name": "ipython",
    "version": 3
   },
   "file_extension": ".py",
   "mimetype": "text/x-python",
   "name": "python",
   "nbconvert_exporter": "python",
   "pygments_lexer": "ipython3",
   "version": "3.7.9"
  }
 },
 "nbformat": 4,
 "nbformat_minor": 5
}
