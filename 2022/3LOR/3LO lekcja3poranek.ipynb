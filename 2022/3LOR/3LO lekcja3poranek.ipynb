{
 "cells": [
  {
   "cell_type": "markdown",
   "metadata": {},
   "source": [
    "## Przetwarzanie tekstów w Pythonie ##"
   ]
  },
  {
   "cell_type": "markdown",
   "metadata": {},
   "source": [
    "**Konkatenacja**"
   ]
  },
  {
   "cell_type": "code",
   "execution_count": 1,
   "metadata": {},
   "outputs": [],
   "source": [
    "napis1 = 'stoi'\n",
    "napis2 = 'lokomotywa'"
   ]
  },
  {
   "cell_type": "code",
   "execution_count": 3,
   "metadata": {},
   "outputs": [
    {
     "name": "stdout",
     "output_type": "stream",
     "text": [
      "stoi na stacji lokomotywa\n"
     ]
    }
   ],
   "source": [
    "print(napis1 + ' na stacji '+ napis2)"
   ]
  },
  {
   "cell_type": "code",
   "execution_count": 4,
   "metadata": {},
   "outputs": [
    {
     "name": "stdout",
     "output_type": "stream",
     "text": [
      "10\n"
     ]
    }
   ],
   "source": [
    "print(len(napis2))"
   ]
  },
  {
   "cell_type": "code",
   "execution_count": 5,
   "metadata": {},
   "outputs": [
    {
     "name": "stdout",
     "output_type": "stream",
     "text": [
      "['l', 'o', 'k', 'o', 'm', 'o', 't', 'y', 'w', 'a']\n"
     ]
    }
   ],
   "source": [
    "print(list(napis2))"
   ]
  },
  {
   "cell_type": "code",
   "execution_count": 7,
   "metadata": {},
   "outputs": [
    {
     "name": "stdout",
     "output_type": "stream",
     "text": [
      "l o k o m o t y w a "
     ]
    }
   ],
   "source": [
    "for e in napis2:\n",
    "    print(e, end=' ')"
   ]
  },
  {
   "cell_type": "code",
   "execution_count": 8,
   "metadata": {},
   "outputs": [
    {
     "name": "stdout",
     "output_type": "stream",
     "text": [
      "kom\n"
     ]
    }
   ],
   "source": [
    "print(napis2[2:5])"
   ]
  },
  {
   "cell_type": "code",
   "execution_count": 10,
   "metadata": {},
   "outputs": [
    {
     "name": "stdout",
     "output_type": "stream",
     "text": [
      "awytomokol\n"
     ]
    }
   ],
   "source": [
    "print(napis2[::-1])"
   ]
  },
  {
   "cell_type": "code",
   "execution_count": 11,
   "metadata": {},
   "outputs": [
    {
     "name": "stdout",
     "output_type": "stream",
     "text": [
      "['a', 'w', 'y', 't', 'o', 'm', 'o', 'k', 'o', 'l']\n"
     ]
    }
   ],
   "source": [
    "print(list(reversed(napis2)))"
   ]
  },
  {
   "cell_type": "code",
   "execution_count": 13,
   "metadata": {},
   "outputs": [
    {
     "name": "stdout",
     "output_type": "stream",
     "text": [
      "108 111 107 111 109 111 116 121 119 97 "
     ]
    }
   ],
   "source": [
    "for e in napis2:\n",
    "    print(ord(e), end= ' ')"
   ]
  },
  {
   "cell_type": "code",
   "execution_count": 16,
   "metadata": {},
   "outputs": [
    {
     "name": "stdout",
     "output_type": "stream",
     "text": [
      "3\n"
     ]
    }
   ],
   "source": [
    "print(napis2.count('o'))"
   ]
  },
  {
   "cell_type": "code",
   "execution_count": 17,
   "metadata": {},
   "outputs": [],
   "source": [
    "zdanie = ' It will function like a class. For each class we will be covering one chapter together, meaning the majority of the class time will be discussing grammar and answering questions.'"
   ]
  },
  {
   "cell_type": "code",
   "execution_count": 18,
   "metadata": {},
   "outputs": [
    {
     "name": "stdout",
     "output_type": "stream",
     "text": [
      " It will function like a class. For each class we will be covering one chapter together, meaning the majority of the class time will be discussing grammar and answering questions.\n"
     ]
    }
   ],
   "source": [
    "print(zdanie)"
   ]
  },
  {
   "cell_type": "code",
   "execution_count": 19,
   "metadata": {},
   "outputs": [
    {
     "name": "stdout",
     "output_type": "stream",
     "text": [
      "3\n"
     ]
    }
   ],
   "source": [
    "print(zdanie.count('class'))"
   ]
  },
  {
   "cell_type": "code",
   "execution_count": 20,
   "metadata": {},
   "outputs": [
    {
     "name": "stdout",
     "output_type": "stream",
     "text": [
      "10\n"
     ]
    }
   ],
   "source": [
    "print(3+7)"
   ]
  },
  {
   "cell_type": "code",
   "execution_count": 21,
   "metadata": {},
   "outputs": [
    {
     "name": "stdout",
     "output_type": "stream",
     "text": [
      "3+7\n"
     ]
    }
   ],
   "source": [
    "print('3+7')"
   ]
  },
  {
   "cell_type": "code",
   "execution_count": 22,
   "metadata": {},
   "outputs": [
    {
     "name": "stdout",
     "output_type": "stream",
     "text": [
      "3 7\n"
     ]
    }
   ],
   "source": [
    "print('3' + ' ' + '7')"
   ]
  },
  {
   "cell_type": "code",
   "execution_count": 23,
   "metadata": {},
   "outputs": [
    {
     "name": "stdout",
     "output_type": "stream",
     "text": [
      "3\n",
      "7\n"
     ]
    }
   ],
   "source": [
    "print('3'+'\\n7')"
   ]
  },
  {
   "cell_type": "code",
   "execution_count": 51,
   "metadata": {},
   "outputs": [],
   "source": [
    "file = open('file.txt', mode='r', encoding='utf-8')"
   ]
  },
  {
   "cell_type": "code",
   "execution_count": 52,
   "metadata": {},
   "outputs": [
    {
     "name": "stdout",
     "output_type": "stream",
     "text": [
      "Jacek\n",
      "Jurek\n",
      "Małgosia\n",
      "Irena\n",
      "Katarzyna\n",
      "Andrzej\n",
      "\n"
     ]
    }
   ],
   "source": [
    "print(file.read())"
   ]
  },
  {
   "cell_type": "code",
   "execution_count": 49,
   "metadata": {},
   "outputs": [
    {
     "data": {
      "text/plain": [
       "False"
      ]
     },
     "execution_count": 49,
     "metadata": {},
     "output_type": "execute_result"
    }
   ],
   "source": [
    "file.closed"
   ]
  },
  {
   "cell_type": "code",
   "execution_count": 41,
   "metadata": {},
   "outputs": [
    {
     "name": "stdout",
     "output_type": "stream",
     "text": [
      "\n"
     ]
    }
   ],
   "source": [
    "print(file.read())"
   ]
  },
  {
   "cell_type": "code",
   "execution_count": 50,
   "metadata": {},
   "outputs": [],
   "source": [
    "file.close()"
   ]
  },
  {
   "cell_type": "code",
   "execution_count": 48,
   "metadata": {},
   "outputs": [
    {
     "name": "stdout",
     "output_type": "stream",
     "text": [
      "Jacek\n"
     ]
    }
   ],
   "source": [
    "print(file.read(5))"
   ]
  },
  {
   "cell_type": "code",
   "execution_count": 74,
   "metadata": {},
   "outputs": [
    {
     "data": {
      "text/plain": [
       "0"
      ]
     },
     "execution_count": 74,
     "metadata": {},
     "output_type": "execute_result"
    }
   ],
   "source": [
    "file.seek(0)"
   ]
  },
  {
   "cell_type": "code",
   "execution_count": 75,
   "metadata": {},
   "outputs": [
    {
     "name": "stdout",
     "output_type": "stream",
     "text": [
      "0\n"
     ]
    }
   ],
   "source": [
    "print(file.tell())"
   ]
  },
  {
   "cell_type": "code",
   "execution_count": 7,
   "metadata": {},
   "outputs": [],
   "source": [
    "fruits=[\"Orange\\n\",\"Banana\\n\",\"Apple\\n\"]\n",
    "new_file=open('owoce.txt',mode=\"a\",encoding=\"utf-8\")\n",
    "new_file.writelines(fruits)\n",
    "new_file.close()"
   ]
  },
  {
   "cell_type": "code",
   "execution_count": 8,
   "metadata": {},
   "outputs": [
    {
     "name": "stdout",
     "output_type": "stream",
     "text": [
      "True\n"
     ]
    }
   ],
   "source": [
    "print(new_file.closed)"
   ]
  },
  {
   "cell_type": "code",
   "execution_count": 9,
   "metadata": {},
   "outputs": [
    {
     "name": "stdout",
     "output_type": "stream",
     "text": [
      "Orange\n",
      "\n",
      "Banana\n",
      "\n",
      "Apple\n",
      "\n"
     ]
    }
   ],
   "source": [
    "new_file = open('owoce.txt',mode=\"r\",encoding=\"utf-8\")\n",
    "for fruit in new_file:\n",
    "    \n",
    "    print(fruit)\n",
    "\n",
    "new_file.close()"
   ]
  },
  {
   "cell_type": "code",
   "execution_count": 5,
   "metadata": {},
   "outputs": [
    {
     "name": "stdout",
     "output_type": "stream",
     "text": [
      "True\n"
     ]
    }
   ],
   "source": [
    "print(new_file.closed)"
   ]
  },
  {
   "cell_type": "code",
   "execution_count": 96,
   "metadata": {},
   "outputs": [
    {
     "name": "stdout",
     "output_type": "stream",
     "text": [
      "[119, 101, 32, 119, 105, 108, 108, 32, 111, 118, 101, 114, 99, 111, 109, 101]\n"
     ]
    }
   ],
   "source": [
    "liczby = []\n",
    "file = open('liczby.txt', mode='r')\n",
    "for liczba in file:\n",
    "    liczby.append(int(liczba))\n",
    "print(liczby)\n"
   ]
  },
  {
   "cell_type": "code",
   "execution_count": 97,
   "metadata": {},
   "outputs": [
    {
     "name": "stdout",
     "output_type": "stream",
     "text": [
      "119\n"
     ]
    }
   ],
   "source": [
    "print(max(liczby))"
   ]
  },
  {
   "cell_type": "code",
   "execution_count": 98,
   "metadata": {},
   "outputs": [
    {
     "name": "stdout",
     "output_type": "stream",
     "text": [
      "32\n"
     ]
    }
   ],
   "source": [
    "print(min(liczby))"
   ]
  },
  {
   "cell_type": "code",
   "execution_count": 99,
   "metadata": {},
   "outputs": [
    {
     "name": "stdout",
     "output_type": "stream",
     "text": [
      "16\n"
     ]
    }
   ],
   "source": [
    "print(len(liczby))"
   ]
  },
  {
   "cell_type": "code",
   "execution_count": 100,
   "metadata": {},
   "outputs": [
    {
     "name": "stdout",
     "output_type": "stream",
     "text": [
      "1588\n"
     ]
    }
   ],
   "source": [
    "print(sum(liczby))"
   ]
  },
  {
   "cell_type": "code",
   "execution_count": 101,
   "metadata": {},
   "outputs": [
    {
     "name": "stdout",
     "output_type": "stream",
     "text": [
      "[119, 101, 32, 119, 105, 108, 108, 32, 111, 118, 101, 114, 99, 111, 109, 101]\n"
     ]
    }
   ],
   "source": [
    "print(list(liczby))"
   ]
  },
  {
   "cell_type": "code",
   "execution_count": null,
   "metadata": {},
   "outputs": [],
   "source": []
  },
  {
   "cell_type": "code",
   "execution_count": 102,
   "metadata": {},
   "outputs": [],
   "source": [
    "file.close()"
   ]
  },
  {
   "cell_type": "markdown",
   "metadata": {},
   "source": [
    "Zadanie. Obliczyć wartość ilość liczb, sumę, wartoóść maksymalną i minimalną oraz wartość średnią i odchylenie standardowe liczb w pliku numbers.txt"
   ]
  },
  {
   "cell_type": "code",
   "execution_count": 10,
   "metadata": {},
   "outputs": [],
   "source": [
    "import random as ran"
   ]
  },
  {
   "cell_type": "code",
   "execution_count": 24,
   "metadata": {},
   "outputs": [
    {
     "name": "stdout",
     "output_type": "stream",
     "text": [
      "22\n",
      "57\n",
      "74\n",
      "55\n",
      "81\n",
      "97\n",
      "76\n",
      "21\n",
      "81\n",
      "18\n",
      "31\n",
      "38\n",
      "14\n",
      "90\n",
      "24\n",
      "18\n",
      "84\n",
      "88\n",
      "56\n",
      "9\n",
      "25\n",
      "50\n",
      "50\n",
      "58\n",
      "11\n",
      "46\n",
      "62\n",
      "48\n",
      "80\n",
      "55\n",
      "12\n",
      "69\n",
      "37\n",
      "40\n",
      "46\n",
      "29\n",
      "65\n",
      "76\n",
      "74\n",
      "81\n",
      "78\n",
      "64\n",
      "12\n",
      "70\n",
      "33\n",
      "4\n",
      "13\n",
      "23\n",
      "6\n",
      "45\n",
      "75\n",
      "48\n",
      "13\n",
      "65\n",
      "36\n",
      "80\n",
      "25\n",
      "30\n",
      "91\n",
      "77\n",
      "74\n",
      "59\n",
      "17\n",
      "91\n",
      "3\n",
      "8\n",
      "69\n",
      "71\n",
      "6\n",
      "19\n",
      "58\n",
      "59\n",
      "74\n",
      "23\n",
      "58\n",
      "67\n",
      "11\n",
      "8\n",
      "16\n",
      "5\n",
      "12\n",
      "63\n",
      "89\n",
      "35\n",
      "92\n",
      "83\n",
      "46\n",
      "38\n",
      "4\n",
      "20\n",
      "26\n",
      "6\n",
      "24\n",
      "60\n",
      "59\n",
      "68\n",
      "76\n",
      "57\n",
      "96\n",
      "66\n",
      "49\n",
      "52\n",
      "27\n",
      "5\n",
      "17\n",
      "93\n",
      "47\n",
      "90\n",
      "46\n",
      "40\n",
      "6\n",
      "96\n",
      "38\n",
      "79\n",
      "86\n",
      "91\n",
      "65\n",
      "66\n",
      "23\n",
      "80\n",
      "89\n"
     ]
    }
   ],
   "source": [
    "file = open('numbers.txt', mode='w+')\n",
    "for e in range(121):\n",
    "    nums = ran.randrange(1,100)\n",
    "    file.write(str(nums)+'\\n')\n",
    "file.seek(0)\n",
    "for e in file:\n",
    "    print(e, end='')"
   ]
  },
  {
   "cell_type": "code",
   "execution_count": 25,
   "metadata": {},
   "outputs": [],
   "source": [
    "file.close()"
   ]
  },
  {
   "cell_type": "code",
   "execution_count": 30,
   "metadata": {},
   "outputs": [
    {
     "name": "stdout",
     "output_type": "stream",
     "text": [
      "[22, 57, 74, 55, 81, 97, 76, 21, 81, 18, 31, 38, 14, 90, 24, 18, 84, 88, 56, 9, 25, 50, 50, 58, 11, 46, 62, 48, 80, 55, 12, 69, 37, 40, 46, 29, 65, 76, 74, 81, 78, 64, 12, 70, 33, 4, 13, 23, 6, 45, 75, 48, 13, 65, 36, 80, 25, 30, 91, 77, 74, 59, 17, 91, 3, 8, 69, 71, 6, 19, 58, 59, 74, 23, 58, 67, 11, 8, 16, 5, 12, 63, 89, 35, 92, 83, 46, 38, 4, 20, 26, 6, 24, 60, 59, 68, 76, 57, 96, 66, 49, 52, 27, 5, 17, 93, 47, 90, 46, 40, 6, 96, 38, 79, 86, 91, 65, 66, 23, 80, 89]\n"
     ]
    }
   ],
   "source": [
    "file = open('numbers.txt', mode='r')\n",
    "lista = []\n",
    "for e in file:\n",
    "    lista.append(int(e))\n",
    "file.close()\n",
    "print(lista)"
   ]
  },
  {
   "cell_type": "code",
   "execution_count": 34,
   "metadata": {},
   "outputs": [
    {
     "data": {
      "text/plain": [
       "5937"
      ]
     },
     "execution_count": 34,
     "metadata": {},
     "output_type": "execute_result"
    }
   ],
   "source": [
    "sum(lista)"
   ]
  },
  {
   "cell_type": "code",
   "execution_count": 35,
   "metadata": {},
   "outputs": [
    {
     "data": {
      "text/plain": [
       "97"
      ]
     },
     "execution_count": 35,
     "metadata": {},
     "output_type": "execute_result"
    }
   ],
   "source": [
    "max(lista)"
   ]
  },
  {
   "cell_type": "code",
   "execution_count": 36,
   "metadata": {},
   "outputs": [
    {
     "data": {
      "text/plain": [
       "3"
      ]
     },
     "execution_count": 36,
     "metadata": {},
     "output_type": "execute_result"
    }
   ],
   "source": [
    "min(lista)"
   ]
  },
  {
   "cell_type": "code",
   "execution_count": 37,
   "metadata": {},
   "outputs": [],
   "source": [
    "import numpy as np"
   ]
  },
  {
   "cell_type": "code",
   "execution_count": 38,
   "metadata": {},
   "outputs": [
    {
     "data": {
      "text/plain": [
       "49.06611570247934"
      ]
     },
     "execution_count": 38,
     "metadata": {},
     "output_type": "execute_result"
    }
   ],
   "source": [
    "np.average(lista)"
   ]
  },
  {
   "cell_type": "code",
   "execution_count": 39,
   "metadata": {},
   "outputs": [
    {
     "data": {
      "text/plain": [
       "49.06611570247934"
      ]
     },
     "execution_count": 39,
     "metadata": {},
     "output_type": "execute_result"
    }
   ],
   "source": [
    "np.mean(lista)"
   ]
  },
  {
   "cell_type": "code",
   "execution_count": 40,
   "metadata": {},
   "outputs": [
    {
     "data": {
      "text/plain": [
       "28.187898328626066"
      ]
     },
     "execution_count": 40,
     "metadata": {},
     "output_type": "execute_result"
    }
   ],
   "source": [
    "np.std(lista)"
   ]
  },
  {
   "cell_type": "code",
   "execution_count": null,
   "metadata": {},
   "outputs": [],
   "source": []
  }
 ],
 "metadata": {
  "kernelspec": {
   "display_name": "Python 3",
   "language": "python",
   "name": "python3"
  },
  "language_info": {
   "codemirror_mode": {
    "name": "ipython",
    "version": 3
   },
   "file_extension": ".py",
   "mimetype": "text/x-python",
   "name": "python",
   "nbconvert_exporter": "python",
   "pygments_lexer": "ipython3",
   "version": "3.8.3"
  }
 },
 "nbformat": 4,
 "nbformat_minor": 5
}
