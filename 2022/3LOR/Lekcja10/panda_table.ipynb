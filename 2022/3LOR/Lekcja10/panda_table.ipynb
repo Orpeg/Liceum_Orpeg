{
 "cells": [
  {
   "cell_type": "code",
   "execution_count": 1,
   "id": "cef00042",
   "metadata": {},
   "outputs": [
    {
     "name": "stdout",
     "output_type": "stream",
     "text": [
      "5\n"
     ]
    }
   ],
   "source": [
    "# zmienne\n",
    "a=2\n",
    "b = 3\n",
    "suma = a+b\n",
    "print(suma)"
   ]
  },
  {
   "cell_type": "code",
   "execution_count": 2,
   "id": "77fb233a",
   "metadata": {},
   "outputs": [],
   "source": [
    "s = 'jan kowalski'\n"
   ]
  },
  {
   "cell_type": "code",
   "execution_count": 3,
   "id": "3990b7e4",
   "metadata": {},
   "outputs": [
    {
     "name": "stdout",
     "output_type": "stream",
     "text": [
      "jan kowalski\n"
     ]
    }
   ],
   "source": [
    "print(s)\n"
   ]
  },
  {
   "cell_type": "code",
   "execution_count": 4,
   "id": "79e75919",
   "metadata": {},
   "outputs": [
    {
     "name": "stdout",
     "output_type": "stream",
     "text": [
      "n\n"
     ]
    }
   ],
   "source": [
    "print(s[2])"
   ]
  },
  {
   "cell_type": "code",
   "execution_count": 5,
   "id": "80d2513b",
   "metadata": {},
   "outputs": [
    {
     "data": {
      "text/plain": [
       "[0, 1, 2, 3, 4, 5, 6, 7, 8, 9]"
      ]
     },
     "execution_count": 5,
     "metadata": {},
     "output_type": "execute_result"
    }
   ],
   "source": [
    "lst = list(range(10))\n",
    "lst"
   ]
  },
  {
   "cell_type": "code",
   "execution_count": 6,
   "id": "aad1ca7c",
   "metadata": {},
   "outputs": [
    {
     "name": "stdout",
     "output_type": "stream",
     "text": [
      "[0, 1, 2, 3, 4, 5, 6, 7, 8, 9, 'bocian']\n"
     ]
    }
   ],
   "source": [
    "lst.append('bocian')\n",
    "print(lst)"
   ]
  },
  {
   "cell_type": "code",
   "execution_count": 7,
   "id": "111a1668",
   "metadata": {},
   "outputs": [],
   "source": [
    "import pandas as pd"
   ]
  },
  {
   "cell_type": "code",
   "execution_count": 11,
   "id": "d4a7cf78",
   "metadata": {},
   "outputs": [],
   "source": [
    "df=pd.DataFrame({'lp':lst, 'nazwa':aa})"
   ]
  },
  {
   "cell_type": "code",
   "execution_count": 10,
   "id": "08859f79",
   "metadata": {},
   "outputs": [
    {
     "data": {
      "text/plain": [
       "11"
      ]
     },
     "execution_count": 10,
     "metadata": {},
     "output_type": "execute_result"
    }
   ],
   "source": [
    "aa = ['janek', 'malgosia', 'jurek', 'stasio', 'hania', 'renia', 'kazio', 'Łucja', 'jasia','zaba','iza']\n",
    "len(aa)"
   ]
  },
  {
   "cell_type": "code",
   "execution_count": 12,
   "id": "12d90210",
   "metadata": {},
   "outputs": [
    {
     "data": {
      "text/html": [
       "<div>\n",
       "<style scoped>\n",
       "    .dataframe tbody tr th:only-of-type {\n",
       "        vertical-align: middle;\n",
       "    }\n",
       "\n",
       "    .dataframe tbody tr th {\n",
       "        vertical-align: top;\n",
       "    }\n",
       "\n",
       "    .dataframe thead th {\n",
       "        text-align: right;\n",
       "    }\n",
       "</style>\n",
       "<table border=\"1\" class=\"dataframe\">\n",
       "  <thead>\n",
       "    <tr style=\"text-align: right;\">\n",
       "      <th></th>\n",
       "      <th>lp</th>\n",
       "      <th>nazwa</th>\n",
       "    </tr>\n",
       "  </thead>\n",
       "  <tbody>\n",
       "    <tr>\n",
       "      <th>0</th>\n",
       "      <td>0</td>\n",
       "      <td>janek</td>\n",
       "    </tr>\n",
       "    <tr>\n",
       "      <th>1</th>\n",
       "      <td>1</td>\n",
       "      <td>malgosia</td>\n",
       "    </tr>\n",
       "    <tr>\n",
       "      <th>2</th>\n",
       "      <td>2</td>\n",
       "      <td>jurek</td>\n",
       "    </tr>\n",
       "    <tr>\n",
       "      <th>3</th>\n",
       "      <td>3</td>\n",
       "      <td>stasio</td>\n",
       "    </tr>\n",
       "    <tr>\n",
       "      <th>4</th>\n",
       "      <td>4</td>\n",
       "      <td>hania</td>\n",
       "    </tr>\n",
       "    <tr>\n",
       "      <th>5</th>\n",
       "      <td>5</td>\n",
       "      <td>renia</td>\n",
       "    </tr>\n",
       "    <tr>\n",
       "      <th>6</th>\n",
       "      <td>6</td>\n",
       "      <td>kazio</td>\n",
       "    </tr>\n",
       "    <tr>\n",
       "      <th>7</th>\n",
       "      <td>7</td>\n",
       "      <td>Łucja</td>\n",
       "    </tr>\n",
       "    <tr>\n",
       "      <th>8</th>\n",
       "      <td>8</td>\n",
       "      <td>jasia</td>\n",
       "    </tr>\n",
       "    <tr>\n",
       "      <th>9</th>\n",
       "      <td>9</td>\n",
       "      <td>zaba</td>\n",
       "    </tr>\n",
       "    <tr>\n",
       "      <th>10</th>\n",
       "      <td>bocian</td>\n",
       "      <td>iza</td>\n",
       "    </tr>\n",
       "  </tbody>\n",
       "</table>\n",
       "</div>"
      ],
      "text/plain": [
       "        lp     nazwa\n",
       "0        0     janek\n",
       "1        1  malgosia\n",
       "2        2     jurek\n",
       "3        3    stasio\n",
       "4        4     hania\n",
       "5        5     renia\n",
       "6        6     kazio\n",
       "7        7     Łucja\n",
       "8        8     jasia\n",
       "9        9      zaba\n",
       "10  bocian       iza"
      ]
     },
     "execution_count": 12,
     "metadata": {},
     "output_type": "execute_result"
    }
   ],
   "source": [
    "df"
   ]
  },
  {
   "cell_type": "code",
   "execution_count": 16,
   "id": "a4fd5282",
   "metadata": {},
   "outputs": [
    {
     "data": {
      "text/html": [
       "<div>\n",
       "<style scoped>\n",
       "    .dataframe tbody tr th:only-of-type {\n",
       "        vertical-align: middle;\n",
       "    }\n",
       "\n",
       "    .dataframe tbody tr th {\n",
       "        vertical-align: top;\n",
       "    }\n",
       "\n",
       "    .dataframe thead th {\n",
       "        text-align: right;\n",
       "    }\n",
       "</style>\n",
       "<table border=\"1\" class=\"dataframe\">\n",
       "  <thead>\n",
       "    <tr style=\"text-align: right;\">\n",
       "      <th></th>\n",
       "      <th>lp</th>\n",
       "      <th>nazwa</th>\n",
       "    </tr>\n",
       "  </thead>\n",
       "  <tbody>\n",
       "    <tr>\n",
       "      <th>10</th>\n",
       "      <td>bocian</td>\n",
       "      <td>iza</td>\n",
       "    </tr>\n",
       "  </tbody>\n",
       "</table>\n",
       "</div>"
      ],
      "text/plain": [
       "        lp nazwa\n",
       "10  bocian   iza"
      ]
     },
     "execution_count": 16,
     "metadata": {},
     "output_type": "execute_result"
    }
   ],
   "source": [
    "df[df['lp']=='bocian']"
   ]
  },
  {
   "cell_type": "code",
   "execution_count": 17,
   "id": "eeff3ce2",
   "metadata": {},
   "outputs": [],
   "source": [
    "dd = pd.read_clipboard()"
   ]
  },
  {
   "cell_type": "code",
   "execution_count": 18,
   "id": "8986487a",
   "metadata": {},
   "outputs": [
    {
     "data": {
      "text/html": [
       "<div>\n",
       "<style scoped>\n",
       "    .dataframe tbody tr th:only-of-type {\n",
       "        vertical-align: middle;\n",
       "    }\n",
       "\n",
       "    .dataframe tbody tr th {\n",
       "        vertical-align: top;\n",
       "    }\n",
       "\n",
       "    .dataframe thead th {\n",
       "        text-align: right;\n",
       "    }\n",
       "</style>\n",
       "<table border=\"1\" class=\"dataframe\">\n",
       "  <thead>\n",
       "    <tr style=\"text-align: right;\">\n",
       "      <th></th>\n",
       "      <th>Nazwisko</th>\n",
       "      <th>wynagrodzenie</th>\n",
       "      <th>stanowisko</th>\n",
       "      <th>dzial</th>\n",
       "    </tr>\n",
       "  </thead>\n",
       "  <tbody>\n",
       "    <tr>\n",
       "      <th>0</th>\n",
       "      <td>Bochenek Elżbieta</td>\n",
       "      <td>2295.66</td>\n",
       "      <td>szwaczka</td>\n",
       "      <td>produkcja</td>\n",
       "    </tr>\n",
       "    <tr>\n",
       "      <th>1</th>\n",
       "      <td>Czarnecka Mirosława</td>\n",
       "      <td>1906.05</td>\n",
       "      <td>szwaczka</td>\n",
       "      <td>produkcja</td>\n",
       "    </tr>\n",
       "    <tr>\n",
       "      <th>2</th>\n",
       "      <td>Gozdan Hanna</td>\n",
       "      <td>2295.66</td>\n",
       "      <td>sekretarka</td>\n",
       "      <td>biuro</td>\n",
       "    </tr>\n",
       "    <tr>\n",
       "      <th>3</th>\n",
       "      <td>Grzeszkiewicz Bożena</td>\n",
       "      <td>2602.25</td>\n",
       "      <td>sprzedawca</td>\n",
       "      <td>biuro</td>\n",
       "    </tr>\n",
       "    <tr>\n",
       "      <th>4</th>\n",
       "      <td>Jędrzejewska Grażyna</td>\n",
       "      <td>2240.78</td>\n",
       "      <td>szwaczka</td>\n",
       "      <td>produkcja</td>\n",
       "    </tr>\n",
       "    <tr>\n",
       "      <th>5</th>\n",
       "      <td>Kaźmierczak Dorota</td>\n",
       "      <td>735.70</td>\n",
       "      <td>szwaczka</td>\n",
       "      <td>produkcja</td>\n",
       "    </tr>\n",
       "    <tr>\n",
       "      <th>6</th>\n",
       "      <td>Kłosińska Agnieszka</td>\n",
       "      <td>2446.23</td>\n",
       "      <td>krojcza</td>\n",
       "      <td>produkcja</td>\n",
       "    </tr>\n",
       "    <tr>\n",
       "      <th>7</th>\n",
       "      <td>Malik Iwona</td>\n",
       "      <td>2446.23</td>\n",
       "      <td>krojcza</td>\n",
       "      <td>produkcja</td>\n",
       "    </tr>\n",
       "    <tr>\n",
       "      <th>8</th>\n",
       "      <td>Małkiewicz Helena</td>\n",
       "      <td>1427.90</td>\n",
       "      <td>krawcowa</td>\n",
       "      <td>produkcja</td>\n",
       "    </tr>\n",
       "    <tr>\n",
       "      <th>9</th>\n",
       "      <td>Matuszewska Monika</td>\n",
       "      <td>1660.03</td>\n",
       "      <td>krawcowa</td>\n",
       "      <td>produkcja</td>\n",
       "    </tr>\n",
       "    <tr>\n",
       "      <th>10</th>\n",
       "      <td>Nowosielska Teresa</td>\n",
       "      <td>2528.30</td>\n",
       "      <td>krawcowa</td>\n",
       "      <td>produkcja</td>\n",
       "    </tr>\n",
       "    <tr>\n",
       "      <th>11</th>\n",
       "      <td>Nowosielski Tymoteusz</td>\n",
       "      <td>1768.79</td>\n",
       "      <td>mechanik</td>\n",
       "      <td>warsztat</td>\n",
       "    </tr>\n",
       "    <tr>\n",
       "      <th>12</th>\n",
       "      <td>Olewnik Danuta</td>\n",
       "      <td>941.24</td>\n",
       "      <td>krawcowa</td>\n",
       "      <td>produkcja</td>\n",
       "    </tr>\n",
       "    <tr>\n",
       "      <th>13</th>\n",
       "      <td>Ostrowska Ewa</td>\n",
       "      <td>2086.78</td>\n",
       "      <td>szwaczka</td>\n",
       "      <td>produkcja</td>\n",
       "    </tr>\n",
       "    <tr>\n",
       "      <th>14</th>\n",
       "      <td>Puławska Cecylia</td>\n",
       "      <td>2261.32</td>\n",
       "      <td>szwaczka</td>\n",
       "      <td>produkcja</td>\n",
       "    </tr>\n",
       "    <tr>\n",
       "      <th>15</th>\n",
       "      <td>Rojek Małgorzata</td>\n",
       "      <td>3203.21</td>\n",
       "      <td>krawcowa</td>\n",
       "      <td>produkcja</td>\n",
       "    </tr>\n",
       "    <tr>\n",
       "      <th>16</th>\n",
       "      <td>Romańska Hanna</td>\n",
       "      <td>2295.66</td>\n",
       "      <td>krojcza</td>\n",
       "      <td>produkcja</td>\n",
       "    </tr>\n",
       "    <tr>\n",
       "      <th>17</th>\n",
       "      <td>Rzeczkowska Teresa</td>\n",
       "      <td>2446.23</td>\n",
       "      <td>szwaczka</td>\n",
       "      <td>produkcja</td>\n",
       "    </tr>\n",
       "    <tr>\n",
       "      <th>18</th>\n",
       "      <td>Rzemek Jadwiga</td>\n",
       "      <td>1584.58</td>\n",
       "      <td>krawcowa</td>\n",
       "      <td>produkcja</td>\n",
       "    </tr>\n",
       "    <tr>\n",
       "      <th>19</th>\n",
       "      <td>Siczek Danuta</td>\n",
       "      <td>2824.36</td>\n",
       "      <td>krawcowa</td>\n",
       "      <td>produkcja</td>\n",
       "    </tr>\n",
       "    <tr>\n",
       "      <th>20</th>\n",
       "      <td>Świadkowska Beata</td>\n",
       "      <td>2496.26</td>\n",
       "      <td>krojcza</td>\n",
       "      <td>produkcja</td>\n",
       "    </tr>\n",
       "    <tr>\n",
       "      <th>21</th>\n",
       "      <td>Świadkowski Artur</td>\n",
       "      <td>2399.92</td>\n",
       "      <td>mechanik</td>\n",
       "      <td>warsztat</td>\n",
       "    </tr>\n",
       "    <tr>\n",
       "      <th>22</th>\n",
       "      <td>Tomporek Beata</td>\n",
       "      <td>5371.00</td>\n",
       "      <td>szwaczka</td>\n",
       "      <td>produkcja</td>\n",
       "    </tr>\n",
       "    <tr>\n",
       "      <th>23</th>\n",
       "      <td>Zalewska Agnieszka</td>\n",
       "      <td>5855.70</td>\n",
       "      <td>sprzedawca</td>\n",
       "      <td>biuro</td>\n",
       "    </tr>\n",
       "    <tr>\n",
       "      <th>24</th>\n",
       "      <td>Lucyna Nowakowska</td>\n",
       "      <td>5600.00</td>\n",
       "      <td>sprzedawca</td>\n",
       "      <td>promocja</td>\n",
       "    </tr>\n",
       "    <tr>\n",
       "      <th>25</th>\n",
       "      <td>Maciejewski Zbigniew</td>\n",
       "      <td>5600.00</td>\n",
       "      <td>mechanik</td>\n",
       "      <td>warsztat</td>\n",
       "    </tr>\n",
       "  </tbody>\n",
       "</table>\n",
       "</div>"
      ],
      "text/plain": [
       "                 Nazwisko  wynagrodzenie  stanowisko      dzial\n",
       "0       Bochenek Elżbieta        2295.66    szwaczka  produkcja\n",
       "1     Czarnecka Mirosława        1906.05    szwaczka  produkcja\n",
       "2            Gozdan Hanna        2295.66  sekretarka      biuro\n",
       "3    Grzeszkiewicz Bożena        2602.25  sprzedawca      biuro\n",
       "4    Jędrzejewska Grażyna        2240.78    szwaczka  produkcja\n",
       "5      Kaźmierczak Dorota         735.70    szwaczka  produkcja\n",
       "6     Kłosińska Agnieszka        2446.23     krojcza  produkcja\n",
       "7             Malik Iwona        2446.23     krojcza  produkcja\n",
       "8       Małkiewicz Helena        1427.90    krawcowa  produkcja\n",
       "9      Matuszewska Monika        1660.03    krawcowa  produkcja\n",
       "10     Nowosielska Teresa        2528.30    krawcowa  produkcja\n",
       "11  Nowosielski Tymoteusz        1768.79    mechanik   warsztat\n",
       "12         Olewnik Danuta         941.24    krawcowa  produkcja\n",
       "13          Ostrowska Ewa        2086.78    szwaczka  produkcja\n",
       "14       Puławska Cecylia        2261.32    szwaczka  produkcja\n",
       "15       Rojek Małgorzata        3203.21    krawcowa  produkcja\n",
       "16         Romańska Hanna        2295.66     krojcza  produkcja\n",
       "17     Rzeczkowska Teresa        2446.23    szwaczka  produkcja\n",
       "18         Rzemek Jadwiga        1584.58    krawcowa  produkcja\n",
       "19          Siczek Danuta        2824.36    krawcowa  produkcja\n",
       "20      Świadkowska Beata        2496.26     krojcza  produkcja\n",
       "21      Świadkowski Artur        2399.92    mechanik   warsztat\n",
       "22         Tomporek Beata        5371.00    szwaczka  produkcja\n",
       "23     Zalewska Agnieszka        5855.70  sprzedawca      biuro\n",
       "24      Lucyna Nowakowska        5600.00  sprzedawca   promocja\n",
       "25   Maciejewski Zbigniew        5600.00    mechanik   warsztat"
      ]
     },
     "execution_count": 18,
     "metadata": {},
     "output_type": "execute_result"
    }
   ],
   "source": [
    "dd"
   ]
  },
  {
   "cell_type": "code",
   "execution_count": 21,
   "id": "20e5be71",
   "metadata": {},
   "outputs": [
    {
     "data": {
      "text/html": [
       "<div>\n",
       "<style scoped>\n",
       "    .dataframe tbody tr th:only-of-type {\n",
       "        vertical-align: middle;\n",
       "    }\n",
       "\n",
       "    .dataframe tbody tr th {\n",
       "        vertical-align: top;\n",
       "    }\n",
       "\n",
       "    .dataframe thead th {\n",
       "        text-align: right;\n",
       "    }\n",
       "</style>\n",
       "<table border=\"1\" class=\"dataframe\">\n",
       "  <thead>\n",
       "    <tr style=\"text-align: right;\">\n",
       "      <th></th>\n",
       "      <th>wynagrodzenie</th>\n",
       "    </tr>\n",
       "    <tr>\n",
       "      <th>stanowisko</th>\n",
       "      <th></th>\n",
       "    </tr>\n",
       "  </thead>\n",
       "  <tbody>\n",
       "    <tr>\n",
       "      <th>sekretarka</th>\n",
       "      <td>2295.66</td>\n",
       "    </tr>\n",
       "    <tr>\n",
       "      <th>krojcza</th>\n",
       "      <td>9684.38</td>\n",
       "    </tr>\n",
       "    <tr>\n",
       "      <th>mechanik</th>\n",
       "      <td>9768.71</td>\n",
       "    </tr>\n",
       "    <tr>\n",
       "      <th>sprzedawca</th>\n",
       "      <td>14057.95</td>\n",
       "    </tr>\n",
       "    <tr>\n",
       "      <th>krawcowa</th>\n",
       "      <td>14169.62</td>\n",
       "    </tr>\n",
       "    <tr>\n",
       "      <th>szwaczka</th>\n",
       "      <td>19343.52</td>\n",
       "    </tr>\n",
       "  </tbody>\n",
       "</table>\n",
       "</div>"
      ],
      "text/plain": [
       "            wynagrodzenie\n",
       "stanowisko               \n",
       "sekretarka        2295.66\n",
       "krojcza           9684.38\n",
       "mechanik          9768.71\n",
       "sprzedawca       14057.95\n",
       "krawcowa         14169.62\n",
       "szwaczka         19343.52"
      ]
     },
     "execution_count": 21,
     "metadata": {},
     "output_type": "execute_result"
    }
   ],
   "source": [
    "dd.groupby(dd['stanowisko']).sum().sort_values(by = 'wynagrodzenie')"
   ]
  },
  {
   "cell_type": "code",
   "execution_count": null,
   "id": "b10384a5",
   "metadata": {},
   "outputs": [],
   "source": []
  }
 ],
 "metadata": {
  "kernelspec": {
   "display_name": "Python 3 (ipykernel)",
   "language": "python",
   "name": "python3"
  },
  "language_info": {
   "codemirror_mode": {
    "name": "ipython",
    "version": 3
   },
   "file_extension": ".py",
   "mimetype": "text/x-python",
   "name": "python",
   "nbconvert_exporter": "python",
   "pygments_lexer": "ipython3",
   "version": "3.7.12"
  }
 },
 "nbformat": 4,
 "nbformat_minor": 5
}
