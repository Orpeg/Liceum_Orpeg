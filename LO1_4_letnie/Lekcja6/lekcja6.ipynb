{
 "cells": [
  {
   "cell_type": "markdown",
   "metadata": {},
   "source": [
    "## Pętla for oraz zakres range\n"
   ]
  },
  {
   "cell_type": "code",
   "execution_count": 5,
   "metadata": {},
   "outputs": [
    {
     "name": "stdout",
     "output_type": "stream",
     "text": [
      "obieg pętli nr   1\n",
      "obieg pętli nr   2\n",
      "obieg pętli nr   3\n",
      "obieg pętli nr   4\n"
     ]
    }
   ],
   "source": [
    "# zakres range\n",
    "for i in range(1,11):\n",
    "    if (i == 5):\n",
    "        break\n",
    "    print(\"obieg pętli nr  \", i)"
   ]
  },
  {
   "cell_type": "code",
   "execution_count": 9,
   "metadata": {},
   "outputs": [
    {
     "name": "stdout",
     "output_type": "stream",
     "text": [
      "obieg pętli i =  1\n",
      "obieg pętli i =  2\n",
      "obieg pętli i =  3\n",
      "obieg pętli i =  4\n",
      "obieg pętli i =  5\n"
     ]
    }
   ],
   "source": [
    "i = 0\n",
    "while (i <= 10):\n",
    "    i+=1\n",
    "    print(\"obieg pętli i = \", i)\n",
    "    if (i == 5):\n",
    "        break"
   ]
  },
  {
   "cell_type": "code",
   "execution_count": 10,
   "metadata": {},
   "outputs": [
    {
     "name": "stdout",
     "output_type": "stream",
     "text": [
      "podaj liczbę parzystą\n",
      "liczba a =3\n",
      "podałeś liczbę nieparzystą\n",
      "spróbuj jeszcze raz5\n",
      "podałeś liczbę nieparzystą\n",
      "spróbuj jeszcze raz4\n",
      "podałeś liczbę a =  4\n"
     ]
    }
   ],
   "source": [
    "print(\"podaj liczbę parzystą\")\n",
    "a = int(input(\"liczba a =\"))\n",
    "while (a%2 != 0):\n",
    "    print(\"podałeś liczbę nieparzystą\")\n",
    "    a = int(input(\"spróbuj jeszcze raz\"))\n",
    "print(\"podałeś liczbę a = \", a)"
   ]
  },
  {
   "cell_type": "code",
   "execution_count": 11,
   "metadata": {},
   "outputs": [
    {
     "name": "stdout",
     "output_type": "stream",
     "text": [
      "[1, 2, 3, 4, 5, 6]\n"
     ]
    }
   ],
   "source": [
    "list = [1,2,3,4,5,6]\n",
    "print(list)"
   ]
  },
  {
   "cell_type": "code",
   "execution_count": 13,
   "metadata": {},
   "outputs": [
    {
     "name": "stdout",
     "output_type": "stream",
     "text": [
      "1, 2, 3, 4, 5, 6, "
     ]
    }
   ],
   "source": [
    "for e in list:\n",
    "    print(e, end=\", \")"
   ]
  },
  {
   "cell_type": "code",
   "execution_count": 14,
   "metadata": {},
   "outputs": [
    {
     "name": "stdout",
     "output_type": "stream",
     "text": [
      "21\n"
     ]
    }
   ],
   "source": [
    "suma = 0\n",
    "for e in list:\n",
    "    suma+=e\n",
    "print(suma)"
   ]
  },
  {
   "cell_type": "markdown",
   "metadata": {},
   "source": [
    "**napisz program, który poprosi o dowolne 3 liczy, które reprezentują długości boków i sprawdzi czy z tych bokow da się utworzyć trojkąt**"
   ]
  },
  {
   "cell_type": "code",
   "execution_count": 18,
   "metadata": {},
   "outputs": [
    {
     "name": "stdout",
     "output_type": "stream",
     "text": [
      "podaj dowone długości boków a, b, c\n",
      "a =  3\n",
      "b = 4\n",
      "c = 15\n",
      "pdałeś a =  3  b=  4  , c =  15\n"
     ]
    }
   ],
   "source": [
    "print('podaj dowone długości boków a, b, c')\n",
    "a = int(input(\"a =  \"))\n",
    "b = int(input (\"b = \"))\n",
    "c = int(input(\"c = \"))\n",
    "print(\"pdałeś a = \",a, \" b= \", b , \" , c = \", c)"
   ]
  },
  {
   "cell_type": "code",
   "execution_count": 20,
   "metadata": {},
   "outputs": [
    {
     "name": "stdout",
     "output_type": "stream",
     "text": [
      "z podanych długości boków nie da się utworzyć trójkąta\n"
     ]
    }
   ],
   "source": [
    "if (a+b>c and a+c>b and b+c > a):\n",
    "    print(\"z podanych dlugości boków da się utworzyć trojkąt\")\n",
    "else:\n",
    "    print(\"z podanych długości boków nie da się utworzyć trójkąta\")"
   ]
  },
  {
   "cell_type": "code",
   "execution_count": 23,
   "metadata": {},
   "outputs": [
    {
     "name": "stdout",
     "output_type": "stream",
     "text": [
      "dlugość  6\n"
     ]
    }
   ],
   "source": [
    "a = len(list)\n",
    "print(\"dlugość \", a)"
   ]
  },
  {
   "cell_type": "code",
   "execution_count": 21,
   "metadata": {},
   "outputs": [
    {
     "name": "stdout",
     "output_type": "stream",
     "text": [
      "[1, 2, 3, 4, 5, 6]\n"
     ]
    }
   ],
   "source": [
    "print(list)"
   ]
  },
  {
   "cell_type": "code",
   "execution_count": 22,
   "metadata": {},
   "outputs": [
    {
     "name": "stdout",
     "output_type": "stream",
     "text": [
      "6\n"
     ]
    }
   ],
   "source": [
    "print(len(list))"
   ]
  },
  {
   "cell_type": "code",
   "execution_count": null,
   "metadata": {},
   "outputs": [],
   "source": []
  }
 ],
 "metadata": {
  "kernelspec": {
   "display_name": "Python 3",
   "language": "python",
   "name": "python3"
  },
  "language_info": {
   "codemirror_mode": {
    "name": "ipython",
    "version": 3
   },
   "file_extension": ".py",
   "mimetype": "text/x-python",
   "name": "python",
   "nbconvert_exporter": "python",
   "pygments_lexer": "ipython3",
   "version": "3.7.3"
  }
 },
 "nbformat": 4,
 "nbformat_minor": 2
}
