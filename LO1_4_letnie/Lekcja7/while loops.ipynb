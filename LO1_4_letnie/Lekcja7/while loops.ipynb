{
 "cells": [
  {
   "cell_type": "code",
   "execution_count": 12,
   "metadata": {},
   "outputs": [
    {
     "name": "stdout",
     "output_type": "stream",
     "text": [
      "45\n"
     ]
    }
   ],
   "source": [
    "total = 0\n",
    "for i in range(1,10):\n",
    "    total += i\n",
    "print(total)"
   ]
  },
  {
   "cell_type": "code",
   "execution_count": 13,
   "metadata": {},
   "outputs": [
    {
     "name": "stdout",
     "output_type": "stream",
     "text": [
      "45\n"
     ]
    }
   ],
   "source": [
    "total1 = 0\n",
    "j=1\n",
    "while j < 10:\n",
    "    total1 += j\n",
    "    j += 1\n",
    "print(total1)"
   ]
  },
  {
   "cell_type": "code",
   "execution_count": 14,
   "metadata": {},
   "outputs": [
    {
     "name": "stdout",
     "output_type": "stream",
     "text": [
      "[5, 4, 4, 3, 1, -2, -3, -5]\n"
     ]
    }
   ],
   "source": [
    "list = [5,4,4,3,1,-2,-3,-5]\n",
    "print(list)"
   ]
  },
  {
   "cell_type": "code",
   "execution_count": 15,
   "metadata": {},
   "outputs": [
    {
     "name": "stdout",
     "output_type": "stream",
     "text": [
      "17\n"
     ]
    }
   ],
   "source": [
    "toatl2 = 0\n",
    "k = 0\n",
    "while list[k]>0:\n",
    "    toatl2 += list[k]\n",
    "    k += 1\n",
    "print(toatl2)"
   ]
  },
  {
   "cell_type": "code",
   "execution_count": 16,
   "metadata": {},
   "outputs": [
    {
     "name": "stdout",
     "output_type": "stream",
     "text": [
      "1\n",
      "2\n",
      "koniec\n"
     ]
    }
   ],
   "source": [
    "for i in range(1,10):\n",
    "    if i == 3:\n",
    "        break\n",
    "    print(i)\n",
    "print('koniec')\n",
    "        "
   ]
  },
  {
   "cell_type": "code",
   "execution_count": 17,
   "metadata": {},
   "outputs": [
    {
     "name": "stdout",
     "output_type": "stream",
     "text": [
      "kolejna pętla\n",
      "kolejna pętla\n",
      "kolejna pętla\n",
      "kolejna pętla\n"
     ]
    }
   ],
   "source": [
    "for i in range(1,5):\n",
    "    print('kolejna pętla')"
   ]
  },
  {
   "cell_type": "code",
   "execution_count": 18,
   "metadata": {},
   "outputs": [
    {
     "name": "stdout",
     "output_type": "stream",
     "text": [
      "kolejna pętla\n",
      "kolejna pętla\n"
     ]
    }
   ],
   "source": [
    "j = 1\n",
    "while j < 7:\n",
    "    print('kolejna pętla')\n",
    "    j += 1\n",
    "    if j == 3:\n",
    "        break"
   ]
  },
  {
   "cell_type": "code",
   "execution_count": 1,
   "metadata": {},
   "outputs": [
    {
     "name": "stdout",
     "output_type": "stream",
     "text": [
      "[1, 2, 3, 4, 5, 6]\n"
     ]
    }
   ],
   "source": [
    "lst = list(range(1,7))\n",
    "print(lst)"
   ]
  },
  {
   "cell_type": "code",
   "execution_count": 3,
   "metadata": {},
   "outputs": [
    {
     "name": "stdout",
     "output_type": "stream",
     "text": [
      "5150\n"
     ]
    }
   ],
   "source": [
    "total = 0\n",
    "for i in range(1,101):\n",
    "    total += i+1\n",
    "print(total)"
   ]
  },
  {
   "cell_type": "code",
   "execution_count": 3,
   "metadata": {},
   "outputs": [
    {
     "name": "stdout",
     "output_type": "stream",
     "text": [
      "[1, 0.5, 0.25, 0.125, 0.0625, 0.03125, 0.015625, 0.0078125, 0.00390625, 0.001953125]\n"
     ]
    }
   ],
   "source": [
    "n = 0\n",
    "lst = [1]\n",
    "while n < 9:\n",
    "    m = lst[n]/2\n",
    "    lst.append(m)\n",
    "    n += 1\n",
    "print(lst)\n",
    "    "
   ]
  },
  {
   "cell_type": "code",
   "execution_count": 1,
   "metadata": {},
   "outputs": [
    {
     "name": "stdout",
     "output_type": "stream",
     "text": [
      "[-3, -2, -1, 0, 1, 2, 3, 4, 5, 6, 7, 8, 9]\n"
     ]
    }
   ],
   "source": [
    "lt = list(range(-3,10))\n",
    "print(lt)"
   ]
  },
  {
   "cell_type": "code",
   "execution_count": 2,
   "metadata": {},
   "outputs": [
    {
     "name": "stdout",
     "output_type": "stream",
     "text": [
      "-6\n"
     ]
    }
   ],
   "source": [
    "tot = 0\n",
    "for i in range(0,len(lt)):\n",
    "    if lt[i] < 0:\n",
    "        tot += lt[i]\n",
    "print(tot)"
   ]
  },
  {
   "cell_type": "code",
   "execution_count": 6,
   "metadata": {},
   "outputs": [
    {
     "name": "stdout",
     "output_type": "stream",
     "text": [
      "-3, -2, -1, 0, 1, \n",
      "-5\n"
     ]
    }
   ],
   "source": [
    "tot1 = 0\n",
    "j = 0\n",
    "while j < len(lt):\n",
    "    tot1 += lt[j]\n",
    "    print(lt[j],end=', ')\n",
    "    if lt[j] > 0:\n",
    "        print('')\n",
    "        break\n",
    "    j += 1\n",
    "print(tot1)"
   ]
  },
  {
   "cell_type": "code",
   "execution_count": 5,
   "metadata": {},
   "outputs": [
    {
     "name": "stdout",
     "output_type": "stream",
     "text": [
      "[-9, -7, -5, -4, -3, -2, -1, 3, 4, 5, 6, 9, 10]\n"
     ]
    }
   ],
   "source": [
    "lst = [-9, -7, -5, -4, -3, -2, -1, 3, 4, 5, 6, 9, 10 ]\n",
    "print(lst) "
   ]
  },
  {
   "cell_type": "code",
   "execution_count": 9,
   "metadata": {},
   "outputs": [
    {
     "name": "stdout",
     "output_type": "stream",
     "text": [
      "37\n"
     ]
    }
   ],
   "source": [
    "suma = 0\n",
    "j = len(lst)-1\n",
    "while lst[j] > 0 and j >= 0:\n",
    "    suma += lst[j]\n",
    "    j -= 1\n",
    "print(suma)\n",
    "    "
   ]
  },
  {
   "cell_type": "code",
   "execution_count": 11,
   "metadata": {},
   "outputs": [
    {
     "name": "stdout",
     "output_type": "stream",
     "text": [
      "-31\n"
     ]
    }
   ],
   "source": [
    "suma = 0\n",
    "j = 0\n",
    "while True:\n",
    "    suma += lst[j]\n",
    "    j += 1\n",
    "    if lst[j] > 0:\n",
    "        break\n",
    "print(suma)"
   ]
  },
  {
   "cell_type": "code",
   "execution_count": 12,
   "metadata": {},
   "outputs": [
    {
     "name": "stdout",
     "output_type": "stream",
     "text": [
      "10\n"
     ]
    }
   ],
   "source": [
    "print(max(lst))"
   ]
  },
  {
   "cell_type": "code",
   "execution_count": 13,
   "metadata": {},
   "outputs": [
    {
     "name": "stdout",
     "output_type": "stream",
     "text": [
      "-9\n"
     ]
    }
   ],
   "source": [
    "print(min(lst))"
   ]
  },
  {
   "cell_type": "code",
   "execution_count": 21,
   "metadata": {},
   "outputs": [
    {
     "name": "stdout",
     "output_type": "stream",
     "text": [
      "[-10, -9, -8, -7, -6, -5, -4, -3, -2, -1, 0, 1, 2, 3, 4, 5, 6, 7, 8, 9]\n"
     ]
    }
   ],
   "source": [
    "lsts = list(range(-10, 10))\n",
    "print(lsts)"
   ]
  },
  {
   "cell_type": "code",
   "execution_count": 27,
   "metadata": {},
   "outputs": [
    {
     "name": "stdout",
     "output_type": "stream",
     "text": [
      "-9, -6, -3, "
     ]
    }
   ],
   "source": [
    "j = 0\n",
    "while j < len(lsts) and lsts[j] < 0:\n",
    "        if abs(lsts[j]) % 3 == 0:\n",
    "            print(lsts[j], end=', ')\n",
    "        j += 1"
   ]
  },
  {
   "cell_type": "code",
   "execution_count": null,
   "metadata": {
    "collapsed": true
   },
   "outputs": [],
   "source": []
  },
  {
   "cell_type": "code",
   "execution_count": 30,
   "metadata": {},
   "outputs": [
    {
     "name": "stdout",
     "output_type": "stream",
     "text": [
      "34\n"
     ]
    }
   ],
   "source": [
    "d = {}\n",
    "d[\"Jacek\"] = 18\n",
    "d[\"Jurek\"] = 16\n",
    "d[\"Ania\"] = 16\n",
    "d[\"Gosia\"] = 12\n",
    "print(d[\"Jurek\"]+d[\"Jacek\"])"
   ]
  },
  {
   "cell_type": "code",
   "execution_count": 31,
   "metadata": {},
   "outputs": [
    {
     "name": "stdout",
     "output_type": "stream",
     "text": [
      "28\n"
     ]
    }
   ],
   "source": [
    "print(d[\"Ania\"]+d[\"Gosia\"])"
   ]
  },
  {
   "cell_type": "code",
   "execution_count": 32,
   "metadata": {},
   "outputs": [
    {
     "name": "stdout",
     "output_type": "stream",
     "text": [
      "{'Jacek': 18, 'Jurek': 16, 'Ania': 16, 'Gosia': 12}\n"
     ]
    }
   ],
   "source": [
    "print(d)"
   ]
  },
  {
   "cell_type": "code",
   "execution_count": 3,
   "metadata": {},
   "outputs": [
    {
     "name": "stdout",
     "output_type": "stream",
     "text": [
      "Dobry wieczór\n",
      "Dobry wieczór\n",
      "Dobry wieczór\n"
     ]
    }
   ],
   "source": [
    "for i in range(3):\n",
    "    print(\"Dobry wieczór\")"
   ]
  },
  {
   "cell_type": "code",
   "execution_count": 5,
   "metadata": {},
   "outputs": [
    {
     "name": "stdout",
     "output_type": "stream",
     "text": [
      "45\n"
     ]
    }
   ],
   "source": [
    "sum = 0\n",
    "for k in range(10):\n",
    "    sum += k\n",
    "print(sum)"
   ]
  },
  {
   "cell_type": "code",
   "execution_count": 12,
   "metadata": {},
   "outputs": [
    {
     "name": "stdout",
     "output_type": "stream",
     "text": [
      "0, 21, 42, 63, 84, "
     ]
    }
   ],
   "source": [
    "for n in range(100):\n",
    "    if n % 3 == 0 and n % 7 == 0:\n",
    "        print(n,end=', ')"
   ]
  },
  {
   "cell_type": "code",
   "execution_count": 13,
   "metadata": {},
   "outputs": [
    {
     "name": "stdout",
     "output_type": "stream",
     "text": [
      "1, 8, 64, 512, "
     ]
    }
   ],
   "source": [
    "j = 0\n",
    "while j < 10:\n",
    "    if j % 3 == 0:\n",
    "        print(2**j,end=', ')\n",
    "    j += 1"
   ]
  },
  {
   "cell_type": "code",
   "execution_count": 26,
   "metadata": {},
   "outputs": [
    {
     "name": "stdout",
     "output_type": "stream",
     "text": [
      "bęc, "
     ]
    }
   ],
   "source": [
    "for n in range(1, 100):\n",
    "    if n % 7 == 0:\n",
    "        print('bęc', end=', ')\n",
    "        break\n",
    "        \n",
    "                "
   ]
  },
  {
   "cell_type": "code",
   "execution_count": null,
   "metadata": {
    "collapsed": true
   },
   "outputs": [],
   "source": []
  }
 ],
 "metadata": {
  "kernelspec": {
   "display_name": "Python 3",
   "language": "python",
   "name": "python3"
  },
  "language_info": {
   "codemirror_mode": {
    "name": "ipython",
    "version": 3
   },
   "file_extension": ".py",
   "mimetype": "text/x-python",
   "name": "python",
   "nbconvert_exporter": "python",
   "pygments_lexer": "ipython3",
   "version": "3.6.4"
  }
 },
 "nbformat": 4,
 "nbformat_minor": 2
}
