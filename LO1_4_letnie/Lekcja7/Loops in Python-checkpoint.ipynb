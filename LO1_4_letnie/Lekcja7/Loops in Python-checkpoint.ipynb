{
 "cells": [
  {
   "cell_type": "code",
   "execution_count": 1,
   "metadata": {},
   "outputs": [],
   "source": [
    "a = [\"banana\",\"apple\", \"microsoft\"]"
   ]
  },
  {
   "cell_type": "code",
   "execution_count": 2,
   "metadata": {},
   "outputs": [
    {
     "name": "stdout",
     "output_type": "stream",
     "text": [
      "['banana', 'apple', 'microsoft']\n"
     ]
    }
   ],
   "source": [
    "print(a)"
   ]
  },
  {
   "cell_type": "code",
   "execution_count": 3,
   "metadata": {},
   "outputs": [
    {
     "name": "stdout",
     "output_type": "stream",
     "text": [
      "banana\n",
      "apple\n",
      "microsoft\n"
     ]
    }
   ],
   "source": [
    "for element in a:\n",
    "    print(element)"
   ]
  },
  {
   "cell_type": "code",
   "execution_count": 4,
   "metadata": {},
   "outputs": [
    {
     "name": "stdout",
     "output_type": "stream",
     "text": [
      "1\n",
      "2\n",
      "3\n",
      "5\n",
      "10\n",
      "11\n"
     ]
    }
   ],
   "source": [
    "b = [1,2,3,5,10,11]\n",
    "for e in b:\n",
    "    print(e)"
   ]
  },
  {
   "cell_type": "code",
   "execution_count": 6,
   "metadata": {},
   "outputs": [
    {
     "name": "stdout",
     "output_type": "stream",
     "text": [
      "2\n",
      "3\n",
      "4\n",
      "5\n",
      "6\n",
      "7\n",
      "8\n",
      "9\n",
      "44\n"
     ]
    }
   ],
   "source": [
    "total = 0\n",
    "for i in range (2,10):\n",
    "    total += i\n",
    "    print (i)\n",
    "print (total)"
   ]
  },
  {
   "cell_type": "code",
   "execution_count": 14,
   "metadata": {},
   "outputs": [
    {
     "name": "stdout",
     "output_type": "stream",
     "text": [
      "15 , 30 , 45 , 60 , 75 , 90 , "
     ]
    }
   ],
   "source": [
    "#znaleźć wszystkie liczby podzielne przez 3 i 5 mniejsze niż 100\n",
    "for i in range(1,101):\n",
    "    if i%3 == 0 and i%5 == 0:\n",
    "        print (i,end=\" , \")"
   ]
  },
  {
   "cell_type": "code",
   "execution_count": 19,
   "metadata": {},
   "outputs": [
    {
     "name": "stdout",
     "output_type": "stream",
     "text": [
      "Podaj pierwszy wyraz :1\n",
      "Podaj ostatni wyraz :20\n",
      "Podaj krok szeregu arytmetycznego :1\n",
      "Suma powinna wg wzoru wynosić 210.0\n",
      "210\n"
     ]
    }
   ],
   "source": [
    "#ciąg arytmetyczny suma\n",
    "x = int(input(\"Podaj pierwszy wyraz :\"))\n",
    "y = int(input(\"Podaj ostatni wyraz :\"))\n",
    "r = int(input(\"Podaj krok szeregu arytmetycznego :\"))\n",
    "n = (y-x)/r+1\n",
    "#sprawdzenie\n",
    "print (\"Suma powinna wg wzoru wynosić\",n*(y+x)/2)\n",
    "total = 0\n",
    "for i in range(x,y+1):\n",
    "    total +=i\n",
    "print (total)"
   ]
  },
  {
   "cell_type": "code",
   "execution_count": 2,
   "metadata": {},
   "outputs": [
    {
     "name": "stdout",
     "output_type": "stream",
     "text": [
      "2.0\n"
     ]
    }
   ],
   "source": [
    "print (16**.25)"
   ]
  },
  {
   "cell_type": "code",
   "execution_count": null,
   "metadata": {},
   "outputs": [],
   "source": []
  }
 ],
 "metadata": {
  "kernelspec": {
   "display_name": "Python 3",
   "language": "python",
   "name": "python3"
  },
  "language_info": {
   "codemirror_mode": {
    "name": "ipython",
    "version": 3
   },
   "file_extension": ".py",
   "mimetype": "text/x-python",
   "name": "python",
   "nbconvert_exporter": "python",
   "pygments_lexer": "ipython3",
   "version": "3.6.4"
  }
 },
 "nbformat": 4,
 "nbformat_minor": 2
}
