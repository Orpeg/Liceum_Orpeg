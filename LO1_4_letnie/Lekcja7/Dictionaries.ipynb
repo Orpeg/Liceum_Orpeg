{
 "cells": [
  {
   "cell_type": "code",
   "execution_count": 1,
   "metadata": {},
   "outputs": [
    {
     "name": "stdout",
     "output_type": "stream",
     "text": [
      "obieg pętli nr  1\n",
      "obieg pętli nr  2\n",
      "obieg pętli nr  3\n",
      "obieg pętli nr  4\n",
      "obieg pętli nr  5\n",
      "obieg pętli nr  6\n",
      "obieg pętli nr  7\n",
      "obieg pętli nr  8\n",
      "obieg pętli nr  9\n",
      "obieg pętli nr  10\n"
     ]
    }
   ],
   "source": [
    "for i in range(1,11):\n",
    "    print(\"obieg pętli nr \", i)"
   ]
  },
  {
   "cell_type": "code",
   "execution_count": 5,
   "metadata": {},
   "outputs": [
    {
     "name": "stdout",
     "output_type": "stream",
     "text": [
      "obieg pętli nr  0\n",
      "obieg pętli nr  1\n",
      "obieg pętli nr  2\n",
      "obieg pętli nr  3\n",
      "obieg pętli nr  4\n",
      "obieg pętli nr  5\n"
     ]
    }
   ],
   "source": [
    "for i in range(6):\n",
    "    print(\"obieg pętli nr \", i)"
   ]
  },
  {
   "cell_type": "code",
   "execution_count": 6,
   "metadata": {},
   "outputs": [
    {
     "name": "stdout",
     "output_type": "stream",
     "text": [
      "obig pętli nr  1\n",
      "obig pętli nr  2\n",
      "obig pętli nr  3\n",
      "obig pętli nr  4\n",
      "obig pętli nr  5\n",
      "obig pętli nr  6\n",
      "obig pętli nr  7\n",
      "obig pętli nr  8\n",
      "obig pętli nr  9\n",
      "obig pętli nr  10\n"
     ]
    }
   ],
   "source": [
    "#pętla while\n",
    "j = 1\n",
    "while j <= 10:\n",
    "    print(\"obig pętli nr \", j)\n",
    "    j += 1"
   ]
  },
  {
   "cell_type": "code",
   "execution_count": 8,
   "metadata": {},
   "outputs": [
    {
     "name": "stdout",
     "output_type": "stream",
     "text": [
      "obieg pętli nr  1\n",
      "obieg pętli nr  2\n",
      "obieg pętli nr  3\n",
      "obieg pętli nr  4\n",
      "obieg pętli nr  5\n",
      "obieg pętli nr  6\n",
      "obieg pętli nr  7\n",
      "obieg pętli nr  8\n",
      "obieg pętli nr  9\n"
     ]
    }
   ],
   "source": [
    "#pętla while dla 1000\n",
    "j = 1\n",
    "while j < 100:\n",
    "    print(\"obieg pętli nr \", j)\n",
    "    if j == 9:\n",
    "        break #przerwanie pęli komendą break\n",
    "    j += 1"
   ]
  },
  {
   "cell_type": "code",
   "execution_count": 9,
   "metadata": {},
   "outputs": [
    {
     "name": "stdout",
     "output_type": "stream",
     "text": [
      "9\n"
     ]
    }
   ],
   "source": [
    "print(j)"
   ]
  },
  {
   "cell_type": "code",
   "execution_count": 13,
   "metadata": {},
   "outputs": [
    {
     "name": "stdout",
     "output_type": "stream",
     "text": [
      "obieg pętli nr  1\n",
      "obieg pętli nr  2\n",
      "obieg pętli nr  3\n",
      "obieg pętli nr  4\n",
      "obieg pętli nr  5\n",
      "obieg pętli nr  6\n",
      "obieg pętli nr  7\n",
      "obieg pętli nr  8\n",
      "obieg pętli nr  9\n",
      "koniec obiegu pętli for\n",
      "9\n"
     ]
    }
   ],
   "source": [
    "#break w pętli for\n",
    "for i in range(1,20):\n",
    "    print(\"obieg pętli nr \", i)\n",
    "    if i == 9:\n",
    "        break\n",
    "print(\"koniec obiegu pętli for\")\n",
    "print(i)"
   ]
  },
  {
   "cell_type": "code",
   "execution_count": 17,
   "metadata": {},
   "outputs": [
    {
     "name": "stdout",
     "output_type": "stream",
     "text": [
      "podaj liczbę całkowitą dodatnią, która jest parzysta i mniejsza od 20\n",
      "podaj tę liczbę 100\n",
      "błędna liczba \n",
      "spróbuj jeszcze raz 50\n",
      "błędna liczba \n",
      "spróbuj jeszcze raz 3\n",
      "błędna liczba \n",
      "spróbuj jeszcze raz 4\n",
      "podałeś liczbę prawidłową x =  4\n"
     ]
    }
   ],
   "source": [
    "# pętla nieskonczona\n",
    "print(\"podaj liczbę całkowitą dodatnią, która jest parzysta i mniejsza od 20\")\n",
    "x = int(input(\"podaj tę liczbę \"))\n",
    "while (x%2 != 0 or x >= 20):\n",
    "    print(\"błędna liczba \")\n",
    "    x = int(input(\"spróbuj jeszcze raz \"))\n",
    "print(\"podałeś liczbę prawidłową x = \", x)"
   ]
  },
  {
   "cell_type": "code",
   "execution_count": 7,
   "metadata": {},
   "outputs": [
    {
     "name": "stdout",
     "output_type": "stream",
     "text": [
      "koniec obiegu pętli for\n"
     ]
    }
   ],
   "source": [
    "#break w pętli for\n",
    "for i in range(20):\n",
    "    if i % 5 == 0:\n",
    "        break\n",
    "    print(i, \". obiegu pętli\")\n",
    "print(\"koniec obiegu pętli for\")"
   ]
  },
  {
   "cell_type": "code",
   "execution_count": 24,
   "metadata": {},
   "outputs": [
    {
     "name": "stdout",
     "output_type": "stream",
     "text": [
      "[-3, -2, -1, 0, 1, 2, 3, 4, 5, 6, 7, 8, 9]\n",
      "-3\n",
      "-2\n",
      "-1\n",
      "0\n",
      "1\n",
      "2\n",
      "3\n",
      "4\n",
      "5\n",
      "6\n",
      "7\n",
      "8\n",
      "9\n",
      "długość listy lt =  13\n"
     ]
    }
   ],
   "source": [
    "#Dana jest lista lt = [-3, -2, -1, 0, 1, 2, 3, 4, 5, 6, 7, 8, 9]\n",
    "lt = [-3, -2, -1, 0, 1, 2, 3, 4, 5, 6, 7, 8, 9]\n",
    "print(lt)\n",
    "# drukowanie listy w pęli\n",
    "for e in lt:\n",
    "    print(e)\n",
    "print(\"długość listy lt = \", len(lt))#len od słowa length"
   ]
  },
  {
   "cell_type": "code",
   "execution_count": 25,
   "metadata": {},
   "outputs": [
    {
     "name": "stdout",
     "output_type": "stream",
     "text": [
      "[-3, -2, -1, 0, 1, 2, 3, 4, 5, 6, 7, 8, 9, 15]\n"
     ]
    }
   ],
   "source": [
    "lt.append(15)\n",
    "print(lt)"
   ]
  },
  {
   "cell_type": "code",
   "execution_count": 26,
   "metadata": {},
   "outputs": [
    {
     "name": "stdout",
     "output_type": "stream",
     "text": [
      "[-3, -2, -1, 0, 1, 2, 3, 4, 5, 6, 7, 8, 9]\n"
     ]
    }
   ],
   "source": [
    "lt.pop()\n",
    "print(lt)"
   ]
  },
  {
   "cell_type": "code",
   "execution_count": 19,
   "metadata": {},
   "outputs": [
    {
     "name": "stdout",
     "output_type": "stream",
     "text": [
      "suma składników wynosi suma = 45\n"
     ]
    }
   ],
   "source": [
    "# Suma wszystkich elementów listy wykorzystując instrukcję len\n",
    "lt = [-4, -3, -2, -1, 0, 1, 2, 3, 4, 5, 6, 7, 8, 9, 10]\n",
    "suma = 0\n",
    "for i in range(len(lt)):\n",
    "    suma += lt[i]\n",
    "print(\"suma składników wynosi suma =\", suma)"
   ]
  },
  {
   "cell_type": "code",
   "execution_count": 20,
   "metadata": {},
   "outputs": [
    {
     "name": "stdout",
     "output_type": "stream",
     "text": [
      "-10\n"
     ]
    }
   ],
   "source": [
    "#suma tylko składników ujemnych\n",
    "suma_minus = 0\n",
    "for i in range(len(lt)):\n",
    "    if lt[i] < 0:\n",
    "        suma_minus += lt[i]\n",
    "print(suma_minus)"
   ]
  },
  {
   "cell_type": "code",
   "execution_count": 4,
   "metadata": {},
   "outputs": [
    {
     "name": "stdout",
     "output_type": "stream",
     "text": [
      "Suma ujemnych składników =  -10\n"
     ]
    }
   ],
   "source": [
    "#drugi sposób z pętlą while\n",
    "suma_minus = 0\n",
    "j = 0\n",
    "while j < len(lt):\n",
    "    if lt[j] < 0:\n",
    "        suma_minus += lt[j]\n",
    "    j += 1\n",
    "print(\"Suma ujemnych składników = \", suma_minus)"
   ]
  },
  {
   "cell_type": "code",
   "execution_count": 6,
   "metadata": {},
   "outputs": [
    {
     "name": "stdout",
     "output_type": "stream",
     "text": [
      "suma ujemnych składników wynosi   -10\n"
     ]
    }
   ],
   "source": [
    "#Jezeli lista jest uporządkowana od ujemnych do dodatnich\n",
    "suma_minus = 0\n",
    "j = 0\n",
    "while j < len(lt):\n",
    "    if lt[j] >= 0:\n",
    "        break\n",
    "    suma_minus += lt[j]\n",
    "    j += 1\n",
    "print(\"suma ujemnych składników wynosi  \", suma_minus)"
   ]
  },
  {
   "cell_type": "code",
   "execution_count": 9,
   "metadata": {},
   "outputs": [
    {
     "name": "stdout",
     "output_type": "stream",
     "text": [
      "suma dodatnich składników wynosi  55\n"
     ]
    }
   ],
   "source": [
    "#Lista uporządkowana przechodzimy od dodatnich do ujemnych\n",
    "j = len(lt) -1\n",
    "suma_dodatnich = 0\n",
    "while j >= 0:\n",
    "    if lt[j] <= 0:\n",
    "        break\n",
    "    suma_dodatnich += lt[j]\n",
    "    j -= 1\n",
    "print(\"suma dodatnich składników wynosi \", suma_dodatnich)"
   ]
  },
  {
   "cell_type": "code",
   "execution_count": 27,
   "metadata": {},
   "outputs": [
    {
     "name": "stdout",
     "output_type": "stream",
     "text": [
      "{'Jacek': 18, 'Jurek': 16, 'Ania': 16, 'Gosia': 12}\n"
     ]
    }
   ],
   "source": [
    "#dictionaries\n",
    "d = {'Jacek': 18, 'Jurek': 16, 'Ania': 16,'Gosia': 12}\n",
    "print(d)"
   ]
  },
  {
   "cell_type": "code",
   "execution_count": 28,
   "metadata": {},
   "outputs": [
    {
     "name": "stdout",
     "output_type": "stream",
     "text": [
      "16\n"
     ]
    }
   ],
   "source": [
    "print(d[\"Ania\"])"
   ]
  },
  {
   "cell_type": "code",
   "execution_count": 29,
   "metadata": {},
   "outputs": [
    {
     "name": "stdout",
     "output_type": "stream",
     "text": [
      "Suma lat dziewczyn = 28\n",
      "Suma lat chłopaków = 34\n"
     ]
    }
   ],
   "source": [
    "#Sumujemy wiek dziewczyn\n",
    "suma_dziewczyn = d[\"Ania\"]+d[\"Gosia\"]\n",
    "#Sumujemy wiek chłopaków\n",
    "suma_chłopakow = d[\"Jacek\"]+d[\"Jurek\"]\n",
    "print(\"Suma lat dziewczyn =\", suma_dziewczyn)\n",
    "print(\"Suma lat chłopaków =\", suma_chłopakow)"
   ]
  },
  {
   "cell_type": "code",
   "execution_count": null,
   "metadata": {
    "collapsed": true
   },
   "outputs": [],
   "source": []
  }
 ],
 "metadata": {
  "kernelspec": {
   "display_name": "Python 3",
   "language": "python",
   "name": "python3"
  },
  "language_info": {
   "codemirror_mode": {
    "name": "ipython",
    "version": 3
   },
   "file_extension": ".py",
   "mimetype": "text/x-python",
   "name": "python",
   "nbconvert_exporter": "python",
   "pygments_lexer": "ipython3",
   "version": "3.7.3"
  }
 },
 "nbformat": 4,
 "nbformat_minor": 2
}
