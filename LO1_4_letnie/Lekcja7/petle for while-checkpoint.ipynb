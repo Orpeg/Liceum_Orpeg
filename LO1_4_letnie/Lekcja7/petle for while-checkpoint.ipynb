{
 "cells": [
  {
   "cell_type": "code",
   "execution_count": 1,
   "metadata": {
    "scrolled": true
   },
   "outputs": [
    {
     "name": "stdout",
     "output_type": "stream",
     "text": [
      "1 . obieg pętli\n",
      "2 . obieg pętli\n",
      "3 . obieg pętli\n",
      "4 . obieg pętli\n",
      "5 . obieg pętli\n",
      "6 . obieg pętli\n",
      "7 . obieg pętli\n",
      "8 . obieg pętli\n",
      "9 . obieg pętli\n"
     ]
    }
   ],
   "source": [
    "for i in range(1,10):\n",
    "    print(i, \". obieg pętli\")"
   ]
  },
  {
   "cell_type": "code",
   "execution_count": 2,
   "metadata": {},
   "outputs": [
    {
     "name": "stdout",
     "output_type": "stream",
     "text": [
      "0 . obieg pętli\n",
      "1 . obieg pętli\n",
      "2 . obieg pętli\n",
      "3 . obieg pętli\n",
      "4 . obieg pętli\n"
     ]
    }
   ],
   "source": [
    "for i in range(5):\n",
    "    print(i, \". obieg pętli\")"
   ]
  },
  {
   "cell_type": "code",
   "execution_count": 3,
   "metadata": {},
   "outputs": [
    {
     "name": "stdout",
     "output_type": "stream",
     "text": [
      "1 . obieg pętli\n",
      "2 . obieg pętli\n",
      "3 . obieg pętli\n",
      "4 . obieg pętli\n",
      "5 . obieg pętli\n",
      "6 . obieg pętli\n",
      "7 . obieg pętli\n",
      "8 . obieg pętli\n",
      "9 . obieg pętli\n"
     ]
    }
   ],
   "source": [
    "j=1\n",
    "while j<10:\n",
    "    print(j, \". obieg pętli\")\n",
    "    j += 1"
   ]
  },
  {
   "cell_type": "code",
   "execution_count": 4,
   "metadata": {},
   "outputs": [
    {
     "name": "stdout",
     "output_type": "stream",
     "text": [
      "1 . obieg pętli\n",
      "2 . obieg pętli\n",
      "3 . obieg pętli\n",
      "4 . obieg pętli\n",
      "5 . obieg pętli\n",
      "6 . obieg pętli\n",
      "7 . obieg pętli\n"
     ]
    }
   ],
   "source": [
    "j=1\n",
    "while j<1000:\n",
    "    print(j, \". obieg pętli\")\n",
    "    if j%7 == 0:\n",
    "        break\n",
    "    j += 1"
   ]
  },
  {
   "cell_type": "code",
   "execution_count": 8,
   "metadata": {},
   "outputs": [
    {
     "name": "stdout",
     "output_type": "stream",
     "text": [
      "1 . obieg pętli\n",
      "2 . obieg pętli\n",
      "3 . obieg pętli\n",
      "4 . obieg pętli\n",
      "5 . obieg pętli\n",
      "6 . obieg pętli\n",
      "koniec obiegu pętli\n"
     ]
    }
   ],
   "source": [
    "#break w pętli for\n",
    "for i in range(1,20):\n",
    "    if i%7 == 0:\n",
    "        break\n",
    "    print(i, \". obieg pętli\")\n",
    "print(\"koniec obiegu pętli\")"
   ]
  },
  {
   "cell_type": "code",
   "execution_count": 9,
   "metadata": {},
   "outputs": [
    {
     "name": "stdout",
     "output_type": "stream",
     "text": [
      "Długość listy lt =  13\n"
     ]
    }
   ],
   "source": [
    "#Dana jest lista lt = [-3, -2, -1, 0, 1, 2, 3, 4, 5, 6, 7, 8, 9]\n",
    "lt = [-3, -2, -1, 0, 1, 2, 3, 4, 5, 6, 7, 8, 9]\n",
    "print(\"Długość listy lt = \",len(lt))"
   ]
  },
  {
   "cell_type": "code",
   "execution_count": 10,
   "metadata": {},
   "outputs": [
    {
     "name": "stdout",
     "output_type": "stream",
     "text": [
      "suma składników wynosi suma =  49\n"
     ]
    }
   ],
   "source": [
    "# Suma wszystkic elementów listy wykorzystując instrukcję len\n",
    "lt = [-3, -2, -1, 0, 1, 2, 3, 4, 5, 6, 7, 8, 9, 10]\n",
    "suma = 0\n",
    "for i in range(len(lt)):\n",
    "    suma += lt[i]\n",
    "print(\"suma składników wynosi suma = \", suma)\n",
    "    "
   ]
  },
  {
   "cell_type": "code",
   "execution_count": 12,
   "metadata": {},
   "outputs": [
    {
     "name": "stdout",
     "output_type": "stream",
     "text": [
      "-6\n"
     ]
    }
   ],
   "source": [
    "#suma tylko składników ujemnych\n",
    "#sposób w pętlą for\n",
    "suma_minus = 0\n",
    "for i in range(len(lt)):\n",
    "    if lt[i] < 0:\n",
    "        suma_minus += lt[i]\n",
    "print(suma_minus)"
   ]
  },
  {
   "cell_type": "code",
   "execution_count": 14,
   "metadata": {},
   "outputs": [
    {
     "name": "stdout",
     "output_type": "stream",
     "text": [
      "suma ujemnych składników suma_minus = -6\n"
     ]
    }
   ],
   "source": [
    "#Drugi sposób z instrukcją break i pętlą while\n",
    "suma_minus = 0\n",
    "j = 0\n",
    "while j < len(lt):\n",
    "    if lt[j] >= 0:\n",
    "        break #przerywamy, gdy napotkamy pierwszy nieujemny składnik\n",
    "    suma_minus += lt[j]\n",
    "    j += 1\n",
    "print(\"suma ujemnych składników suma_minus =\", suma_minus)"
   ]
  },
  {
   "cell_type": "code",
   "execution_count": 16,
   "metadata": {},
   "outputs": [
    {
     "name": "stdout",
     "output_type": "stream",
     "text": [
      "5, 10, 15, 20, 25, 30, 35, 40, 45, 50, 55, 60, 65, 70, 75, 80, 85, 90, 95, ->\n",
      "koniec listy\n",
      "ilość liczb j = 19\n"
     ]
    }
   ],
   "source": [
    "#Drukowanie niektórych składników listy\n",
    "#Podzielne przez 5 i policz ile ich jest\n",
    "j = 0\n",
    "for i in range(1,100):\n",
    "    if i%5 == 0:\n",
    "        print(i,end=\", \")\n",
    "        j += 1\n",
    "print(\"->\")\n",
    "print(\"koniec listy\")\n",
    "print(\"ilość liczb j =\", j)\n"
   ]
  },
  {
   "cell_type": "code",
   "execution_count": 2,
   "metadata": {},
   "outputs": [
    {
     "name": "stdout",
     "output_type": "stream",
     "text": [
      "suma 100 składników wynosi  2.0\n"
     ]
    }
   ],
   "source": [
    "#Suma 1000 składników ciągu geometrycznego a1=1, q=0.5\n",
    "tot = 0\n",
    "a1 = 1\n",
    "q = 0.5\n",
    "for i in range(1,101):\n",
    "    tot += a1\n",
    "    a1 *= q\n",
    "print(\"suma 100 składników wynosi \", tot)"
   ]
  },
  {
   "cell_type": "code",
   "execution_count": 1,
   "metadata": {},
   "outputs": [
    {
     "name": "stdout",
     "output_type": "stream",
     "text": [
      "{'Jacek': 18, 'Jurek': 16, 'Ania': 16, 'Gosia': 12}\n"
     ]
    }
   ],
   "source": [
    "d = {'Jacek': 18, 'Jurek': 16, 'Ania': 16,'Gosia': 12}\n",
    "print(d)"
   ]
  },
  {
   "cell_type": "code",
   "execution_count": 2,
   "metadata": {},
   "outputs": [
    {
     "name": "stdout",
     "output_type": "stream",
     "text": [
      "16\n"
     ]
    }
   ],
   "source": [
    "print(d[\"Ania\"])"
   ]
  },
  {
   "cell_type": "code",
   "execution_count": 3,
   "metadata": {},
   "outputs": [
    {
     "name": "stdout",
     "output_type": "stream",
     "text": [
      "Suma lat dziewczyn = 28\n",
      "Suma lat chłopaków = 34\n"
     ]
    }
   ],
   "source": [
    "#Sumujemy wiek dziewczyn\n",
    "suma_dziewczyn = d[\"Ania\"]+d[\"Gosia\"]\n",
    "#Sumujemy wiek chłopaków\n",
    "suma_chłopakow = d[\"Jacek\"]+d[\"Jurek\"]\n",
    "print(\"Suma lat dziewczyn =\", suma_dziewczyn)\n",
    "print(\"Suma lat chłopaków =\", suma_chłopakow)"
   ]
  },
  {
   "cell_type": "code",
   "execution_count": 1,
   "metadata": {},
   "outputs": [
    {
     "name": "stdout",
     "output_type": "stream",
     "text": [
      "do widzenia\n"
     ]
    }
   ],
   "source": [
    "#Ile razy wydrukuje się napis \"do widzenia\"?\n",
    "j = 1\n",
    "while j < 10:\n",
    "    if j % 2 == 0:\n",
    "        break\n",
    "    print(\"do widzenia\")\n",
    "    j += 1"
   ]
  },
  {
   "cell_type": "code",
   "execution_count": null,
   "metadata": {
    "collapsed": true
   },
   "outputs": [],
   "source": []
  }
 ],
 "metadata": {
  "kernelspec": {
   "display_name": "Python 3",
   "language": "python",
   "name": "python3"
  },
  "language_info": {
   "codemirror_mode": {
    "name": "ipython",
    "version": 3
   },
   "file_extension": ".py",
   "mimetype": "text/x-python",
   "name": "python",
   "nbconvert_exporter": "python",
   "pygments_lexer": "ipython3",
   "version": "3.6.3"
  }
 },
 "nbformat": 4,
 "nbformat_minor": 2
}
