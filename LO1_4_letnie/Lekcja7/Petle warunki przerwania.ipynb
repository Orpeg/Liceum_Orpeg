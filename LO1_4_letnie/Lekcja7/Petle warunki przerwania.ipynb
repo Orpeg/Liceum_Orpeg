{
 "cells": [
  {
   "cell_type": "code",
   "execution_count": 1,
   "metadata": {},
   "outputs": [
    {
     "name": "stdout",
     "output_type": "stream",
     "text": [
      "jeden jest mniejsze od dwóch\n"
     ]
    }
   ],
   "source": [
    "#warunek w Pythonie\n",
    "if 1<2:\n",
    "    print(\"jeden jest mniejsze od dwóch\")"
   ]
  },
  {
   "cell_type": "code",
   "execution_count": 4,
   "metadata": {},
   "outputs": [
    {
     "name": "stdout",
     "output_type": "stream",
     "text": [
      "podaj pierwszą liczbę a=   50\n",
      "podaj drugą liczbę b=   20\n",
      "zmienna a jest większa od zmiennej b\n"
     ]
    }
   ],
   "source": [
    "#przykład warunku liczonego na zmiennych\n",
    "a = int(input(\"podaj pierwszą liczbę a=   \"))\n",
    "b=  int(input(\"podaj drugą liczbę b=   \"))\n",
    "if a<b:\n",
    "    print(\"zmienna a jest mniejsza od zmiennej b\")\n",
    "else:\n",
    "    if a==b:\n",
    "        print(\"zmienne a i b są równe\")\n",
    "    else:\n",
    "        print(\"zmienna a jest większa od zmiennej b\")"
   ]
  },
  {
   "cell_type": "code",
   "execution_count": 7,
   "metadata": {},
   "outputs": [
    {
     "name": "stdout",
     "output_type": "stream",
     "text": [
      "0 . obieg pętli\n",
      "1 . obieg pętli\n",
      "2 . obieg pętli\n",
      "3 . obieg pętli\n",
      "4 . obieg pętli\n",
      "5 . obieg pętli\n",
      "6 . obieg pętli\n",
      "7 . obieg pętli\n",
      "8 . obieg pętli\n",
      "9 . obieg pętli\n"
     ]
    }
   ],
   "source": [
    "for i in range(10):\n",
    "    print(i, \". obieg pętli\")"
   ]
  },
  {
   "cell_type": "code",
   "execution_count": 8,
   "metadata": {},
   "outputs": [
    {
     "name": "stdout",
     "output_type": "stream",
     "text": [
      "[-3, -2, -1, 0, 1, 2, 3, 4, 5, 6, 7, 8, 9, 10]\n"
     ]
    }
   ],
   "source": [
    "#listy\n",
    "lt = [-3, -2, -1, 0, 1, 2, 3, 4, 5, 6, 7, 8, 9, 10]\n",
    "print(lt)"
   ]
  },
  {
   "cell_type": "code",
   "execution_count": 9,
   "metadata": {},
   "outputs": [
    {
     "name": "stdout",
     "output_type": "stream",
     "text": [
      "-3\n",
      "-2\n",
      "-1\n",
      "0\n",
      "1\n",
      "2\n",
      "3\n",
      "4\n",
      "5\n",
      "6\n",
      "7\n",
      "8\n",
      "9\n",
      "10\n"
     ]
    }
   ],
   "source": [
    "for e in lt:\n",
    "    print(e)"
   ]
  },
  {
   "cell_type": "code",
   "execution_count": 11,
   "metadata": {},
   "outputs": [
    {
     "name": "stdout",
     "output_type": "stream",
     "text": [
      "-3, -2, -1, 0, 1, 2, 3, 4, 5, 6, 7, 8, 9, 10, "
     ]
    }
   ],
   "source": [
    "for e in lt:\n",
    "    print(e, end=\", \")"
   ]
  },
  {
   "cell_type": "code",
   "execution_count": 12,
   "metadata": {},
   "outputs": [
    {
     "name": "stdout",
     "output_type": "stream",
     "text": [
      "suma składników ujemnych wynosi suma_minus=   -6\n"
     ]
    }
   ],
   "source": [
    "#suma tylko składników ujemnych\n",
    "suma_minus=0\n",
    "for i in range(len(lt)):\n",
    "    if lt[i]<0:\n",
    "        suma_minus += lt[i]\n",
    "print(\"suma składników ujemnych wynosi suma_minus=  \", suma_minus)"
   ]
  },
  {
   "cell_type": "code",
   "execution_count": 18,
   "metadata": {},
   "outputs": [
    {
     "name": "stdout",
     "output_type": "stream",
     "text": [
      "1 . obieg pętli\n",
      "2 . obieg pętli\n"
     ]
    }
   ],
   "source": [
    "#instrukcja break\n",
    "for i in range (1, 100):\n",
    "    if i%3 == 0:\n",
    "        break\n",
    "    print(i, \". obieg pętli\")"
   ]
  },
  {
   "cell_type": "code",
   "execution_count": null,
   "metadata": {},
   "outputs": [],
   "source": []
  }
 ],
 "metadata": {
  "kernelspec": {
   "display_name": "Python 3",
   "language": "python",
   "name": "python3"
  },
  "language_info": {
   "codemirror_mode": {
    "name": "ipython",
    "version": 3
   },
   "file_extension": ".py",
   "mimetype": "text/x-python",
   "name": "python",
   "nbconvert_exporter": "python",
   "pygments_lexer": "ipython3",
   "version": "3.6.4"
  }
 },
 "nbformat": 4,
 "nbformat_minor": 2
}
