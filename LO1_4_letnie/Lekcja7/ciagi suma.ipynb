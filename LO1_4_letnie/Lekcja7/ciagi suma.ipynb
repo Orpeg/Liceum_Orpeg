{
 "cells": [
  {
   "cell_type": "markdown",
   "metadata": {},
   "source": [
    "**zadanie 1**\n",
    "\n",
    "Dany jest ciąg okreslony wzorem an=(n-1)(n-8)/(n+1). Obliczyć sumę 100 pierwszych wyrazów tego ciągu\n"
   ]
  },
  {
   "cell_type": "code",
   "execution_count": 7,
   "metadata": {},
   "outputs": [
    {
     "data": {
      "text/plain": [
       "-2.0"
      ]
     },
     "execution_count": 7,
     "metadata": {},
     "output_type": "execute_result"
    }
   ],
   "source": [
    "def value(n):\n",
    "#     if (n == 1):\n",
    "#         print('n nie może być równe 1')\n",
    "    return (n-1)*(n-8)/(n+1)\n",
    "    #n musi być różne od 1\n",
    "value(5)"
   ]
  },
  {
   "cell_type": "code",
   "execution_count": 8,
   "metadata": {},
   "outputs": [
    {
     "name": "stdout",
     "output_type": "stream",
     "text": [
      "suma wyrazów wynosi suma =  4125.551013139295\n"
     ]
    }
   ],
   "source": [
    "suma = 0\n",
    "for i in range (1,101):\n",
    "    suma += value(i)\n",
    "print (\"suma wyrazów wynosi suma = \", suma)"
   ]
  },
  {
   "cell_type": "code",
   "execution_count": null,
   "metadata": {},
   "outputs": [],
   "source": []
  }
 ],
 "metadata": {
  "kernelspec": {
   "display_name": "Python 3",
   "language": "python",
   "name": "python3"
  }
 },
 "nbformat": 4,
 "nbformat_minor": 2
}
