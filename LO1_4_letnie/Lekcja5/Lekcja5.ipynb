{
 "cells": [
  {
   "cell_type": "markdown",
   "metadata": {},
   "source": [
    "# pierwszy program w Pythonie #\n",
    "** zmiene i warunki logiczne **"
   ]
  },
  {
   "cell_type": "markdown",
   "metadata": {},
   "source": [
    "**liczymy jak na kalkulatorze**"
   ]
  },
  {
   "cell_type": "code",
   "execution_count": 18,
   "metadata": {},
   "outputs": [
    {
     "data": {
      "text/plain": [
       "4"
      ]
     },
     "execution_count": 18,
     "metadata": {},
     "output_type": "execute_result"
    }
   ],
   "source": [
    "2+2"
   ]
  },
  {
   "cell_type": "markdown",
   "metadata": {},
   "source": [
    "**zmienne liczbowe**"
   ]
  },
  {
   "cell_type": "code",
   "execution_count": 19,
   "metadata": {},
   "outputs": [
    {
     "name": "stdout",
     "output_type": "stream",
     "text": [
      "suma wynosi suma = a + b =  9\n",
      "iloczyn wynosi a*b =  14\n"
     ]
    }
   ],
   "source": [
    "a = 2\n",
    "b = 7\n",
    "print('suma wynosi suma = a + b = ',a+b)\n",
    "print('iloczyn wynosi a*b = ',a*b)"
   ]
  },
  {
   "cell_type": "code",
   "execution_count": 20,
   "metadata": {},
   "outputs": [
    {
     "name": "stdout",
     "output_type": "stream",
     "text": [
      "a =  2\n",
      "b =  7\n"
     ]
    }
   ],
   "source": [
    "print('a = ', a)\n",
    "print('b = ', b)"
   ]
  },
  {
   "cell_type": "markdown",
   "metadata": {},
   "source": [
    "**warunki if oraz while**"
   ]
  },
  {
   "cell_type": "code",
   "execution_count": 21,
   "metadata": {},
   "outputs": [
    {
     "name": "stdout",
     "output_type": "stream",
     "text": [
      "podaj y  10\n",
      "podaj x  5\n",
      "y jest podzielne przez x\n"
     ]
    }
   ],
   "source": [
    "y = int (input('podaj y  '))\n",
    "x = int(input('podaj x  '))\n",
    "while(x == 0):\n",
    "    print('x nie może być zerem, zacznij od poczatku ')\n",
    "    x = int(input('podaj wartosc rozną od zera  '))\n",
    "if (y%x == 0):\n",
    "    print('y jest podzielne przez x')\n",
    "else:\n",
    "    print('y nie jest podzielne przez x')"
   ]
  },
  {
   "cell_type": "code",
   "execution_count": null,
   "metadata": {},
   "outputs": [],
   "source": []
  }
 ],
 "metadata": {
  "kernelspec": {
   "display_name": "Python 3",
   "language": "python",
   "name": "python3"
  },
  "language_info": {
   "codemirror_mode": {
    "name": "ipython",
    "version": 3
   },
   "file_extension": ".py",
   "mimetype": "text/x-python",
   "name": "python",
   "nbconvert_exporter": "python",
   "pygments_lexer": "ipython3",
   "version": "3.7.3"
  }
 },
 "nbformat": 4,
 "nbformat_minor": 2
}
