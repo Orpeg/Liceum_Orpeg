{
 "cells": [
  {
   "cell_type": "code",
   "execution_count": 1,
   "metadata": {},
   "outputs": [
    {
     "name": "stdout",
     "output_type": "stream",
     "text": [
      "97 65\n"
     ]
    }
   ],
   "source": [
    "print(ord('a'), ord('A'))"
   ]
  },
  {
   "cell_type": "code",
   "execution_count": 2,
   "metadata": {},
   "outputs": [
    {
     "name": "stdout",
     "output_type": "stream",
     "text": [
      "80 79 76 83 75 65 "
     ]
    }
   ],
   "source": [
    "napis = 'POLSKA'\n",
    "for e in napis:\n",
    "    print(ord(e), end=' ')"
   ]
  },
  {
   "cell_type": "code",
   "execution_count": 3,
   "metadata": {},
   "outputs": [
    {
     "name": "stdout",
     "output_type": "stream",
     "text": [
      "W\n"
     ]
    }
   ],
   "source": [
    "print(chr(87))"
   ]
  },
  {
   "cell_type": "code",
   "execution_count": 4,
   "metadata": {},
   "outputs": [
    {
     "name": "stdout",
     "output_type": "stream",
     "text": [
      "z w y c i e z y m y "
     ]
    }
   ],
   "source": [
    "list=[122,119,121,99,105,101,122,121,109,121]\n",
    "for e in list:\n",
    "    print(chr(e), end=' ')"
   ]
  },
  {
   "cell_type": "code",
   "execution_count": 7,
   "metadata": {},
   "outputs": [
    {
     "name": "stdout",
     "output_type": "stream",
     "text": [
      "erfldq"
     ]
    }
   ],
   "source": [
    "napis = 'bocian'\n",
    "for e in napis:\n",
    "    print(chr(ord(e)+3), end='')"
   ]
  },
  {
   "cell_type": "code",
   "execution_count": 9,
   "metadata": {},
   "outputs": [
    {
     "name": "stdout",
     "output_type": "stream",
     "text": [
      "BOG HOR OJCZYZNA"
     ]
    }
   ],
   "source": [
    "lista = [69,82,74,35,75,82,85,35,82,77,70,93,92,93,81,68]\n",
    "for e in lista:\n",
    "    print(chr(e-3),end='')"
   ]
  },
  {
   "cell_type": "code",
   "execution_count": 10,
   "metadata": {},
   "outputs": [
    {
     "name": "stdout",
     "output_type": "stream",
     "text": [
      "5.0\n"
     ]
    }
   ],
   "source": [
    "H = 20\n",
    "P = 10\n",
    "print(H*0.7+1 - P)"
   ]
  },
  {
   "cell_type": "code",
   "execution_count": 1,
   "metadata": {},
   "outputs": [
    {
     "name": "stdout",
     "output_type": "stream",
     "text": [
      "roznica w zuzyciui paliwa 20.0\n"
     ]
    }
   ],
   "source": [
    "# zadanie z ciezarówkami\n",
    "L = 1680\n",
    "c1 = L/12\n",
    "c2 = L/14\n",
    "print('roznica w zuzyciui paliwa', c1-c2)"
   ]
  }
 ],
 "metadata": {
  "kernelspec": {
   "display_name": "Python 3",
   "language": "python",
   "name": "python3"
  },
  "language_info": {
   "codemirror_mode": {
    "name": "ipython",
    "version": 3
   },
   "file_extension": ".py",
   "mimetype": "text/x-python",
   "name": "python",
   "nbconvert_exporter": "python",
   "pygments_lexer": "ipython3",
   "version": "3.7.3"
  }
 },
 "nbformat": 4,
 "nbformat_minor": 2
}
