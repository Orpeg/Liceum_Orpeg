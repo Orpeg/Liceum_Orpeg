{
 "cells": [
  {
   "cell_type": "markdown",
   "metadata": {},
   "source": [
    "# Przetwarzanie napisów w Pythonie #"
   ]
  },
  {
   "cell_type": "markdown",
   "metadata": {},
   "source": [
    "### 1. Zmienna jako napis ###"
   ]
  },
  {
   "cell_type": "code",
   "execution_count": 1,
   "metadata": {},
   "outputs": [
    {
     "name": "stdout",
     "output_type": "stream",
     "text": [
      "orpeg"
     ]
    }
   ],
   "source": [
    "# zmienna napis jako typ łańcuchowy (string)\n",
    "napis = 'orpeg'\n",
    "for e in napis:\n",
    "    print(e, end ='')"
   ]
  },
  {
   "cell_type": "code",
   "execution_count": 2,
   "metadata": {},
   "outputs": [
    {
     "name": "stdout",
     "output_type": "stream",
     "text": [
      "o\n",
      "r\n",
      "p\n",
      "e\n",
      "g\n"
     ]
    }
   ],
   "source": [
    "for e in napis:\n",
    "    print(e)"
   ]
  },
  {
   "cell_type": "code",
   "execution_count": 3,
   "metadata": {},
   "outputs": [
    {
     "name": "stdout",
     "output_type": "stream",
     "text": [
      "naj"
     ]
    }
   ],
   "source": [
    "# pętla while do wyświetlenia framgentu łańcucha\n",
    "sel = 'kijanka'\n",
    "e=4\n",
    "while e > 1:\n",
    "    print(sel[e], end='')\n",
    "    e-=1"
   ]
  },
  {
   "cell_type": "markdown",
   "metadata": {},
   "source": [
    "**Łączenie napisów**"
   ]
  },
  {
   "cell_type": "code",
   "execution_count": 44,
   "metadata": {},
   "outputs": [
    {
     "name": "stdout",
     "output_type": "stream",
     "text": [
      "Boże Narodzenie\n"
     ]
    }
   ],
   "source": [
    "a = 'Boże'\n",
    "b = 'Narodzenie'\n",
    "print(a + ' ' +b)"
   ]
  },
  {
   "cell_type": "code",
   "execution_count": 45,
   "metadata": {},
   "outputs": [
    {
     "name": "stdout",
     "output_type": "stream",
     "text": [
      "2\n"
     ]
    }
   ],
   "source": [
    "# ilość wystąpień litery\n",
    "print(b.count('e'))"
   ]
  },
  {
   "cell_type": "markdown",
   "metadata": {},
   "source": [
    "**Wyświetlanie fragmentów**"
   ]
  },
  {
   "cell_type": "code",
   "execution_count": 47,
   "metadata": {},
   "outputs": [
    {
     "name": "stdout",
     "output_type": "stream",
     "text": [
      "Boż\n"
     ]
    }
   ],
   "source": [
    "print(a[0:3])"
   ]
  },
  {
   "cell_type": "code",
   "execution_count": 53,
   "metadata": {},
   "outputs": [
    {
     "name": "stdout",
     "output_type": "stream",
     "text": [
      "narodowe\n"
     ]
    }
   ],
   "source": [
    "str = 'ponadnarodowe'\n",
    "print(str[5:13])"
   ]
  },
  {
   "cell_type": "code",
   "execution_count": 55,
   "metadata": {},
   "outputs": [
    {
     "name": "stdout",
     "output_type": "stream",
     "text": [
      "rand\n"
     ]
    }
   ],
   "source": [
    "print(str[7:3:-1])"
   ]
  },
  {
   "cell_type": "markdown",
   "metadata": {},
   "source": [
    "**Palindrom**"
   ]
  },
  {
   "cell_type": "code",
   "execution_count": 56,
   "metadata": {},
   "outputs": [
    {
     "name": "stdout",
     "output_type": "stream",
     "text": [
      "POTOP  to jest palindrom POTOP\n"
     ]
    }
   ],
   "source": [
    "y = 'POTOP'\n",
    "print(y[::-1], ' to jest palindrom' , y)"
   ]
  },
  {
   "cell_type": "code",
   "execution_count": 58,
   "metadata": {},
   "outputs": [
    {
     "name": "stdout",
     "output_type": "stream",
     "text": [
      "zakop an emad am enapokaZ\n"
     ]
    }
   ],
   "source": [
    "x = 'Zakopane ma dame na pokaz'\n",
    "print(x[::-1])"
   ]
  },
  {
   "cell_type": "markdown",
   "metadata": {},
   "source": [
    "### 2. System kodowania znaków ASCI ###"
   ]
  },
  {
   "cell_type": "markdown",
   "metadata": {},
   "source": [
    "**Kod znaku**"
   ]
  },
  {
   "cell_type": "code",
   "execution_count": 7,
   "metadata": {},
   "outputs": [
    {
     "name": "stdout",
     "output_type": "stream",
     "text": [
      "65\n"
     ]
    }
   ],
   "source": [
    "x = 'A'\n",
    "print(ord(x))"
   ]
  },
  {
   "cell_type": "code",
   "execution_count": 8,
   "metadata": {},
   "outputs": [
    {
     "name": "stdout",
     "output_type": "stream",
     "text": [
      "97\n"
     ]
    }
   ],
   "source": [
    "print(ord('a'))"
   ]
  },
  {
   "cell_type": "code",
   "execution_count": 9,
   "metadata": {},
   "outputs": [
    {
     "name": "stdout",
     "output_type": "stream",
     "text": [
      "76 103 125 108 104 35 125 108 112 100 \n"
     ]
    }
   ],
   "source": [
    "napis = 'Idzie zima'\n",
    "for e in napis:\n",
    "    print(ord(e)+3, end= ' ')\n",
    "print()\n",
    "# print(len(napis))"
   ]
  },
  {
   "cell_type": "code",
   "execution_count": 10,
   "metadata": {},
   "outputs": [
    {
     "name": "stdout",
     "output_type": "stream",
     "text": [
      "97 65\n"
     ]
    }
   ],
   "source": [
    "print(ord('a'), ord('A'))"
   ]
  },
  {
   "cell_type": "code",
   "execution_count": 11,
   "metadata": {},
   "outputs": [
    {
     "name": "stdout",
     "output_type": "stream",
     "text": [
      "32\n"
     ]
    }
   ],
   "source": [
    "print(ord('a')-ord('A'))"
   ]
  },
  {
   "cell_type": "code",
   "execution_count": 12,
   "metadata": {},
   "outputs": [
    {
     "name": "stdout",
     "output_type": "stream",
     "text": [
      "32\n"
     ]
    }
   ],
   "source": [
    "print(ord('b') - ord('B'))"
   ]
  },
  {
   "cell_type": "markdown",
   "metadata": {},
   "source": [
    "Odległości między dużymi a małymi literami są stałe\n",
    "\n",
    "**Funkcja odwrotna**"
   ]
  },
  {
   "cell_type": "code",
   "execution_count": 13,
   "metadata": {},
   "outputs": [
    {
     "name": "stdout",
     "output_type": "stream",
     "text": [
      "A\n"
     ]
    }
   ],
   "source": [
    "print(chr(65))"
   ]
  },
  {
   "cell_type": "code",
   "execution_count": 14,
   "metadata": {},
   "outputs": [
    {
     "name": "stdout",
     "output_type": "stream",
     "text": [
      "zwyciezymy"
     ]
    }
   ],
   "source": [
    "list = [122, 119, 121, 99, 105, 101, 122, 121, 109, 121]\n",
    "for e in list:\n",
    "    print(chr(e),end='')"
   ]
  },
  {
   "cell_type": "code",
   "execution_count": 48,
   "metadata": {},
   "outputs": [
    {
     "name": "stdout",
     "output_type": "stream",
     "text": [
      "s h o l n d q "
     ]
    }
   ],
   "source": [
    "# kodowanie +3\n",
    "nap = 'pelikan'\n",
    "for e in nap:\n",
    "    print(chr(ord(e)+3), end=' ')\n"
   ]
  },
  {
   "cell_type": "code",
   "execution_count": 50,
   "metadata": {},
   "outputs": [
    {
     "name": "stdout",
     "output_type": "stream",
     "text": [
      "7 6 5 4 3 2 "
     ]
    }
   ],
   "source": [
    "for e in range(55,49, -1):\n",
    "    print(chr(e), end=' ')"
   ]
  },
  {
   "cell_type": "code",
   "execution_count": 51,
   "metadata": {},
   "outputs": [
    {
     "name": "stdout",
     "output_type": "stream",
     "text": [
      "K J I H G F "
     ]
    }
   ],
   "source": [
    "for e in range(75,69, -1):\n",
    "    print(chr(e), end=' ')"
   ]
  },
  {
   "cell_type": "code",
   "execution_count": 52,
   "metadata": {},
   "outputs": [
    {
     "name": "stdout",
     "output_type": "stream",
     "text": [
      "ason ołok aso atal\n"
     ]
    }
   ],
   "source": [
    "s = 'lata osa koło nosa'\n",
    "print(s[::-1])"
   ]
  },
  {
   "cell_type": "markdown",
   "metadata": {},
   "source": [
    "### Kod ASCI ###"
   ]
  },
  {
   "cell_type": "code",
   "execution_count": 43,
   "metadata": {},
   "outputs": [
    {
     "name": "stdout",
     "output_type": "stream",
     "text": [
      "65, 66, 67, 68, 69, 70, 71, 72, 73, 74, 75, 76, 77, 78, 79, 80, 81, 82, 83, 84, 85, 86, 87, 88, 89, 90, litery małe\n",
      "97, 98, 99, 100, 101, 102, 103, 104, 105, 106, 107, 108, 109, 110, 111, 112, 113, 114, 115, 116, 117, 118, 119, 120, 121, 122, litery duże\n",
      "49, 50, 51, 52, 53, 54, 55, 56, 57, 48, cyfry\n",
      "32 spacja\n",
      "46 kropka\n"
     ]
    }
   ],
   "source": [
    "s = 'abcdefghijklmnopqrstuvwxyz'\n",
    "cs = 'ABCDEFGHIJKLMNOPQRSTUVWXYZ'\n",
    "n = '1234567890'\n",
    "sp = ' '\n",
    "for e in cs:\n",
    "    print(ord(e), end=', ')\n",
    "print(\"litery małe\")\n",
    "for i in s:\n",
    "    print(ord(i), end=', ')\n",
    "print('litery duże')\n",
    "for j in n:\n",
    "    print(ord(j), end = ', ')\n",
    "print('cyfry')\n",
    "print(ord(' '), 'spacja')\n",
    "print(ord('.'), 'kropka')"
   ]
  },
  {
   "cell_type": "code",
   "execution_count": null,
   "metadata": {},
   "outputs": [],
   "source": []
  }
 ],
 "metadata": {
  "kernelspec": {
   "display_name": "Python 3",
   "language": "python",
   "name": "python3"
  },
  "language_info": {
   "codemirror_mode": {
    "name": "ipython",
    "version": 3
   },
   "file_extension": ".py",
   "mimetype": "text/x-python",
   "name": "python",
   "nbconvert_exporter": "python",
   "pygments_lexer": "ipython3",
   "version": "3.7.3"
  }
 },
 "nbformat": 4,
 "nbformat_minor": 2
}
