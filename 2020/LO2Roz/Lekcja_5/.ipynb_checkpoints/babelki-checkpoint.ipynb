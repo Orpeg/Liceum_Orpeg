{
 "cells": [
  {
   "cell_type": "markdown",
   "metadata": {},
   "source": [
    "## Zapis i odczyt pliku ##"
   ]
  },
  {
   "cell_type": "markdown",
   "metadata": {},
   "source": [
    "**Zadanie**\n",
    "\n",
    "Do pliku orpeg.txt zapisać 10 linii z numerem linii."
   ]
  },
  {
   "cell_type": "code",
   "execution_count": 16,
   "metadata": {},
   "outputs": [],
   "source": [
    "f= open(\"orpeg.txt\",\"w+\")\n",
    "for i in range(10):\n",
    "     f.write(\"To jest linia %d\\r\" % (i+1))\n",
    "f.close() "
   ]
  },
  {
   "cell_type": "markdown",
   "metadata": {},
   "source": [
    "**Zadanie**\n",
    "\n",
    "Do pliku wpisać 100 liczb z zakresu od 1 do 100."
   ]
  },
  {
   "cell_type": "code",
   "execution_count": 17,
   "metadata": {},
   "outputs": [],
   "source": [
    "from random import randint"
   ]
  },
  {
   "cell_type": "code",
   "execution_count": 18,
   "metadata": {},
   "outputs": [],
   "source": [
    "f = open('a.txt', 'w+')\n",
    "for i in range(100):\n",
    "    f.write('%d\\r' % randint(1,100))\n",
    "f.close()"
   ]
  },
  {
   "cell_type": "markdown",
   "metadata": {},
   "source": [
    "**Zadanie**\n",
    "\n",
    "utworzyć zbiór liczbowy nieuprządkow2any z zakresu od 1 do 20 i dokonać jego uporządkowania rosnąco metodą bąbelkową."
   ]
  },
  {
   "cell_type": "code",
   "execution_count": 48,
   "metadata": {},
   "outputs": [
    {
     "name": "stdout",
     "output_type": "stream",
     "text": [
      "[9, 20, 14, 9, 20, 14, 2, 1, 10, 10, 13, 3, 13, 14, 2, 2, 11, 18, 2, 16]\n"
     ]
    }
   ],
   "source": [
    "list = []\n",
    "for e in range(20):\n",
    "    list.append(randint(1,20))\n",
    "print(list)"
   ]
  },
  {
   "cell_type": "code",
   "execution_count": 49,
   "metadata": {},
   "outputs": [
    {
     "name": "stdout",
     "output_type": "stream",
     "text": [
      "True\n",
      "True\n",
      "True\n",
      "True\n",
      "True\n",
      "True\n",
      "True\n",
      "True\n",
      "True\n",
      "True\n",
      "True\n",
      "True\n",
      "True\n",
      "True\n",
      "True\n",
      "[1, 2, 2, 2, 2, 3, 9, 9, 10, 10, 11, 13, 13, 14, 14, 14, 16, 18, 20, 20]\n"
     ]
    }
   ],
   "source": [
    "order = True\n",
    "while order:\n",
    "    print(order)\n",
    "    order = False\n",
    "    for e in range(len(list)-1):\n",
    "        if list[e] > list[e+1]:\n",
    "            a = list[e]\n",
    "            b = list[e+1]\n",
    "            list[e+1] = a\n",
    "            list[e] = b\n",
    "            order = True\n",
    "print(list)"
   ]
  },
  {
   "cell_type": "code",
   "execution_count": 37,
   "metadata": {},
   "outputs": [
    {
     "name": "stdout",
     "output_type": "stream",
     "text": [
      "False\n"
     ]
    }
   ],
   "source": [
    "print(order)"
   ]
  },
  {
   "cell_type": "code",
   "execution_count": null,
   "metadata": {},
   "outputs": [],
   "source": []
  }
 ],
 "metadata": {
  "kernelspec": {
   "display_name": "Python 3",
   "language": "python",
   "name": "python3"
  },
  "language_info": {
   "codemirror_mode": {
    "name": "ipython",
    "version": 3
   },
   "file_extension": ".py",
   "mimetype": "text/x-python",
   "name": "python",
   "nbconvert_exporter": "python",
   "pygments_lexer": "ipython3",
   "version": "3.7.3"
  }
 },
 "nbformat": 4,
 "nbformat_minor": 2
}
