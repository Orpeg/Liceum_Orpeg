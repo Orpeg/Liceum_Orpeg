{
 "cells": [
  {
   "cell_type": "markdown",
   "metadata": {},
   "source": [
    "## Obliczenia iteracyjne i rekurencyjne ##"
   ]
  },
  {
   "cell_type": "markdown",
   "metadata": {},
   "source": [
    "**Iteracja**"
   ]
  },
  {
   "cell_type": "code",
   "execution_count": 1,
   "metadata": {},
   "outputs": [],
   "source": [
    "# wykorzystujemy pętle for"
   ]
  },
  {
   "cell_type": "code",
   "execution_count": 2,
   "metadata": {},
   "outputs": [
    {
     "name": "stdout",
     "output_type": "stream",
     "text": [
      "1, 2, 3, 4, 5, 6, 7, 8, 9, "
     ]
    }
   ],
   "source": [
    "for i in range(1,10):\n",
    "    print(i, end=', ')"
   ]
  },
  {
   "cell_type": "code",
   "execution_count": 3,
   "metadata": {},
   "outputs": [],
   "source": [
    "# pętla while"
   ]
  },
  {
   "cell_type": "code",
   "execution_count": 4,
   "metadata": {},
   "outputs": [
    {
     "name": "stdout",
     "output_type": "stream",
     "text": [
      "1, 2, 3, 4, 5, 6, 7, 8, 9, "
     ]
    }
   ],
   "source": [
    "e = 1\n",
    "while e < 10:\n",
    "    print(e, end=', ')\n",
    "    e+=1"
   ]
  },
  {
   "cell_type": "code",
   "execution_count": 6,
   "metadata": {},
   "outputs": [
    {
     "name": "stdout",
     "output_type": "stream",
     "text": [
      "Wprowadź liczbę parzystą, jeżeli wprowadzisz inną liczbę, zostaniesz poproszony ponowine\n"
     ]
    },
    {
     "name": "stdin",
     "output_type": "stream",
     "text": [
      " n =  1\n",
      "podałeś błędną liczbę, spróbuj jeszcze raz 3\n",
      "podałeś błędną liczbę, spróbuj jeszcze raz 7\n",
      "podałeś błędną liczbę, spróbuj jeszcze raz 8\n"
     ]
    },
    {
     "name": "stdout",
     "output_type": "stream",
     "text": [
      "dobrze!  podałeś liczbę parzystą n =  8\n"
     ]
    }
   ],
   "source": [
    "#pętla while nieskońdczona\n",
    "print('Wprowadź liczbę parzystą, jeżeli wprowadzisz inną liczbę, zostaniesz poproszony ponowine')\n",
    "n = int(input(' n = '))\n",
    "while n%2 != 0:\n",
    "    n = int(input('podałeś błędną liczbę, spróbuj jeszcze raz'))\n",
    "print('dobrze!  podałeś liczbę parzystą n = ', n)"
   ]
  },
  {
   "cell_type": "markdown",
   "metadata": {},
   "source": [
    "### Iteracja ###"
   ]
  },
  {
   "cell_type": "code",
   "execution_count": 9,
   "metadata": {},
   "outputs": [
    {
     "name": "stdout",
     "output_type": "stream",
     "text": [
      "suma 1000 pierwzych liczb natuaralnych wynosi suma =   \n"
     ]
    }
   ],
   "source": [
    "# Zadanie 1. Oblicz sumę 1000 pierwszych liczb naturalnych\n",
    "suma = 0\n",
    "for i in range(1, 1001):\n",
    "    suma += i\n",
    "print('suma 1000 pierwzych liczb natuaralnych wynosi suma =   ')\n",
    "    "
   ]
  },
  {
   "cell_type": "code",
   "execution_count": 21,
   "metadata": {},
   "outputs": [
    {
     "name": "stdout",
     "output_type": "stream",
     "text": [
      "suma 1000 wyrazów ciągu arytmetycznego Sn =    33.33333333333329\n"
     ]
    }
   ],
   "source": [
    "# Dany jest ciąg geometryczny a(1) = 10, q=0.7. Oblicz sumę 1000 pierwszych wyrazów metodą rekurencyjną.\n",
    "e = 1\n",
    "q = 0.7\n",
    "suma = 0\n",
    "def wyraz(n):\n",
    "    if n == 1:\n",
    "        return 10\n",
    "    return wyraz(n-1)*q\n",
    "while e <= 1000:\n",
    "    suma += wyraz(e)\n",
    "    e+=1\n",
    "print('suma 1000 wyrazów ciągu arytmetycznego Sn =   ', suma)\n",
    "    "
   ]
  },
  {
   "cell_type": "code",
   "execution_count": 19,
   "metadata": {},
   "outputs": [
    {
     "data": {
      "text/plain": [
       "33.33333333333333"
      ]
     },
     "execution_count": 19,
     "metadata": {},
     "output_type": "execute_result"
    }
   ],
   "source": [
    "# sprawdzenie\n",
    "10*(1-pow(0.7,1000))/(1-0.7)"
   ]
  },
  {
   "cell_type": "code",
   "execution_count": 20,
   "metadata": {},
   "outputs": [
    {
     "data": {
      "text/plain": [
       "8"
      ]
     },
     "execution_count": 20,
     "metadata": {},
     "output_type": "execute_result"
    }
   ],
   "source": [
    "pow(2,3)"
   ]
  },
  {
   "cell_type": "code",
   "execution_count": null,
   "metadata": {},
   "outputs": [],
   "source": []
  }
 ],
 "metadata": {
  "kernelspec": {
   "display_name": "Python 3",
   "language": "python",
   "name": "python3"
  },
  "language_info": {
   "codemirror_mode": {
    "name": "ipython",
    "version": 3
   },
   "file_extension": ".py",
   "mimetype": "text/x-python",
   "name": "python",
   "nbconvert_exporter": "python",
   "pygments_lexer": "ipython3",
   "version": "3.7.3"
  }
 },
 "nbformat": 4,
 "nbformat_minor": 2
}
