{
 "cells": [
  {
   "cell_type": "markdown",
   "metadata": {},
   "source": [
    "## Pętle ##"
   ]
  },
  {
   "cell_type": "markdown",
   "metadata": {},
   "source": [
    "**Pętla for**"
   ]
  },
  {
   "cell_type": "code",
   "execution_count": 5,
   "metadata": {},
   "outputs": [
    {
     "name": "stdout",
     "output_type": "stream",
     "text": [
      "1, 2, 3, 4, 5, 6, 7, 8, 9, "
     ]
    }
   ],
   "source": [
    "for i in range(1,10):\n",
    "    print(i, end=', ')"
   ]
  },
  {
   "cell_type": "markdown",
   "metadata": {},
   "source": [
    "**Pętla while**"
   ]
  },
  {
   "cell_type": "code",
   "execution_count": 6,
   "metadata": {},
   "outputs": [
    {
     "name": "stdout",
     "output_type": "stream",
     "text": [
      "1, 2, 3, 4, 5, 6, 7, 8, 9, "
     ]
    }
   ],
   "source": [
    "e = 1\n",
    "while e < 10:\n",
    "    print(e, end=', ')\n",
    "    e+=1"
   ]
  },
  {
   "cell_type": "markdown",
   "metadata": {},
   "source": [
    "**Obliczenia rekurencyjne**"
   ]
  },
  {
   "cell_type": "markdown",
   "metadata": {},
   "source": [
    "**Zadanie**\n",
    "\n",
    "Dany jest ciąg liczbowy opisany wzorem a(n) = (2n+1)/(n^2+1). Oblicz sumę 1000 początkowych wyrazów tego ciągu."
   ]
  },
  {
   "cell_type": "code",
   "execution_count": 1,
   "metadata": {},
   "outputs": [],
   "source": [
    "def ciag(n):\n",
    "    return (2*n+1)/(n*n +1)\n"
   ]
  },
  {
   "cell_type": "code",
   "execution_count": 2,
   "metadata": {},
   "outputs": [
    {
     "name": "stdout",
     "output_type": "stream",
     "text": [
      "suma 1000 wyrazow ciagu wynosi suma(1000) =  16.53546564121625\n"
     ]
    }
   ],
   "source": [
    "suma = 0\n",
    "for n in range(1,2501):\n",
    "    suma+=ciag(n)\n",
    "print(\"suma 1000 wyrazow ciagu wynosi suma(1000) = \", suma)"
   ]
  },
  {
   "cell_type": "code",
   "execution_count": 3,
   "metadata": {},
   "outputs": [
    {
     "name": "stdout",
     "output_type": "stream",
     "text": [
      "1.5\n",
      "1.0\n",
      "0.7\n",
      "0.5294117647058824\n",
      "0.4230769230769231\n",
      "0.35135135135135137\n",
      "0.3\n",
      "0.26153846153846155\n",
      "0.23170731707317074\n",
      "0.2079207920792079\n"
     ]
    }
   ],
   "source": [
    "# sprwdzamy 10 wyrazów tego ciągu\n",
    "for n in range(1,11):\n",
    "    print(ciag(n))"
   ]
  },
  {
   "cell_type": "code",
   "execution_count": 4,
   "metadata": {},
   "outputs": [
    {
     "name": "stdout",
     "output_type": "stream",
     "text": [
      "16.53546564121625\n"
     ]
    }
   ],
   "source": [
    "# a jak to obliczyć rekurencyjnie?\n",
    "def ciagr(n):\n",
    "    if n == 0:\n",
    "        return 1\n",
    "    if n == 1:\n",
    "        return 1.5\n",
    "    return ciagr(n-1)+(2*n+1)/(n*n+1)\n",
    "print(ciagr(2500))"
   ]
  },
  {
   "cell_type": "markdown",
   "metadata": {},
   "source": [
    "**Zadanie**\n",
    "\n",
    "Oblicz silnię silnia(n)=1 * 2 * ... * n"
   ]
  },
  {
   "cell_type": "code",
   "execution_count": 14,
   "metadata": {},
   "outputs": [
    {
     "name": "stdin",
     "output_type": "stream",
     "text": [
      "Podaj liczbę n =  10\n"
     ]
    },
    {
     "name": "stdout",
     "output_type": "stream",
     "text": [
      "silnia( 10 ) = 3628800\n"
     ]
    }
   ],
   "source": [
    "n = int(input('Podaj liczbę n = '))\n",
    "silnia=1\n",
    "for e in range(1,n+1):\n",
    "    silnia = silnia*e\n",
    "print('silnia(',n,') =',silnia)\n",
    "    "
   ]
  },
  {
   "cell_type": "code",
   "execution_count": 22,
   "metadata": {},
   "outputs": [
    {
     "name": "stdin",
     "output_type": "stream",
     "text": [
      "podaj liczbę n =  10\n"
     ]
    },
    {
     "name": "stdout",
     "output_type": "stream",
     "text": [
      "silnia( 5 ) =  3628800\n"
     ]
    }
   ],
   "source": [
    "# metoda rekurencyjna\n",
    "k = int(input(\"podaj liczbę n = \"))\n",
    "def silnia(n):\n",
    "    if n == 0:\n",
    "        return 1\n",
    "    else:\n",
    "        return silnia(n-1)*n\n",
    "print('silnia(',n,') = ', silnia(k))"
   ]
  },
  {
   "cell_type": "markdown",
   "metadata": {},
   "source": [
    "**Zadanie 3**\n",
    "\n",
    "Liczby Fibonacciego."
   ]
  },
  {
   "cell_type": "code",
   "execution_count": 4,
   "metadata": {},
   "outputs": [
    {
     "name": "stdin",
     "output_type": "stream",
     "text": [
      "Podaj liczbę całkowitą n =  40\n"
     ]
    },
    {
     "name": "stdout",
     "output_type": "stream",
     "text": [
      "102334155\n"
     ]
    }
   ],
   "source": [
    "# metoda iteracyjna\n",
    "n = int(input('Podaj liczbę całkowitą n = '))\n",
    "suma = 0\n",
    "lst = []\n",
    "for e in range(n+1):\n",
    "    if e == 0:\n",
    "        lst.append(0)\n",
    "    if e == 1:\n",
    "        lst.append(1)\n",
    "    if e > 1:\n",
    "        suma = lst[e-2]+lst[e-1] \n",
    "        lst.append(suma)\n",
    "print(lst[n])\n",
    "    "
   ]
  },
  {
   "cell_type": "code",
   "execution_count": 3,
   "metadata": {},
   "outputs": [
    {
     "name": "stdin",
     "output_type": "stream",
     "text": [
      "Podaj liczbę n = 40\n"
     ]
    },
    {
     "name": "stdout",
     "output_type": "stream",
     "text": [
      "liczba Fibonacciego dla n = 40 wynosi  102334155\n"
     ]
    }
   ],
   "source": [
    "# metoda rekurencyjna\n",
    "k = int(input('Podaj liczbę n ='))\n",
    "def fibo(n):\n",
    "    if n == 0:\n",
    "        return 0\n",
    "    if n == 1:\n",
    "        return 1\n",
    "    return fibo(n-2)+fibo(n-1)\n",
    "print('liczba Fibonacciego dla n =',k,'wynosi ',fibo(k))\n"
   ]
  },
  {
   "cell_type": "code",
   "execution_count": null,
   "metadata": {},
   "outputs": [],
   "source": []
  }
 ],
 "metadata": {
  "kernelspec": {
   "display_name": "Python 3",
   "language": "python",
   "name": "python3"
  },
  "language_info": {
   "codemirror_mode": {
    "name": "ipython",
    "version": 3
   },
   "file_extension": ".py",
   "mimetype": "text/x-python",
   "name": "python",
   "nbconvert_exporter": "python",
   "pygments_lexer": "ipython3",
   "version": "3.7.3"
  }
 },
 "nbformat": 4,
 "nbformat_minor": 2
}
