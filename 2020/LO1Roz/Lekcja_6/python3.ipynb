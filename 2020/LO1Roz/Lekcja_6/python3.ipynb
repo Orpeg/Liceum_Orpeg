{
  "nbformat": 4,
  "nbformat_minor": 0,
  "metadata": {
    "kernelspec": {
      "display_name": "Python 3",
      "language": "python",
      "name": "python3"
    },
    "language_info": {
      "codemirror_mode": {
        "name": "ipython",
        "version": 3
      },
      "file_extension": ".py",
      "mimetype": "text/x-python",
      "name": "python",
      "nbconvert_exporter": "python",
      "pygments_lexer": "ipython3",
      "version": "3.7.3"
    },
    "colab": {
      "name": "python3.ipynb",
      "provenance": []
    }
  },
  "cells": [
    {
      "cell_type": "markdown",
      "metadata": {
        "id": "TfoigsKSvMfU"
      },
      "source": [
        "## Informatyka 1 LO pr roz ##"
      ]
    },
    {
      "cell_type": "markdown",
      "metadata": {
        "id": "0Q5dlbHuvMfZ"
      },
      "source": [
        "**Program**\n",
        "\n",
        "* break w pętli for\n",
        "* break w pętli while\n",
        "* dictionaries\n",
        "* funkcje\n",
        "* selector switch"
      ]
    },
    {
      "cell_type": "code",
      "metadata": {
        "id": "vAuhMqYkvMfa",
        "outputId": "11447c4c-a5d1-4090-ee69-20c694d3c1c8"
      },
      "source": [
        "# pętla for\n",
        "for i in range(10):\n",
        "    print(i, end=', ')\n",
        "    if i == 5:\n",
        "        break"
      ],
      "execution_count": null,
      "outputs": [
        {
          "output_type": "stream",
          "text": [
            "0, 1, 2, 3, 4, 5, "
          ],
          "name": "stdout"
        }
      ]
    },
    {
      "cell_type": "code",
      "metadata": {
        "id": "HncgCuWBvMfb",
        "outputId": "d1006036-100e-43ad-e73b-22af55006fd0"
      },
      "source": [
        "for i in range(5):\n",
        "    print(i);break"
      ],
      "execution_count": null,
      "outputs": [
        {
          "output_type": "stream",
          "text": [
            "0\n"
          ],
          "name": "stdout"
        }
      ]
    },
    {
      "cell_type": "code",
      "metadata": {
        "id": "qv9xLCeQvMfc",
        "outputId": "8a22001c-4d35-41bf-dadc-9ed8e73d0f51"
      },
      "source": [
        "j = 0\n",
        "while j < 10:\n",
        "    print(j)\n",
        "    if j == 6:\n",
        "        break\n",
        "    j+=2"
      ],
      "execution_count": null,
      "outputs": [
        {
          "output_type": "stream",
          "text": [
            "0\n",
            "2\n",
            "4\n",
            "6\n"
          ],
          "name": "stdout"
        }
      ]
    },
    {
      "cell_type": "code",
      "metadata": {
        "id": "Qne1JR4ivMfc",
        "outputId": "6dce0a69-01e2-4536-c947-e59fa9fb9d57"
      },
      "source": [
        "j = 0\n",
        "while j <100:\n",
        "    print(j);break\n",
        "    j+=1"
      ],
      "execution_count": null,
      "outputs": [
        {
          "output_type": "stream",
          "text": [
            "0\n"
          ],
          "name": "stdout"
        }
      ]
    },
    {
      "cell_type": "code",
      "metadata": {
        "id": "N3a54NvovMfd",
        "outputId": "186e9f00-e290-4afd-fdb7-758e11dd4336"
      },
      "source": [
        "# dictionaries  słowniki\n",
        "d = {'Staś':14, 'Julia':12,'Adam':18, 'Kasia':14}\n",
        "print(d['Julia']+d['Kasia'])"
      ],
      "execution_count": null,
      "outputs": [
        {
          "output_type": "stream",
          "text": [
            "26\n"
          ],
          "name": "stdout"
        }
      ]
    },
    {
      "cell_type": "code",
      "metadata": {
        "id": "ljDqzj9SvMfd",
        "outputId": "a159e9ed-4a91-4efd-dc66-3ec58360b197"
      },
      "source": [
        "print(d['Staś']+ d['Adam'])"
      ],
      "execution_count": null,
      "outputs": [
        {
          "output_type": "stream",
          "text": [
            "32\n"
          ],
          "name": "stdout"
        }
      ]
    },
    {
      "cell_type": "markdown",
      "metadata": {
        "id": "POEFeSTGvMfe"
      },
      "source": [
        "**Funkcje**"
      ]
    },
    {
      "cell_type": "code",
      "metadata": {
        "id": "qJGj43gJvMfe"
      },
      "source": [
        "# funkcja bezargumentowa\n",
        "def pisanie():\n",
        "    print('*********************')"
      ],
      "execution_count": null,
      "outputs": []
    },
    {
      "cell_type": "code",
      "metadata": {
        "id": "6W7FnhJ7vMfe",
        "outputId": "d54bf22f-a2cf-480f-9ac7-a872c04c49bd"
      },
      "source": [
        "pisanie()"
      ],
      "execution_count": null,
      "outputs": [
        {
          "output_type": "stream",
          "text": [
            "*********************\n"
          ],
          "name": "stdout"
        }
      ]
    },
    {
      "cell_type": "code",
      "metadata": {
        "id": "M-x9i_S7vMfe"
      },
      "source": [
        "# funkcja z argumentem\n",
        "def wartosc(x):\n",
        "    return 2*x*x+3*x+4"
      ],
      "execution_count": null,
      "outputs": []
    },
    {
      "cell_type": "code",
      "metadata": {
        "id": "8Yx0tfgqvMff",
        "outputId": "10a3fe6d-7057-4346-e41b-fd5b1e2db76c"
      },
      "source": [
        "print(wartosc(1))"
      ],
      "execution_count": null,
      "outputs": [
        {
          "output_type": "stream",
          "text": [
            "9\n"
          ],
          "name": "stdout"
        }
      ]
    },
    {
      "cell_type": "code",
      "metadata": {
        "id": "oRApyOBtvMff",
        "outputId": "e0430551-9a65-4aa7-cfa1-636d4e07aa2f"
      },
      "source": [
        "for x in range(10):\n",
        "    print(wartosc(x), end=', ')"
      ],
      "execution_count": null,
      "outputs": [
        {
          "output_type": "stream",
          "text": [
            "4, 9, 18, 31, 48, 69, 94, 123, 156, 193, "
          ],
          "name": "stdout"
        }
      ]
    },
    {
      "cell_type": "code",
      "metadata": {
        "id": "YRzOqGh4vMff"
      },
      "source": [
        "# funkcja dwuargumentowa\n",
        "def value(x, y):\n",
        "    return x*x +x*y + y*y"
      ],
      "execution_count": null,
      "outputs": []
    },
    {
      "cell_type": "code",
      "metadata": {
        "id": "Z_uHB5sTvMfg",
        "outputId": "64592550-dc84-414f-85d0-da36821ef03a"
      },
      "source": [
        "for e in range(5):\n",
        "    for i in range(3):\n",
        "        print(value(e,i), end=', ');break"
      ],
      "execution_count": null,
      "outputs": [
        {
          "output_type": "stream",
          "text": [
            "0, 1, 4, 9, 16, "
          ],
          "name": "stdout"
        }
      ]
    },
    {
      "cell_type": "code",
      "metadata": {
        "id": "60WR2SisvMfg"
      },
      "source": [
        "# wartosc logiczna\n",
        "def bool(x,y):\n",
        "    return x or y"
      ],
      "execution_count": null,
      "outputs": []
    },
    {
      "cell_type": "code",
      "metadata": {
        "id": "H-pbiJpwvMfg",
        "outputId": "21f7082c-7a92-471d-a6a2-56eedd21dc31"
      },
      "source": [
        "x = False\n",
        "y = False\n",
        "bool(x,y)"
      ],
      "execution_count": null,
      "outputs": [
        {
          "output_type": "execute_result",
          "data": {
            "text/plain": [
              "False"
            ]
          },
          "metadata": {
            "tags": []
          },
          "execution_count": 15
        }
      ]
    },
    {
      "cell_type": "code",
      "metadata": {
        "id": "ldZAc3p5vMfh"
      },
      "source": [
        "def wiek(arg):\n",
        "    switcher = {\n",
        "    16: 'Ania',\n",
        "    18: 'Janek',\n",
        "    14: 'Kasia',\n",
        "    15: 'Staś'\n",
        "    }\n",
        "    return switcher.get(arg, 'Błąd')\n"
      ],
      "execution_count": null,
      "outputs": []
    },
    {
      "cell_type": "code",
      "metadata": {
        "id": "1OCzDaNUvMfh",
        "outputId": "c0eb2197-73ca-4d68-f6ff-1bd1c0d79fa8"
      },
      "source": [
        "print(wiek(10))"
      ],
      "execution_count": null,
      "outputs": [
        {
          "output_type": "stream",
          "text": [
            "Błąd\n"
          ],
          "name": "stdout"
        }
      ]
    },
    {
      "cell_type": "code",
      "metadata": {
        "id": "SXgGxiYcvMfh"
      },
      "source": [
        "def dow(arg):\n",
        "    switcher = {\n",
        "        1: 'Pon',\n",
        "        2: 'Wto',\n",
        "        3: 'Sro',\n",
        "        4: 'Czw',\n",
        "        5: 'Pia',\n",
        "        6: 'Sob',\n",
        "        7: 'Niedz'\n",
        "    }\n",
        "    return switcher.get(arg, 'poza zakresem')"
      ],
      "execution_count": null,
      "outputs": []
    },
    {
      "cell_type": "code",
      "metadata": {
        "id": "XDrFgOrZvMfh",
        "outputId": "558d3fad-6e2f-4249-e3ac-f7a52e1c1a98"
      },
      "source": [
        "print(dow(5))"
      ],
      "execution_count": null,
      "outputs": [
        {
          "output_type": "stream",
          "text": [
            "Pia\n"
          ],
          "name": "stdout"
        }
      ]
    },
    {
      "cell_type": "code",
      "metadata": {
        "id": "v_04DvSCvMfi"
      },
      "source": [
        "def miesiac(arg):\n",
        "    switcher = {\n",
        "        1 : 'Styczeń',\n",
        "        2 : 'Luty',\n",
        "        3 : 'Marzec',\n",
        "        4 : 'Kwiecień',\n",
        "        5 : 'Maj',\n",
        "        6 : 'Czerwiec',\n",
        "        7 : 'Lipiec',\n",
        "        8 : 'Sierpień',\n",
        "        9 : 'Wrzesień',\n",
        "        10 : 'Październik',\n",
        "        11 : 'Listopad',\n",
        "        12 : 'Grudzień'\n",
        "    }\n",
        "    return switcher.get(arg, 'zły numer')\n",
        "    "
      ],
      "execution_count": null,
      "outputs": []
    },
    {
      "cell_type": "code",
      "metadata": {
        "id": "Tty0iOnXvMfi",
        "outputId": "e4aee94a-6a6d-4ac7-8d70-604aa6ce7c47"
      },
      "source": [
        "print(miesiac(4))"
      ],
      "execution_count": null,
      "outputs": [
        {
          "output_type": "stream",
          "text": [
            "Kwiecień\n"
          ],
          "name": "stdout"
        }
      ]
    },
    {
      "cell_type": "code",
      "metadata": {
        "id": "pZE20fbJvMfi",
        "outputId": "57eb6ac2-81f6-469b-a084-0c836043e3e0"
      },
      "source": [
        "x = 0\n",
        "while x <= 7:\n",
        "    x = int(input('podaj nr dnia '))\n",
        "    print(dow(x))\n",
        "    if x > 7:\n",
        "        break"
      ],
      "execution_count": null,
      "outputs": [
        {
          "output_type": "stream",
          "text": [
            "podaj nr dnia  2\n"
          ],
          "name": "stdin"
        },
        {
          "output_type": "stream",
          "text": [
            "Wto\n"
          ],
          "name": "stdout"
        },
        {
          "output_type": "stream",
          "text": [
            "podaj nr dnia  3\n"
          ],
          "name": "stdin"
        },
        {
          "output_type": "stream",
          "text": [
            "Sro\n"
          ],
          "name": "stdout"
        },
        {
          "output_type": "stream",
          "text": [
            "podaj nr dnia  4\n"
          ],
          "name": "stdin"
        },
        {
          "output_type": "stream",
          "text": [
            "Czw\n"
          ],
          "name": "stdout"
        },
        {
          "output_type": "stream",
          "text": [
            "podaj nr dnia  7\n"
          ],
          "name": "stdin"
        },
        {
          "output_type": "stream",
          "text": [
            "Niedz\n"
          ],
          "name": "stdout"
        },
        {
          "output_type": "stream",
          "text": [
            "podaj nr dnia  8\n"
          ],
          "name": "stdin"
        },
        {
          "output_type": "stream",
          "text": [
            "poza zakresem\n"
          ],
          "name": "stdout"
        }
      ]
    },
    {
      "cell_type": "code",
      "metadata": {
        "id": "Jn7DAxgtvMfi",
        "outputId": "2860822b-b95b-4032-b40c-5c9b1de0d76d"
      },
      "source": [
        "for i in range(1,100):\n",
        "    if i%7 == 0:\n",
        "        print(i, end = ', ')\n",
        "    if i % 21 == 0:\n",
        "        break"
      ],
      "execution_count": null,
      "outputs": [
        {
          "output_type": "stream",
          "text": [
            "7, 14, 21, "
          ],
          "name": "stdout"
        }
      ]
    },
    {
      "cell_type": "code",
      "metadata": {
        "id": "ORiKfqduvMfj"
      },
      "source": [
        "def fibo(n):\n",
        "    if n == 0:\n",
        "        return 1\n",
        "    if n == 1:\n",
        "        return 1\n",
        "    return fibo(n-2)+fibo(n-1)"
      ],
      "execution_count": null,
      "outputs": []
    },
    {
      "cell_type": "code",
      "metadata": {
        "id": "6Nb2FbPOvMfj",
        "outputId": "e0d94bd7-4a06-42aa-c5b8-3e9ead0e298c"
      },
      "source": [
        "n = int(input('Podaj liczbe do fibo '))\n",
        "print(fibo(n))"
      ],
      "execution_count": null,
      "outputs": [
        {
          "output_type": "stream",
          "text": [
            "Podaj liczbe do fibo  35\n"
          ],
          "name": "stdin"
        },
        {
          "output_type": "stream",
          "text": [
            "14930352\n"
          ],
          "name": "stdout"
        }
      ]
    },
    {
      "cell_type": "code",
      "metadata": {
        "id": "wtRXctZXvMfj"
      },
      "source": [
        ""
      ],
      "execution_count": null,
      "outputs": []
    }
  ]
}