{
 "cells": [
  {
   "cell_type": "markdown",
   "metadata": {},
   "source": [
    "## Lekcja 5 ##\n",
    "\n",
    "## Programowanie w Python 3 ##"
   ]
  },
  {
   "cell_type": "markdown",
   "metadata": {},
   "source": [
    "**Przypomnienie o zmiennych**\n"
   ]
  },
  {
   "cell_type": "code",
   "execution_count": 7,
   "metadata": {},
   "outputs": [],
   "source": [
    "a = 2#zmienna liczbowa całkowita\n",
    "b = 3.0#zmiena liczbowa typu float\n",
    "c = 'Jak się masz?'#zmienna typu łańcuchohwego (string)\n",
    "d = True#zmienna typu logicznego"
   ]
  },
  {
   "cell_type": "code",
   "execution_count": 8,
   "metadata": {},
   "outputs": [
    {
     "name": "stdout",
     "output_type": "stream",
     "text": [
      "2\n",
      "3.0\n",
      "Jak się masz?\n",
      "True\n"
     ]
    }
   ],
   "source": [
    "print(a)\n",
    "print(b)\n",
    "print(c)\n",
    "print(d)"
   ]
  },
  {
   "cell_type": "markdown",
   "metadata": {},
   "source": [
    "**1. Pętle**"
   ]
  },
  {
   "cell_type": "code",
   "execution_count": 9,
   "metadata": {},
   "outputs": [
    {
     "name": "stdout",
     "output_type": "stream",
     "text": [
      "10, 8, 6, 4, 2, 0, "
     ]
    }
   ],
   "source": [
    "# pętla typu for\n",
    "for i in range(10,-1,-2):\n",
    "    print(i, end = ', ')"
   ]
  },
  {
   "cell_type": "markdown",
   "metadata": {},
   "source": [
    "**Zadanie**\n",
    "\n",
    "Dana jest lista 10 liczb. Wypisz liczby ujemne."
   ]
  },
  {
   "cell_type": "code",
   "execution_count": 31,
   "metadata": {},
   "outputs": [],
   "source": [
    "list = [2, -4, 3, -8, 5, 6, -9, -10, 11, 20, 23, -32, 'bocian']"
   ]
  },
  {
   "cell_type": "code",
   "execution_count": 11,
   "metadata": {},
   "outputs": [
    {
     "name": "stdout",
     "output_type": "stream",
     "text": [
      "-4, -8, -9, -10, "
     ]
    }
   ],
   "source": [
    "for i in list:\n",
    "    if i < 0:\n",
    "        print(i, end = ', ')"
   ]
  },
  {
   "cell_type": "code",
   "execution_count": 12,
   "metadata": {},
   "outputs": [
    {
     "name": "stdout",
     "output_type": "stream",
     "text": [
      "suma liczb dodatnich wynosi suma =    47\n"
     ]
    }
   ],
   "source": [
    "# oblicamy sumę liczb dodatnich\n",
    "suma = 0\n",
    "for i in list:\n",
    "    if i > 0:\n",
    "        suma += i\n",
    "print('suma liczb dodatnich wynosi suma =   ', suma)"
   ]
  },
  {
   "cell_type": "code",
   "execution_count": 13,
   "metadata": {},
   "outputs": [
    {
     "name": "stdout",
     "output_type": "stream",
     "text": [
      "2, -4, 3, -8, 5, 6, -9, -10, 11, 20, "
     ]
    }
   ],
   "source": [
    "# drukowanie listy (najprościej)\n",
    "for i in list:\n",
    "    print(i, end=', ')"
   ]
  },
  {
   "cell_type": "code",
   "execution_count": 14,
   "metadata": {},
   "outputs": [
    {
     "name": "stdout",
     "output_type": "stream",
     "text": [
      "[2, -4, 3, -8, 5, 6, -9, -10, 11, 20]\n"
     ]
    }
   ],
   "source": [
    "print(list)"
   ]
  },
  {
   "cell_type": "code",
   "execution_count": 15,
   "metadata": {},
   "outputs": [
    {
     "name": "stdout",
     "output_type": "stream",
     "text": [
      "2, -4, 3, -8, 5, 6, -9, -10, "
     ]
    }
   ],
   "source": [
    "# break czyli przerwanie\n",
    "for i in list:\n",
    "    if i > 10:\n",
    "        break\n",
    "    print(i, end=', ')"
   ]
  },
  {
   "cell_type": "code",
   "execution_count": 16,
   "metadata": {},
   "outputs": [
    {
     "name": "stdout",
     "output_type": "stream",
     "text": [
      "0, 1, 2, 3, 4, 5, 6, 7, 8, 9, "
     ]
    }
   ],
   "source": [
    "# pętla while\n",
    "e = 0\n",
    "while e < 10:\n",
    "    print(e, end=', ')\n",
    "    e+=1"
   ]
  },
  {
   "cell_type": "code",
   "execution_count": 18,
   "metadata": {},
   "outputs": [
    {
     "name": "stdout",
     "output_type": "stream",
     "text": [
      "1, 2, 3, 4, 5, 6, 7, "
     ]
    }
   ],
   "source": [
    "# zatrzymja wypisywanie na liczbie podzielnej przez 7\n",
    "e = 1\n",
    "while e<10:\n",
    "    print(e, end= ', ')\n",
    "    if e%7 == 0:\n",
    "        break\n",
    "    e+=1"
   ]
  },
  {
   "cell_type": "code",
   "execution_count": 19,
   "metadata": {},
   "outputs": [
    {
     "name": "stdout",
     "output_type": "stream",
     "text": [
      "3.1415927\n"
     ]
    }
   ],
   "source": [
    "b = 3.1415927\n",
    "print(b)"
   ]
  },
  {
   "cell_type": "code",
   "execution_count": 20,
   "metadata": {},
   "outputs": [
    {
     "name": "stdout",
     "output_type": "stream",
     "text": [
      "0.1415926999999999\n"
     ]
    }
   ],
   "source": [
    "print(b%1)"
   ]
  },
  {
   "cell_type": "code",
   "execution_count": 21,
   "metadata": {},
   "outputs": [
    {
     "name": "stdout",
     "output_type": "stream",
     "text": [
      "3.0\n"
     ]
    }
   ],
   "source": [
    "print(b//1)"
   ]
  },
  {
   "cell_type": "code",
   "execution_count": 27,
   "metadata": {},
   "outputs": [
    {
     "name": "stdout",
     "output_type": "stream",
     "text": [
      "1, 2, 3, 4, 5, 6, 7, 8, 9, 10, 11, 12, 13, 14, 15, "
     ]
    }
   ],
   "source": [
    "# pętla nieskońćzona while\n",
    "e = 1\n",
    "while e<20:\n",
    "    print(e, end= ', ')\n",
    "    if e%15 == 0:\n",
    "        break\n",
    "    e+=1"
   ]
  },
  {
   "cell_type": "code",
   "execution_count": 28,
   "metadata": {},
   "outputs": [
    {
     "name": "stdout",
     "output_type": "stream",
     "text": [
      "[2, -4, 3, -8, 5, 6, -9, -10, 11, 20]\n"
     ]
    }
   ],
   "source": [
    "print(list)"
   ]
  },
  {
   "cell_type": "code",
   "execution_count": 29,
   "metadata": {},
   "outputs": [
    {
     "name": "stdout",
     "output_type": "stream",
     "text": [
      "10\n"
     ]
    }
   ],
   "source": [
    "print(len(list))"
   ]
  },
  {
   "cell_type": "code",
   "execution_count": 35,
   "metadata": {},
   "outputs": [
    {
     "name": "stdout",
     "output_type": "stream",
     "text": [
      "2, -4, 3, -8, 5, 6, -9, -10, 11, 20, 23, -32, 45, "
     ]
    }
   ],
   "source": [
    "for i in range(len(list)):\n",
    "    print(list[i], end=', ')"
   ]
  },
  {
   "cell_type": "code",
   "execution_count": 33,
   "metadata": {},
   "outputs": [
    {
     "name": "stdout",
     "output_type": "stream",
     "text": [
      "[2, -4, 3, -8, 5, 6, -9, -10, 11, 20, 23, -32]\n"
     ]
    }
   ],
   "source": [
    "list.pop()\n",
    "print(list)"
   ]
  },
  {
   "cell_type": "code",
   "execution_count": 34,
   "metadata": {},
   "outputs": [
    {
     "name": "stdout",
     "output_type": "stream",
     "text": [
      "[2, -4, 3, -8, 5, 6, -9, -10, 11, 20, 23, -32, 45]\n"
     ]
    }
   ],
   "source": [
    "list.append(45)\n",
    "print(list)"
   ]
  },
  {
   "cell_type": "markdown",
   "metadata": {},
   "source": [
    "**Zadanie**\n",
    "\n",
    "Oblicz sumę 10000 wyrazów ciągu geometrycznego, którego q=0.5, wyraz a1 = 1.\n"
   ]
  },
  {
   "cell_type": "code",
   "execution_count": 37,
   "metadata": {},
   "outputs": [
    {
     "name": "stdout",
     "output_type": "stream",
     "text": [
      "suma 5000 wyrazow tego ciagu wynosi suma =   2.0\n"
     ]
    }
   ],
   "source": [
    "suma = 0\n",
    "a = 1\n",
    "q = 0.5\n",
    "for i in range(5000):\n",
    "    suma += a\n",
    "    a*=q\n",
    "print('suma 5000 wyrazow tego ciagu wynosi suma =  ', suma)"
   ]
  },
  {
   "cell_type": "code",
   "execution_count": null,
   "metadata": {},
   "outputs": [],
   "source": []
  }
 ],
 "metadata": {
  "kernelspec": {
   "display_name": "Python 3",
   "language": "python",
   "name": "python3"
  },
  "language_info": {
   "codemirror_mode": {
    "name": "ipython",
    "version": 3
   },
   "file_extension": ".py",
   "mimetype": "text/x-python",
   "name": "python",
   "nbconvert_exporter": "python",
   "pygments_lexer": "ipython3",
   "version": "3.7.3"
  }
 },
 "nbformat": 4,
 "nbformat_minor": 2
}
